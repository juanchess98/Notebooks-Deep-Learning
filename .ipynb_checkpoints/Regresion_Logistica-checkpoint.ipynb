{
 "cells": [
  {
   "cell_type": "markdown",
   "metadata": {
    "colab_type": "text",
    "id": "view-in-github"
   },
   "source": [
    "<a href=\"https://colab.research.google.com/github/juanchess98/Notebooks-Deep-Learning/blob/regresion-logistica/Regresi%C3%B3n_Logistica.ipynb\" target=\"_parent\"><img src=\"https://colab.research.google.com/assets/colab-badge.svg\" alt=\"Open In Colab\"/></a>"
   ]
  },
  {
   "cell_type": "markdown",
   "metadata": {
    "id": "gtC5lHSvH0ni"
   },
   "source": [
    "# Regresión Logística"
   ]
  },
  {
   "cell_type": "markdown",
   "metadata": {
    "id": "DnPtZ5KmKCaN"
   },
   "source": [
    "La regresión logística es un métdo de clasificación binaria, es decir, la variable dependiente sólo puede tomar dos valores: Verdadero ó Falso, 1 ó 0, etc.\n",
    "\n",
    "Se denomina regresión logística ya que el corazón del método es la llamada función logística o función sigmoide, la cual es de la forma:"
   ]
  },
  {
   "cell_type": "markdown",
   "metadata": {
    "id": "KDN1UAC_MOPQ"
   },
   "source": [
    "\\begin{equation}\n",
    "  \\sigma(z)=\\frac{1}{1+e^{-z}}\n",
    "\\end{equation}"
   ]
  },
  {
   "cell_type": "markdown",
   "metadata": {
    "id": "q2ecYoRbQAFo"
   },
   "source": [
    "Se usa el método de regresión logística para modelar variables dependientes binarias en lugar de la regresión lineal, ya que esta última, para valores que se encuentran en los extremos de la recta predicha entrega valores menores a cero y mayores a uno. Esto va en contra de la definición teórica de probabilidad, según la cual estas están en el rango $[0, 1]$.\n",
    "\n",
    "Entonces el método de regresión logística utiliza la recta generada por la regresión lineal pero la pasa por la función sigmoide para que el resultado siempre esté entre 0 y 1. En otras palabras, el problema de regresión se convierte en un problema de clasificación.\n",
    "\n",
    "Dado un conjunto de datos, suponemos que podemos modelarlo con una expresión matemática de la forma:\n",
    "\n",
    "\\begin{equation}\n",
    "y=wx+b\n",
    "\\end{equation}\n",
    "\n",
    "Esta ecuación es una representación lineal de la relación que existe entre los datos de entrada $x$ (características) y la salida $y$. Donde $y$ se puede expresar de la forma:\n"
   ]
  },
  {
   "cell_type": "markdown",
   "metadata": {
    "id": "cStkRRLwR99J"
   },
   "source": [
    "\\begin{equation}\n",
    "\\hat{y}^{(i)}=w_0+w_1x_1^{(i)}+w_2x_2^{(i)}+...+w_nx_n^{(i)}\n",
    "\\end{equation}"
   ]
  },
  {
   "cell_type": "markdown",
   "metadata": {
    "id": "IXYCKwrTSDbh"
   },
   "source": [
    "Para clasificación se necesita acotar este resultado a valores de $y$ entre $[0, 1]$ por lo que necesitamos pasar este resultado a través de la función de activación sigmoide:"
   ]
  },
  {
   "cell_type": "markdown",
   "metadata": {
    "id": "l06f4M4-SIB7"
   },
   "source": [
    " \\begin{equation}\n",
    "  \\sigma(\\hat y)=P(\\hat{y}^{(i)}=1)=\\frac{1}{1+e^{-(w_0+w_1x_1^{(i)}+w_2x_2^{(i)}+...+w_nx_n^{(i)})}}\n",
    "\\end{equation}"
   ]
  },
  {
   "cell_type": "markdown",
   "metadata": {},
   "source": [
    "Para realizar el entrenamiento queremos minimizar una función de costo por medio de gradiente descendente. Esta función que elegimos se llama \"Entropía binaria cruzada\".\n",
    "\n"
   ]
  },
  {
   "cell_type": "markdown",
   "metadata": {
    "id": "7ViOfUwgSeYN"
   },
   "source": [
    "Gráficamente la función sigmoide tiene la siguiente forma:"
   ]
  },
  {
   "cell_type": "code",
   "execution_count": 2,
   "metadata": {
    "id": "nIirLhC1nO3z"
   },
   "outputs": [],
   "source": [
    "import helpers\n",
    "import numpy as np\n",
    "import matplotlib.pyplot as plt"
   ]
  },
  {
   "cell_type": "code",
   "execution_count": 3,
   "metadata": {
    "colab": {
     "base_uri": "https://localhost:8080/"
    },
    "id": "8kVyF5MKXHfB",
    "outputId": "8dda90ee-11e4-4e54-bbde-edb3099d3b0c"
   },
   "outputs": [],
   "source": [
    "%load_ext autoreload\n",
    "%autoreload 2"
   ]
  },
  {
   "cell_type": "code",
   "execution_count": 4,
   "metadata": {
    "colab": {
     "base_uri": "https://localhost:8080/",
     "height": 316
    },
    "id": "_hWq2s5oUm0T",
    "outputId": "c36a7b97-2b69-4c71-acc3-ddcb36c14a49",
    "scrolled": true
   },
   "outputs": [
    {
     "data": {
      "image/png": "[encoded data removed]",
      "text/plain": [
       "<Figure size 432x288 with 1 Axes>"
      ]
     },
     "metadata": {
      "needs_background": "light"
     },
     "output_type": "display_data"
    }
   ],
   "source": [
    "sigmoide = lambda x: 1/(1+np.exp(-x))\n",
    "senal = helpers.crear_db(sigmoide, ruido=0, rango=(-10, 10))\n",
    "helpers.plot_data(senal[0], senal[1], label='Sigmoide')"
   ]
  },
  {
   "cell_type": "markdown",
   "metadata": {},
   "source": [
    "### Función de costo\n",
    "\n",
    "Ya que estamos en la tarea de realizar un clasificador binario, esto lo que implica es que se debe diseñar un clasificador que distinga entre dos clases. Es decir, que dada una característica pueda decir a que clase pertenece o cual es la probabilidad de que pertenezca a una de las dos clases.\n",
    "\n",
    "Al entrenar un modelo para predecir entre estas dos clases, este entregará la probabilidad de que un dato de entrada cualquiera pertenezca a una de las dos clases.\n",
    "\n",
    "La tarea que cumple la función de costo es predecir que tan buena o mala es esta predicción. Para esto se debe encontrar el argumento que minimice la función por medio de un optimizador como, por ejemplo, gradiente descendente. \n",
    "\n",
    "Habiendo encontrado este punto mínimo se puede decir que valores altos de la función de costo indican una mala predicción y valores bajos buenas predicciones.\n",
    "\n",
    "Una función de costo típica en problemas de clasificación binaria es la función de entropía cruzada binaria."
   ]
  },
  {
   "cell_type": "markdown",
   "metadata": {},
   "source": [
    "### Función entropía cruzada binaria\n",
    "\n",
    "La función entropía cruzada binaria tiene la siguiente expresión matemática:\n",
    "\n",
    "$$H_p(q)= -\\frac{1}{N} \\sum_{i=1}^{N}y_i \\cdot log(p(y_i))+(1-y_i) \\cdot log(1-p(y_i))$$\n",
    "\n",
    "\n",
    "Donde $y$ es el vector de etiquetas y $p(y)$ la probabilidad de que dicha etiqueta pertenezca a la clase(...), y N es el número total de datos de entrenamiento.\n",
    "\n",
    "Esta expresión matemática se deriva del concepto de entropía, que es una medida de la incertidumbre asociada a una distribución de probabilidad $q(y)$.\n",
    "\n",
    "En este orden de ideas, si todos los puntos de la distribución pertenecen a una misma clase la incertidumbtre sería de igual a $0$. Y en el peor de los casos, cuando la mitad de los datos pertenecen a una clase y la otra mitad pertenecen a la otra clase, la entropía viene dada por la siguiente expresión:\n",
    "\n",
    "$$H(q)=log(2)$$\n",
    "\n",
    "Para todos los otros casos la entropía viene dada por:\n",
    "\n",
    "$$H(q)=-\\sum_{c=1}^C q(y_c) \\cdot log(q(y_c))$$\n",
    "\n",
    "Sin embargo, en el caso del aprendizaje de máquinas no se conoce la distribución $q(y)$ a priori, sino que tratamos de aproximarnos a ella mediante otra distribución $p(y)$. Es decir, se asume que los datos vienen de $p(y)$ pero se sabe que en realidad obedecen la distribución $q(y)$.\n",
    "\n",
    "Esto se conoce como la entropía cruzada entre las dos distribuciones y se puede expresar de la siguiente forma:\n",
    "\n",
    "$$H_p(q)=-\\sum_{c=1}^{C} q(y_c) \\cdot log(p(y_c))$$\n",
    "\n",
    "Idealmente $H(q)=H_p(q)$ pero para que esto se de las dos distribuciones deben ser iguales también $q(y)=p(y)$, pero esto es poco probable, teniendose que en la mayoría de los casos la entropía cruzada $H_p(q)$ es mayor a la entropía $H(q)$.\n",
    "\n",
    "$$H_p(q)-H(q) \\geq 0$$\n",
    "\n",
    "Esta diferencia se conoce como la divergencia de Kullback-Leibler y sirve para medir la disimilaridad entre las dos distribuciones:\n",
    "\n",
    "$$D_{KL}(q||p)=H_p(q)-H(q)=\\sum_{c=1}^{C} q(y_c) \\cdot [log(q(y_c))-log(p(y_c))]$$\n",
    "\n",
    "La anterior expresión indica que entre más cerca esté $p(y)$ de $q(y)$, menor será el valor de la divergencia y, por lo tanto, menor la entropía cruzada.\n",
    "\n",
    "La tarea de un clasificador es entonces encontrar la distribución el mejor $p(y)$ que minimice la entropía cruzada.\n",
    "\n",
    "Durante el entrenamiento, el clasificador usa los $N$ datos de entrenamiento para calcular la función de costo y encontrar la distribución $p(y)$ óptima:\n",
    "\n",
    "$$H_p(q)=-\\frac{1}{N}\\sum_{c=1}^{C} log(p(y_i))$$\n",
    "\n",
    "Con un poco de manipulación matemática se tiene que para cualquier dato:\n",
    "\n",
    "$$H_p(q)= -\\frac{1}{N} \\sum_{i=1}^{N}y_i \\cdot log(p(y_i))+(1-y_i) \\cdot log(1-p(y_i))$$"
   ]
  },
  {
   "cell_type": "markdown",
   "metadata": {
    "id": "tIhjQ_x6IHQf"
   },
   "source": [
    "# Implementacion de Regresión Logística en Keras de Tensorflow 2"
   ]
  },
  {
   "cell_type": "markdown",
   "metadata": {},
   "source": [
    "#### Se carga la API Keras corriendo sobre la plataforma Tensorflow 2."
   ]
  },
  {
   "cell_type": "code",
   "execution_count": 6,
   "metadata": {},
   "outputs": [],
   "source": [
    "import tensorflow.keras as keras\n",
    "import tensorflow as tf"
   ]
  },
  {
   "cell_type": "markdown",
   "metadata": {},
   "source": [
    "#### Se crean datos artificiales con la clase datasets de sklearn.\n",
    "\n",
    "En este ejercicio se crean 100 datos aleatorios repartidos en dos clases. Estos datos se dividen luego en 80% para clasificación 10% para validación y el 10% restante para prueba."
   ]
  },
  {
   "cell_type": "code",
   "execution_count": 5,
   "metadata": {
    "colab": {
     "base_uri": "https://localhost:8080/",
     "height": 228
    },
    "id": "P1y1pLv2IC5R",
    "outputId": "bdb62b79-dafc-4993-ddeb-824d7a25bb87"
   },
   "outputs": [],
   "source": [
    "from sklearn import datasets\n",
    "import matplotlib.pyplot as plt"
   ]
  },
  {
   "cell_type": "code",
   "execution_count": 7,
   "metadata": {},
   "outputs": [
    {
     "data": {
      "text/plain": [
       "<matplotlib.collections.PathCollection at 0x7f239f38c220>"
      ]
     },
     "execution_count": 7,
     "metadata": {},
     "output_type": "execute_result"
    },
    {
     "data": {
      "image/png": "[encoded data removed]",
      "text/plain": [
       "<Figure size 432x288 with 2 Axes>"
      ]
     },
     "metadata": {
      "needs_background": "light"
     },
     "output_type": "display_data"
    }
   ],
   "source": [
    "X_, y_ = datasets.make_classification(n_samples=100, n_features = 2, random_state=1, n_redundant=0)\n",
    "\n",
    "fig = plt.figure()#(figsize=(5.0, 4.0))\n",
    "ax = fig.add_subplot(211)\n",
    "ax.scatter(X_[:,0],X_[:,1],s=15,c=y_.squeeze(),cmap='jet')\n",
    "\n",
    "ax1 = fig.add_subplot(212)\n",
    "r=np.where(sigmoide(X_[:,0]) > 0.5, 1, 0)\n",
    "ax1.scatter(X_[:,0], r, s=15,c=y_.squeeze(),cmap='jet')"
   ]
  },
  {
   "cell_type": "markdown",
   "metadata": {},
   "source": [
    "## 1. Implementación de Regresión Logística usando el modo funcional de keras"
   ]
  },
  {
   "cell_type": "markdown",
   "metadata": {},
   "source": [
    "La API funcional de Keras es el modo más flexible de crear modelos en esta API ya que permite implementar topologías no-lineales, compartir capas y modelos de múltiples entradas-múltiples salidas.\n",
    "\n",
    "La idea detrás de esto es que un modelo de aprendizaje profundo es un grafo acíclico dirigido (DAG, por sus siglas en inglés) de capas. Por lo tanto la API funcional es un modo de construir grafos de capas."
   ]
  },
  {
   "cell_type": "markdown",
   "metadata": {},
   "source": [
    "### Se crea el modelo para el ejercicio de regresión logística:"
   ]
  },
  {
   "cell_type": "code",
   "execution_count": 8,
   "metadata": {
    "id": "IFX9gNNKIhtw"
   },
   "outputs": [],
   "source": [
    "def reg_logistica(dim):\n",
    "\n",
    "    \"\"\"\n",
    "    Implementación con Keras funcional\n",
    "    \"\"\"\n",
    "    \n",
    "    # Se comienza a crear el grafo creando un nodo de entrada con la función Input y en cuyo argumento se\n",
    "    # especifica el numero de características de la entrada.\n",
    "    # Ejm: En el caso de una imagen RGB de 24x24 pixeles: dim = (24, 24, 3)\n",
    "    \n",
    "    inputs = tf.keras.layers.Input(shape=dim)\n",
    "    \n",
    "    # Ahora se crea un nuevo nodo en el grafo de capas. Se pasa lo que hay en inputs \n",
    "    # por una capa densa y el resultado se pasa por la función de activación sigmoide.\n",
    "    # El resultado 'outputs' es un tensor de dimensión 1.\n",
    "    preds = tf.keras.layers.Dense(1, activation='sigmoid')(inputs)\n",
    "    \n",
    "    # Se crea el modelo\n",
    "    model = tf.keras.models.Model(inputs=inputs,outputs=preds)\n",
    "    \n",
    "    return model"
   ]
  },
  {
   "cell_type": "code",
   "execution_count": 9,
   "metadata": {},
   "outputs": [
    {
     "data": {
      "image/png": "[encoded data removed]",
      "text/plain": [
       "<IPython.core.display.Image object>"
      ]
     },
     "execution_count": 9,
     "metadata": {},
     "output_type": "execute_result"
    }
   ],
   "source": [
    "model_logistic = reg_logistica(X_[:80,:].shape[1])\n",
    "keras.utils.plot_model(model_logistic, show_shapes=True)"
   ]
  },
  {
   "cell_type": "markdown",
   "metadata": {},
   "source": [
    "### Compilación del modelo"
   ]
  },
  {
   "cell_type": "markdown",
   "metadata": {},
   "source": [
    "El entrenamiento, evaluación y predicción funcionan de la misma forma tanto en el modelo funcional como en el modelo secuencial de Keras.\n",
    "\n",
    "Antes de entrenar el modelo se debe especificar la función de costo que se va a utilizar, un optimizador y, opcionalmente, una métrica para evaluar modelo. Se define descenso del gradiente como optimizador de la función de costo entropía cruzada binaria y se compila el modelo que se evaluará con la métrica precisión binaria. El parámetro \"metrics\" es una lista donde se puede incluir cualquier número de métricas con las cuales se quiera evaluar el entrenamiento.\n",
    "\n",
    "Keras incorpora varias funciones de costo, optimizadores y metricas que están disponibles por defecto, algunas de ellas son:\n",
    "\n",
    "Optimizadores:\n",
    "\n",
    " - SGD\n",
    " - RMSprop\n",
    " - Adam\n",
    "\n",
    "Funciones de costo:\n",
    "\n",
    " - MeanSquaredError\n",
    " - KLDivergence\n",
    " - CosineSimilarity\n",
    "\n",
    "Métricas:\n",
    "\n",
    " - AUC\n",
    " - Precision\n",
    " - Recall\n",
    "\n",
    "Asimismo, pueden usarse funciones de costo, optimizadores y métricas definidos por el usuario."
   ]
  },
  {
   "cell_type": "code",
   "execution_count": 10,
   "metadata": {},
   "outputs": [],
   "source": [
    "taza_aprendizaje = 0.5\n",
    "sgd = keras.optimizers.SGD(lr=taza_aprendizaje)\n",
    "model_logistic.compile(optimizer=sgd, loss='binary_crossentropy', metrics=['binary_accuracy'])"
   ]
  },
  {
   "cell_type": "markdown",
   "metadata": {},
   "source": [
    "### Entrenamiento"
   ]
  },
  {
   "cell_type": "markdown",
   "metadata": {},
   "source": [
    "Para el entrenamiento se emplea la función \"fit\", la cual parte los datos en batches, en este caso un solo batch, e itera sobre todo el dataset un determinado número de épocas. El método retorna un historial donde se encuentra el valor de la función de costo y de la métrica de evaluación durante cada época de entrenamiento."
   ]
  },
  {
   "cell_type": "code",
   "execution_count": 43,
   "metadata": {},
   "outputs": [
    {
     "name": "stdout",
     "output_type": "stream",
     "text": [
      "Epoch 1/5\n",
      "80/80 [==============================] - 0s 743us/step - loss: 0.0463 - binary_accuracy: 0.9750\n",
      "Epoch 2/5\n",
      "80/80 [==============================] - 0s 866us/step - loss: 0.0489 - binary_accuracy: 0.9750\n",
      "Epoch 3/5\n",
      "80/80 [==============================] - 0s 866us/step - loss: 0.0487 - binary_accuracy: 0.9750\n",
      "Epoch 4/5\n",
      "80/80 [==============================] - 0s 816us/step - loss: 0.0485 - binary_accuracy: 0.9750\n",
      "Epoch 5/5\n",
      "80/80 [==============================] - 0s 836us/step - loss: 0.0483 - binary_accuracy: 0.9750\n"
     ]
    }
   ],
   "source": [
    "history = model_logistic.fit(X_[:80,:], y_[:80], batch_size=1, epochs=5, shuffle=False)"
   ]
  },
  {
   "cell_type": "code",
   "execution_count": 38,
   "metadata": {},
   "outputs": [
    {
     "name": "stdout",
     "output_type": "stream",
     "text": [
      "dict_keys(['loss', 'binary_accuracy'])\n"
     ]
    }
   ],
   "source": [
    "print(history.history.keys())"
   ]
  },
  {
   "cell_type": "code",
   "execution_count": 39,
   "metadata": {},
   "outputs": [
    {
     "name": "stdout",
     "output_type": "stream",
     "text": [
      "[0.05095420405268669, 0.05349702388048172, 0.05360320955514908, 0.05340296030044556, 0.05313349515199661, 0.05282454937696457, 0.05249698832631111, 0.052162595093250275, 0.051827721297740936, 0.05149583891034126, 0.05116848275065422, 0.050846584141254425, 0.05053035542368889, 0.05021984130144119, 0.04991498216986656]\n"
     ]
    }
   ],
   "source": [
    "print(history.history['loss'])"
   ]
  },
  {
   "cell_type": "code",
   "execution_count": 40,
   "metadata": {},
   "outputs": [
    {
     "data": {
      "text/plain": [
       "[<matplotlib.lines.Line2D at 0x7f233c680df0>]"
      ]
     },
     "execution_count": 40,
     "metadata": {},
     "output_type": "execute_result"
    },
    {
     "data": {
      "image/png": "[encoded data removed]",
      "text/plain": [
       "<Figure size 432x288 with 2 Axes>"
      ]
     },
     "metadata": {
      "needs_background": "light"
     },
     "output_type": "display_data"
    }
   ],
   "source": [
    "fig1 = plt.figure()#(figsize=(5.0, 4.0))\n",
    "ax_ = fig1.add_subplot(211)\n",
    "ax_.set_title('Costo')\n",
    "ax_.plot(history.history['loss'])\n",
    "\n",
    "ax1_ = fig1.add_subplot(212)\n",
    "ax1_.set_title('Binary accuracy')\n",
    "ax1_.plot(history.history['binary_accuracy'])"
   ]
  },
  {
   "cell_type": "code",
   "execution_count": 36,
   "metadata": {},
   "outputs": [
    {
     "name": "stdout",
     "output_type": "stream",
     "text": [
      "Model: \"functional_1\"\n",
      "_________________________________________________________________\n",
      "Layer (type)                 Output Shape              Param #   \n",
      "=================================================================\n",
      "input_1 (InputLayer)         [(None, 2)]               0         \n",
      "_________________________________________________________________\n",
      "dense (Dense)                (None, 1)                 3         \n",
      "=================================================================\n",
      "Total params: 3\n",
      "Trainable params: 3\n",
      "Non-trainable params: 0\n",
      "_________________________________________________________________\n"
     ]
    }
   ],
   "source": [
    "model_logistic.summary()"
   ]
  },
  {
   "cell_type": "code",
   "execution_count": 16,
   "metadata": {},
   "outputs": [
    {
     "name": "stdout",
     "output_type": "stream",
     "text": [
      "2\n",
      "<tf.Variable 'dense/kernel:0' shape=(2, 1) dtype=float32, numpy=\n",
      "array([[5.7338023],\n",
      "       [0.4598806]], dtype=float32)>\n",
      "<tf.Variable 'dense/bias:0' shape=(1,) dtype=float32, numpy=array([1.3847665], dtype=float32)>\n",
      "5.7338023\n",
      "1.3847665\n"
     ]
    }
   ],
   "source": [
    "print(len(model_logistic.layers[1].weights))\n",
    "print(model_logistic.layers[1].weights[0])\n",
    "print(model_logistic.layers[1].weights[1])\n",
    "print(model_logistic.layers[1].get_weights()[0][0][0]) # Este es W\n",
    "print(model_logistic.layers[1].get_weights()[1][0]) # Este es el bias b"
   ]
  },
  {
   "cell_type": "markdown",
   "metadata": {},
   "source": [
    "Los pesos finales de entrenamiento $W$ junto con el bias $b$ se llevan a variables para visualizar"
   ]
  },
  {
   "cell_type": "code",
   "execution_count": 17,
   "metadata": {},
   "outputs": [],
   "source": [
    "W = model_logistic.layers[1].get_weights()[0]\n",
    "b = model_logistic.layers[1].get_weights()[1][0]"
   ]
  },
  {
   "cell_type": "markdown",
   "metadata": {},
   "source": [
    "### Evaluación"
   ]
  },
  {
   "cell_type": "code",
   "execution_count": 21,
   "metadata": {
    "scrolled": true
   },
   "outputs": [
    {
     "name": "stdout",
     "output_type": "stream",
     "text": [
      "1/1 - 0s - loss: 0.0137 - binary_accuracy: 1.0000\n"
     ]
    }
   ],
   "source": [
    "test_scores = model_logistic.evaluate(X_[80:90,:], y_[80:90], verbose=2)"
   ]
  },
  {
   "cell_type": "markdown",
   "metadata": {},
   "source": [
    "### Predicciones\n",
    "\n",
    "Como último paso se aplica el método \"predict\" para calcular las predicciones del modelo ante un dato de entrada cualquiera. En este caso usamos los diez datos que se reservaron para prueba.\n",
    "\n",
    "El método predict retorna la probabilidad de que la entrada pertenezca a una clase u otra. Aplicando un umbral se obtiene el resultado final de la predicción. En este caso obtenemos que 9/10 predicciones realizadas por el modelo fueron correctas para una precisión de 90%."
   ]
  },
  {
   "cell_type": "code",
   "execution_count": 23,
   "metadata": {},
   "outputs": [],
   "source": [
    "predicciones = model_logistic.predict(X_[90:,:])\n",
    "predicciones = np.where(predicciones>0.5, 1, 0).reshape((10,))"
   ]
  },
  {
   "cell_type": "code",
   "execution_count": 25,
   "metadata": {},
   "outputs": [
    {
     "name": "stdout",
     "output_type": "stream",
     "text": [
      "Predicciones = [0 1 1 1 1 1 0 0 1 0]\n",
      "\n",
      "Ground truth = [0 1 1 0 1 1 0 0 1 0]\n"
     ]
    }
   ],
   "source": [
    "print('Predicciones = {}\\n'.format(predicciones))\n",
    "print('Ground truth = {}'.format(y_[90:]))"
   ]
  },
  {
   "cell_type": "code",
   "execution_count": 26,
   "metadata": {},
   "outputs": [
    {
     "name": "stdout",
     "output_type": "stream",
     "text": [
      "9\n"
     ]
    }
   ],
   "source": [
    "res = np.sum(predicciones==y_[90:])\n",
    "print(res)"
   ]
  },
  {
   "cell_type": "markdown",
   "metadata": {},
   "source": [
    "## 2. Implementación de Regresión Logística usando el modelo secuencial de Keras\n",
    "\n",
    "El modelo secuencial de Keras es apropiado para una pila de capas, donde cada capa tiene exactamente un tensor de entrada y un tensor de salida.\n",
    "\n",
    "No se recomienda aplicar un modelo secuencial cuando:\n",
    "\n",
    " - El modelo tiene múltiples entradas o múltiples salidas\n",
    " - Cualquier capa del modelo tiene múltiples entradas o múltiples salidas\n",
    " - Se necesita compartir capas entre modelos\n",
    " - Se va a emplear una topología no lineal (e.g. una conexión residual, un modelo multi-ramas)\n"
   ]
  },
  {
   "cell_type": "markdown",
   "metadata": {},
   "source": [
    "### Creación del modelo secuencial\n",
    "\n",
    "El modelo se crea pasando una lista de capas al constructor secuencial. Existen dos métodos para realizar esto:\n",
    "\n",
    "1. Crear el modelo secuencial incrementalmente por medio del método \"add\":"
   ]
  },
  {
   "cell_type": "code",
   "execution_count": 58,
   "metadata": {
    "id": "9dmGIvwaIaeH"
   },
   "outputs": [],
   "source": [
    "def reg_logistica_sec_1(dim):\n",
    "    model = keras.Sequential()\n",
    "    model.add(keras.Input(dim, ))\n",
    "    model.add(tf.keras.layers.Dense(1, activation='sigmoid'))\n",
    "    \n",
    "    return model"
   ]
  },
  {
   "cell_type": "markdown",
   "metadata": {},
   "source": [
    "2. Pasando una lista de capas al constructor secuencial:"
   ]
  },
  {
   "cell_type": "code",
   "execution_count": 59,
   "metadata": {},
   "outputs": [],
   "source": [
    "def reg_logistica_sec_2(dim):\n",
    "    model = keras.Sequential([\n",
    "        tf.keras.layers.Dense(1, activation=\"sigmoid\")\n",
    "    ])"
   ]
  },
  {
   "cell_type": "markdown",
   "metadata": {},
   "source": [
    "Debido a que el modelo secuencial se comporta como una lista de capas, es posible utilizar métodos propios de las listas como por ejemplo \"pop\" para eliminar una capa.\n",
    "\n",
    "Seguiremos utilizando el constructor del método 1 ya que ambos son equivalentes."
   ]
  },
  {
   "cell_type": "code",
   "execution_count": 72,
   "metadata": {},
   "outputs": [
    {
     "data": {
      "image/png": "[encoded data removed]",
      "text/plain": [
       "<IPython.core.display.Image object>"
      ]
     },
     "execution_count": 72,
     "metadata": {},
     "output_type": "execute_result"
    }
   ],
   "source": [
    "modelo_secuencial = reg_logistica_sec_1(X_[:80,:].shape[1])\n",
    "keras.utils.plot_model(modelo_secuencial, show_shapes=True)"
   ]
  },
  {
   "cell_type": "markdown",
   "metadata": {},
   "source": [
    "### Compilación y entrenamiento\n",
    "\n",
    "Como se dijo anteriormente, el proceso de compilación del modelo y entrenamiento es el mismo para los métodos funcional y secuencial, por lo tanto se procede directamente a utilizarlos con los mismos parámetros, es decir, la misma elección de optimizador, función de costo y métricas:"
   ]
  },
  {
   "cell_type": "code",
   "execution_count": 63,
   "metadata": {},
   "outputs": [],
   "source": [
    "sgd = keras.optimizers.SGD(lr=0.5) #SGD=Stochastic Gradient Descent\n",
    "modelo_secuencial.compile(optimizer=sgd, loss='binary_crossentropy', metrics=['binary_accuracy'])"
   ]
  },
  {
   "cell_type": "code",
   "execution_count": 64,
   "metadata": {},
   "outputs": [
    {
     "name": "stdout",
     "output_type": "stream",
     "text": [
      "Epoch 1/5\n",
      "80/80 [==============================] - 0s 752us/step - loss: 0.0715 - binary_accuracy: 0.9750\n",
      "Epoch 2/5\n",
      "80/80 [==============================] - 0s 782us/step - loss: 0.0697 - binary_accuracy: 0.9750\n",
      "Epoch 3/5\n",
      "80/80 [==============================] - 0s 799us/step - loss: 0.0681 - binary_accuracy: 0.9750\n",
      "Epoch 4/5\n",
      "80/80 [==============================] - 0s 827us/step - loss: 0.0668 - binary_accuracy: 0.9750\n",
      "Epoch 5/5\n",
      "80/80 [==============================] - 0s 821us/step - loss: 0.0657 - binary_accuracy: 0.9750\n"
     ]
    }
   ],
   "source": [
    "history = modelo_secuencial.fit(X_[:80,:], y_[:80], batch_size=1, epochs=5, shuffle=False)"
   ]
  },
  {
   "cell_type": "code",
   "execution_count": 65,
   "metadata": {},
   "outputs": [
    {
     "data": {
      "text/plain": [
       "[<matplotlib.lines.Line2D at 0x7f233c387400>]"
      ]
     },
     "execution_count": 65,
     "metadata": {},
     "output_type": "execute_result"
    },
    {
     "data": {
      "image/png": "[encoded data removed]",
      "text/plain": [
       "<Figure size 432x288 with 2 Axes>"
      ]
     },
     "metadata": {
      "needs_background": "light"
     },
     "output_type": "display_data"
    }
   ],
   "source": [
    "fig2 = plt.figure()#(figsize=(5.0, 4.0))\n",
    "ax_ = fig2.add_subplot(211)\n",
    "ax_.set_title('Costo')\n",
    "ax_.plot(history.history['loss'])\n",
    "\n",
    "ax1_ = fig2.add_subplot(212)\n",
    "ax1_.set_title('Binary accuracy')\n",
    "ax1_.plot(history.history['binary_accuracy'])"
   ]
  },
  {
   "cell_type": "markdown",
   "metadata": {},
   "source": [
    "### Predicción"
   ]
  },
  {
   "cell_type": "code",
   "execution_count": 68,
   "metadata": {},
   "outputs": [],
   "source": [
    "pred_sec = modelo_secuencial.predict(X_[90:,:])\n",
    "pred_sec = np.where(predicciones>0.5, 1, 0).reshape((10,))"
   ]
  },
  {
   "cell_type": "code",
   "execution_count": 69,
   "metadata": {},
   "outputs": [
    {
     "name": "stdout",
     "output_type": "stream",
     "text": [
      "Predicciones = [0 1 1 1 1 1 0 0 1 0]\n",
      "\n",
      "Ground truth = [0 1 1 0 1 1 0 0 1 0]\n"
     ]
    }
   ],
   "source": [
    "print('Predicciones = {}\\n'.format(pred_sec))\n",
    "print('Ground truth = {}'.format(y_[90:]))"
   ]
  },
  {
   "cell_type": "markdown",
   "metadata": {
    "id": "2U4D6pIsIMux"
   },
   "source": [
    "# Implementación de Regresión Logística en Pytorch"
   ]
  },
  {
   "cell_type": "markdown",
   "metadata": {},
   "source": [
    "Como primer paso se caragan las librerías de pytorch"
   ]
  },
  {
   "cell_type": "code",
   "execution_count": 2,
   "metadata": {
    "id": "qyjf__MLWs9k"
   },
   "outputs": [],
   "source": [
    "import torch\n",
    "import torch.nn as nn"
   ]
  },
  {
   "cell_type": "markdown",
   "metadata": {},
   "source": [
    "Se cargan las librerías de Sklearn necesarias para generar los datos"
   ]
  },
  {
   "cell_type": "code",
   "execution_count": 3,
   "metadata": {},
   "outputs": [],
   "source": [
    "from sklearn import datasets\n",
    "from sklearn.preprocessing import StandardScaler\n",
    "from sklearn.model_selection import train_test_split"
   ]
  },
  {
   "cell_type": "code",
   "execution_count": 4,
   "metadata": {},
   "outputs": [],
   "source": [
    "import matplotlib.pyplot as plt\n",
    "import numpy as np"
   ]
  },
  {
   "cell_type": "markdown",
   "metadata": {},
   "source": [
    "Se crean 100 datos artificiales con 6 características, dejando un 20% para pruebas."
   ]
  },
  {
   "cell_type": "code",
   "execution_count": 5,
   "metadata": {
    "id": "Xt-hHHiPWu6Q"
   },
   "outputs": [],
   "source": [
    "X_, y_ = datasets.make_classification(n_samples=100, n_features = 6, random_state=1)\n",
    "X_train, X_test, y_train, y_test = train_test_split(X_, y_, test_size = 0.2, random_state=1)"
   ]
  },
  {
   "cell_type": "markdown",
   "metadata": {},
   "source": [
    "A continuación se extrae la media y se escalan los datos para que la varianza se igual a 1 con la función StandardScaler() de acuerdo con la siguiente ecuación:\n",
    "\n",
    "$$z=\\frac{x-\\mu}{s}$$\n",
    "\n",
    "Donde $x$ es el dato de entrada, $\\mu$ la media de los datos y $s$ la desviación estándar. El resultado $z$ es el dato normalizado.\n",
    "\n",
    "La estandarización de un conjunto de datos es un requerimiento común de los algoritmos de aprendizaje máequinas, algunos de ellos pueden tener un mal desempeño si los datos no presentan una forma parecida a una distribución normal. Por ejemplo, muchos elementos usados en la función objetivo de un algoritmo de aprendizaje (como el kernel RBF de una máquina de soporte vectorial) asumen que los datos se encuentran centrados y escalados. "
   ]
  },
  {
   "cell_type": "code",
   "execution_count": 6,
   "metadata": {},
   "outputs": [],
   "source": [
    "sc = StandardScaler()"
   ]
  },
  {
   "cell_type": "markdown",
   "metadata": {},
   "source": [
    "El método \"fit\" realiza el cálculo de la media y la desviación estándar, mientras que el método \"transform\" realiza las operaciones de centrado (restar la media) y escalado (dividir por la desviación estándar)."
   ]
  },
  {
   "cell_type": "code",
   "execution_count": 7,
   "metadata": {},
   "outputs": [],
   "source": [
    "X_train = sc.fit_transform(X_train)\n",
    "X_test = sc.transform(X_test)"
   ]
  },
  {
   "cell_type": "markdown",
   "metadata": {},
   "source": [
    "Ahora se pasan los datos, que están almacenados en forma de arreglos de numpy, a tensor que es la estructura de datos especializada de pytorch. Los tensores se usan para codificar las entradas y salidas de un modelo así como sus parámetros. Los tensores son similares a arreglos de numpy con la diferencia que los tensores pueden enviarse a la GPU u otros aceleradores de hardware."
   ]
  },
  {
   "cell_type": "code",
   "execution_count": 8,
   "metadata": {},
   "outputs": [],
   "source": [
    "X_train = torch.from_numpy(X_train.astype(np.float32))\n",
    "X_test = torch.from_numpy(X_test.astype(np.float32))\n",
    "y_train = torch.from_numpy(y_train.astype(np.float32))\n",
    "y_test = torch.from_numpy(y_test.astype(np.float32))"
   ]
  },
  {
   "cell_type": "markdown",
   "metadata": {},
   "source": [
    "Por defecto los tensores se almacenan en CPU pero pueden pasarse a la GPU con el método \"to\", preguntando primero por su disponibilidad:"
   ]
  },
  {
   "cell_type": "code",
   "execution_count": 9,
   "metadata": {},
   "outputs": [],
   "source": [
    "if torch.cuda.is_available():\n",
    "    X_train = X_train.to('cuda')\n",
    "    X_test = X_test.to('cuda')\n",
    "    y_train = y_train.to('cuda')\n",
    "    y_test = y_test.to('cuda')"
   ]
  },
  {
   "cell_type": "code",
   "execution_count": 10,
   "metadata": {},
   "outputs": [],
   "source": [
    "y_train = y_train.view(y_train.shape[0], 1)\n",
    "y_test = y_test.view(y_test.shape[0], 1)"
   ]
  },
  {
   "cell_type": "code",
   "execution_count": 11,
   "metadata": {},
   "outputs": [],
   "source": [
    "n_samples, n_features = X_.shape"
   ]
  },
  {
   "cell_type": "markdown",
   "metadata": {},
   "source": [
    "Para crear el constructor de un modelo en pytorch se tienen dos requerimientos. El primero es el método \"_init_\" que referencia el módulo \"nn.Module\" y es donde se definen las capas totalmente conectadas del modelo.\n",
    "\n",
    "El segundo requerimiento especifica como se pasaran los datos a través del modelo. Esto se hace definiendo el método \"forward\", el cual lleva los datos al grafo computacional."
   ]
  },
  {
   "cell_type": "code",
   "execution_count": 12,
   "metadata": {
    "id": "ecWUfk2te6fz"
   },
   "outputs": [],
   "source": [
    "class LogisticRegression(nn.Module):\n",
    "\n",
    "    def __init__(self, n_input_features):\n",
    "        super(LogisticRegression, self).__init__()\n",
    "        self.linear = nn.Linear(n_input_features, 1)\n",
    "\n",
    "    def forward(self, x):\n",
    "        y_predicted = torch.sigmoid(self.linear(x))\n",
    "        return y_predicted"
   ]
  },
  {
   "cell_type": "code",
   "execution_count": 13,
   "metadata": {
    "id": "5Rv3HmWce53J"
   },
   "outputs": [],
   "source": [
    "model = LogisticRegression(n_features)"
   ]
  },
  {
   "cell_type": "markdown",
   "metadata": {},
   "source": [
    "Pytorch requiere que definamos la función de costo, entropía binaria cruzada; y el optimizador, gradiente estocástico"
   ]
  },
  {
   "cell_type": "code",
   "execution_count": 14,
   "metadata": {
    "id": "CZtLt9TQh5cI"
   },
   "outputs": [],
   "source": [
    "learning_rate = 0.01\n",
    "criterion = nn.BCELoss()\n",
    "optimizer = torch.optim.SGD(params=model.parameters(), lr=learning_rate)"
   ]
  },
  {
   "cell_type": "markdown",
   "metadata": {},
   "source": [
    "Y ahora se crea el ciclo de entrenamiento que se repetirá un determinado número de épocas."
   ]
  },
  {
   "cell_type": "code",
   "execution_count": 15,
   "metadata": {
    "id": "8GtwUH--iO_6"
   },
   "outputs": [],
   "source": [
    "num_epochs = 100\n",
    "\n",
    "for epoch in range(num_epochs):\n",
    "    \n",
    "    # Se prealimenta (feed-forward) la red y se obtiene la salida \"y_predicted\"\n",
    "    y_predicted = model(X_train)\n",
    "    \n",
    "    # Se calcula el costo como una función a la que se le aplican la salidas y las etiquetas\n",
    "    loss = criterion(y_predicted, y_train)\n",
    "\n",
    "    # Al costo se le aplica el método \"backward\" que calcula el gradiente en cada una de las capas de la red\n",
    "    # Recordemos que el gradiente representa la derivada parcial de la función de costo respecto de los pesos \n",
    "    # de la red\n",
    "    loss.backward()\n",
    "\n",
    "    # Ya calculado el gradiente se actualizan los pesos dando un pequeño paso en la dirección negativa \n",
    "    # del gradiente\n",
    "    optimizer.step()\n",
    "\n",
    "    # Se limpia el gradiente para la siguiente iteración ya que este parámetro es acumulativo\n",
    "    optimizer.zero_grad()\n",
    "\n",
    "    if(epoch+1) % 10 == 10:\n",
    "        print(f'epoch: {epoch + 1}, loss = {loss.item():.4f}')"
   ]
  },
  {
   "cell_type": "code",
   "execution_count": 16,
   "metadata": {
    "colab": {
     "base_uri": "https://localhost:8080/"
    },
    "id": "CdTOUBwVlHb3",
    "outputId": "f17e72af-2f13-4ddd-caf4-9e4c0f404f0f"
   },
   "outputs": [
    {
     "name": "stdout",
     "output_type": "stream",
     "text": [
      "accuracy =  1.0000\n"
     ]
    }
   ],
   "source": [
    "with torch.no_grad():\n",
    "    y_predicted = model(X_test)\n",
    "    y_predicted_cls = y_predicted.round()\n",
    "    acc = y_predicted_cls.eq(y_test).sum() / float(y_test.shape[0])\n",
    "    print(f'accuracy =  {acc:.4f}')"
   ]
  },
  {
   "cell_type": "code",
   "execution_count": 17,
   "metadata": {
    "id": "q2d3X8w1XWIL"
   },
   "outputs": [
    {
     "name": "stdout",
     "output_type": "stream",
     "text": [
      "accuracy =  1.0000\n"
     ]
    }
   ],
   "source": [
    "#with torch.no_grad():\n",
    "model.eval()\n",
    "y_predicted = model(X_test)\n",
    "y_predicted_cls = y_predicted.round()\n",
    "acc2 = y_predicted_cls.eq(y_test).sum() / float(y_test.shape[0])\n",
    "print(f'accuracy =  {acc2:.4f}')"
   ]
  }
 ],
 "metadata": {
  "colab": {
   "include_colab_link": true,
   "name": "Regresión Logistica.ipynb",
   "provenance": []
  },
  "kernelspec": {
   "display_name": "Python 3",
   "language": "python",
   "name": "python3"
  },
  "language_info": {
   "codemirror_mode": {
    "name": "ipython",
    "version": 3
   },
   "file_extension": ".py",
   "mimetype": "text/x-python",
   "name": "python",
   "nbconvert_exporter": "python",
   "pygments_lexer": "ipython3",
   "version": "3.8.2"
  }
 },
 "nbformat": 4,
 "nbformat_minor": 1
}
