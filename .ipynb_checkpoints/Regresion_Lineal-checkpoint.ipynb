{
 "cells": [
  {
   "cell_type": "markdown",
   "metadata": {
    "colab_type": "text",
    "id": "view-in-github"
   },
   "source": [
    "<a href=\"https://colab.research.google.com/github/juanchess98/Notebooks-Deep-Learning/blob/regresion-lineal/Regresion_Lineal.ipynb\" target=\"_parent\"><img src=\"https://colab.research.google.com/assets/colab-badge.svg\" alt=\"Open In Colab\"/></a>"
   ]
  },
  {
   "cell_type": "code",
   "execution_count": null,
   "metadata": {
    "id": "AczP6mv_D086"
   },
   "outputs": [],
   "source": [
    "import numpy as np"
   ]
  },
  {
   "cell_type": "code",
   "execution_count": null,
   "metadata": {
    "id": "I0sgCYz2F03Z"
   },
   "outputs": [],
   "source": [
    "import keras"
   ]
  },
  {
   "cell_type": "markdown",
   "metadata": {
    "id": "HsX-wD3lKcC7"
   },
   "source": [
    "# Teoria \n",
    "\n",
    "Es un método para predecir una variable objetivo ajustando la mejor relación lineal entre la variable independiente(predictor) y la dependendiente(target) $$ \\hat{y} = mx + b$$\n",
    "\n",
    "- $\\hat{y}$ es el valor predecido.\n",
    "- $x$ es el valor de la característica.\n",
    "- $m$ y $b$ son la pendiente y el termino de sesgo respectivamente. Estos son los parametros del modelo que se deben ajustar para obtener la mejor aproximación. Usualmente se denotan con un vector de la siguiente manera:\n",
    "$$\\theta = \\left [ \\theta _{0}, \\theta _{1}, ...\\theta _{n} \\right]$$ donde $n$ denota el número de características o variables independientes del modelo.\n",
    "\n"
   ]
  },
  {
   "cell_type": "markdown",
   "metadata": {
    "id": "BqWO_FINKjYS"
   },
   "source": [
    "# Ilustración"
   ]
  },
  {
   "cell_type": "markdown",
   "metadata": {
    "id": "xHHc9j6uZ46x"
   },
   "source": [
    "# ¿Cómo encontrar la mejor representación?\n",
    "\n",
    "Entrenar a un modelo significa establecer los parametetros del modelo tal que este se ajuste de la mejor manera posible al conjunto de entrenamiento. Para este proposito se necesita establecer una medida que indique que tan bien o mal el modelo se ajusta a los dato de entrenamiento. Eso se denomina Función de costo.\n",
    "\n"
   ]
  },
  {
   "cell_type": "markdown",
   "metadata": {
    "id": "4cYukU5ZKin_"
   },
   "source": []
  },
  {
   "cell_type": "code",
   "execution_count": null,
   "metadata": {
    "id": "ALP6PfT4Khty"
   },
   "outputs": [],
   "source": [
    "print('hi')"
   ]
  },
  {
   "cell_type": "markdown",
   "metadata": {
    "id": "adhgS6ZeKsDG"
   },
   "source": [
    "# Implementación Keras"
   ]
  },
  {
   "cell_type": "markdown",
   "metadata": {
    "id": "7BFWypuXLa8Q"
   },
   "source": [
    "Explicación relacionada a la implementación"
   ]
  },
  {
   "cell_type": "markdown",
   "metadata": {
    "id": "dIg82wurLhx5"
   },
   "source": [
    "# Observación ajuste de parametros -- Helper"
   ]
  },
  {
   "cell_type": "markdown",
   "metadata": {
    "id": "DMdxO9n-KyvT"
   },
   "source": [
    "# Implementación Pytorch"
   ]
  },
  {
   "cell_type": "code",
   "execution_count": null,
   "metadata": {
    "id": "dNzXJRM5K6_3"
   },
   "outputs": [],
   "source": []
  },
  {
   "cell_type": "markdown",
   "metadata": {
    "id": "keWIBW2dK8Mc"
   },
   "source": [
    "# Explicación relacionada a la implementación"
   ]
  },
  {
   "cell_type": "code",
   "execution_count": null,
   "metadata": {
    "id": "nsMcqqG0LDi2"
   },
   "outputs": [],
   "source": []
  },
  {
   "cell_type": "markdown",
   "metadata": {
    "id": "Y02UV9RsLE38"
   },
   "source": [
    "# Observación de ajuste de parametros -- Helper"
   ]
  },
  {
   "cell_type": "code",
   "execution_count": null,
   "metadata": {
    "id": "qSz_fhSPLXX2"
   },
   "outputs": [],
   "source": []
  }
 ],
 "metadata": {
  "colab": {
   "collapsed_sections": [],
   "include_colab_link": true,
   "name": "Regresion_Lineal.ipynb",
   "provenance": []
  },
  "kernelspec": {
   "display_name": "Python 3",
   "language": "python",
   "name": "python3"
  },
  "language_info": {
   "codemirror_mode": {
    "name": "ipython",
    "version": 3
   },
   "file_extension": ".py",
   "mimetype": "text/x-python",
   "name": "python",
   "nbconvert_exporter": "python",
   "pygments_lexer": "ipython3",
   "version": "3.8.2"
  }
 },
 "nbformat": 4,
 "nbformat_minor": 1
}
