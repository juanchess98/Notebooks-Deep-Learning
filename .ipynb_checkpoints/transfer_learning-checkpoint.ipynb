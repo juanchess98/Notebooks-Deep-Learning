{
 "cells": [
  {
   "cell_type": "markdown",
   "metadata": {},
   "source": [
    "[![Open In Colab](https://colab.research.google.com/assets/colab-badge.svg)](https://colab.research.google.com/github/juanchess98/Notebooks-Deep-Learning/blob/transfer_learning/transfer_learning.ipynb)"
   ]
  },
  {
   "cell_type": "markdown",
   "metadata": {},
   "source": [
    "# Transfer Learning"
   ]
  },
  {
   "cell_type": "markdown",
   "metadata": {},
   "source": [
    "Aprender una tarea nueva puede ser un proceso que lleve una considerable cantidad de tiempo. Sin embargo, los seres humanos tienen la capacidad de asociar nuevas tareas con otras que ya sabe como ejecutar y aplicar este conocimiento para reducir el tiempo y costo de aprendizaje. Por ejemplo, si una persona sabe como manejar una bicicleta, para esa persona será mucho más fácil aprender a manejar una motocicleta. Asimismo, una persona que domine el idioma español tendrá mucha más facilidad para aprender otro idioma similar, como el portugués, que una persona de origen alemán o japonés.\n",
    "\n",
    "Este mismo concepto se puede aplicar a las máquinas inteligentes y se le conoce como *Transfer Learning* o Aprendizaje por transferencia. En este caso, un modelo desarrollado para una resolver una tarea puede usarse como punto de partida para resolver otra tarea similar.\n",
    "\n"
   ]
  },
  {
   "cell_type": "markdown",
   "metadata": {},
   "source": [
    "## Transfer Learning en Keras\n",
    "\n",
    "La metodología de *Transfer Learning* en Keras suele tener el siguiente flujo de trabajo:\n",
    "\n",
    "1. Tomar las capas de un modelo previamente entrenado\n",
    "2. Congelarlas para no perder la información que contienen en futuros entrenamientos\n",
    "3. Añadir nuevas capas para entrenar sobre las capas congeladas\n",
    "4. Entrenar las capas nuevas con los datos de interés.\n",
    "\n",
    "Un último paso, opcional, es realizar *fine tuning* o sintonización fina. Esto consiste en descongelar todo, o una parte del modelo obtenido en los pasos anteriores y entrenarlo con los nuevos datos a una tasa de aprendizaje muy baja."
   ]
  },
  {
   "cell_type": "markdown",
   "metadata": {},
   "source": [
    "#### Congelamiento de capas con el atributo *trainable*\n",
    "\n",
    "En Keras las capas y los modelos tienen tres atributos:\n",
    "\n",
    "1. **weights (pesos):** lista de todos los pesos de la capa\n",
    "2. **trainable_weights:** lista de todos los pesos que serán actualizados por el optimizador (gradiente descendente, etc) para minimizar la función de costo durante el entrenamiento\n",
    "3. **non_trainable_weights:** lista de todos los pesos no entrenables\n",
    "\n",
    "Para establecer si un peso es entrenable o no, las capas y los modelos tienen otro atributo: **trainable**. El atributo **trainable** es de tipo booleano y llevarle un valor de **False** hace que todos los pesos en esa capa sean no-entrenables, es decir, se *congelan* los pesos de dicha capa. Por ejemplo:\n",
    "\n",
    "    layer = keras.layers.Dense(3)  # Se crea la capa\n",
    "    layer.build((None, 4))         # Se crean los pesos\n",
    "    layer.trainable = False        # Se congela la capa\n",
    "    \n",
    "Con esto se asegura que los pesos de esta capa no sean actualizados durante el entrenamiento."
   ]
  },
  {
   "cell_type": "code",
   "execution_count": 1,
   "metadata": {},
   "outputs": [],
   "source": [
    "import numpy as np\n",
    "import tensorflow as tf\n",
    "from tensorflow import keras"
   ]
  },
  {
   "cell_type": "code",
   "execution_count": 2,
   "metadata": {},
   "outputs": [
    {
     "name": "stdout",
     "output_type": "stream",
     "text": [
      "Downloading data from https://storage.googleapis.com/tensorflow/keras-applications/xception/xception_weights_tf_dim_ordering_tf_kernels_notop.h5\n",
      "83689472/83683744 [==============================] - 11s 0us/step\n"
     ]
    }
   ],
   "source": [
    "base_model = keras.applications.Xception(\n",
    "    weights='imagenet',  # Load weights pre-trained on ImageNet.\n",
    "    input_shape=(150, 150, 3),\n",
    "    include_top=False)  # Do not include the ImageNet classifier at the top."
   ]
  },
  {
   "cell_type": "code",
   "execution_count": null,
   "metadata": {},
   "outputs": [],
   "source": []
  }
 ],
 "metadata": {
  "kernelspec": {
   "display_name": "Python 3",
   "language": "python",
   "name": "python3"
  },
  "language_info": {
   "codemirror_mode": {
    "name": "ipython",
    "version": 3
   },
   "file_extension": ".py",
   "mimetype": "text/x-python",
   "name": "python",
   "nbconvert_exporter": "python",
   "pygments_lexer": "ipython3",
   "version": "3.8.2"
  }
 },
 "nbformat": 4,
 "nbformat_minor": 4
}
