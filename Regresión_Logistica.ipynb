{
  "nbformat": 4,
  "nbformat_minor": 0,
  "metadata": {
    "colab": {
      "name": "Regresión Logistica.ipynb",
      "provenance": [],
      "authorship_tag": "ABX9TyPnUhKh5rX/3HpObX0xwD7T",
      "include_colab_link": true
    },
    "kernelspec": {
      "name": "python3",
      "display_name": "Python 3"
    },
    "language_info": {
      "name": "python"
    }
  },
  "cells": [
    {
      "cell_type": "markdown",
      "metadata": {
        "id": "view-in-github",
        "colab_type": "text"
      },
      "source": [
        "<a href=\"https://colab.research.google.com/github/juanchess98/Notebooks-Deep-Learning/blob/regresion-logistica/Regresi%C3%B3n_Logistica.ipynb\" target=\"_parent\"><img src=\"https://colab.research.google.com/assets/colab-badge.svg\" alt=\"Open In Colab\"/></a>"
      ]
    },
    {
      "cell_type": "code",
      "metadata": {
        "id": "g_xhwfe8HWI_"
      },
      "source": [
        ""
      ],
      "execution_count": null,
      "outputs": []
    },
    {
      "cell_type": "markdown",
      "metadata": {
        "id": "gtC5lHSvH0ni"
      },
      "source": [
        "# Regresión Logística"
      ]
    },
    {
      "cell_type": "code",
      "metadata": {
        "id": "tYttvvBOH5JK"
      },
      "source": [
        ""
      ],
      "execution_count": null,
      "outputs": []
    },
    {
      "cell_type": "markdown",
      "metadata": {
        "id": "xLEHVRlPH7QI"
      },
      "source": [
        "Teoria\n"
      ]
    },
    {
      "cell_type": "code",
      "metadata": {
        "id": "044j_wrhIDg2"
      },
      "source": [
        "#Representación grafica"
      ],
      "execution_count": 4,
      "outputs": []
    },
    {
      "cell_type": "markdown",
      "metadata": {
        "id": "OHnGxVKHH5_E"
      },
      "source": [
        "# Optimización"
      ]
    },
    {
      "cell_type": "code",
      "metadata": {
        "id": "P1y1pLv2IC5R"
      },
      "source": [
        ""
      ],
      "execution_count": null,
      "outputs": []
    },
    {
      "cell_type": "markdown",
      "metadata": {
        "id": "tIhjQ_x6IHQf"
      },
      "source": [
        "# Implementacion en Keras"
      ]
    },
    {
      "cell_type": "code",
      "metadata": {
        "id": "IFX9gNNKIhtw"
      },
      "source": [
        "#grafico"
      ],
      "execution_count": 3,
      "outputs": []
    },
    {
      "cell_type": "markdown",
      "metadata": {
        "id": "9dmGIvwaIaeH"
      },
      "source": [
        "Explicacion adicional"
      ]
    },
    {
      "cell_type": "markdown",
      "metadata": {
        "id": "2U4D6pIsIMux"
      },
      "source": [
        "# Implementacion en Pytorch"
      ]
    },
    {
      "cell_type": "markdown",
      "metadata": {
        "id": "TGP_okH0IZ9C"
      },
      "source": [
        ""
      ]
    },
    {
      "cell_type": "code",
      "metadata": {
        "id": "zM4FV6YmIKk_"
      },
      "source": [
        "#grafico"
      ],
      "execution_count": null,
      "outputs": []
    },
    {
      "cell_type": "markdown",
      "metadata": {
        "id": "1bBS0joSIQT-"
      },
      "source": [
        "Explicación adicional"
      ]
    },
    {
      "cell_type": "code",
      "metadata": {
        "id": "bvhV5E9FIS0O"
      },
      "source": [
        ""
      ],
      "execution_count": null,
      "outputs": []
    }
  ]
}