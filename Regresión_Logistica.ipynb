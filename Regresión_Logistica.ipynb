{
  "nbformat": 4,
  "nbformat_minor": 0,
  "metadata": {
    "colab": {
      "name": "Regresión Logistica.ipynb",
      "provenance": [],
      "include_colab_link": true
    },
    "kernelspec": {
      "name": "python3",
      "display_name": "Python 3"
    },
    "language_info": {
      "name": "python"
    }
  },
  "cells": [
    {
      "cell_type": "markdown",
      "metadata": {
        "id": "view-in-github",
        "colab_type": "text"
      },
      "source": [
        "<a href=\"https://colab.research.google.com/github/juanchess98/Notebooks-Deep-Learning/blob/regresion-logistica/Regresi%C3%B3n_Logistica.ipynb\" target=\"_parent\"><img src=\"https://colab.research.google.com/assets/colab-badge.svg\" alt=\"Open In Colab\"/></a>"
      ]
    },
    {
      "cell_type": "markdown",
      "metadata": {
        "id": "gtC5lHSvH0ni"
      },
      "source": [
        "# Regresión Logística\n",
        "\n",
        "\n"
      ]
    },
    {
      "cell_type": "markdown",
      "metadata": {
        "id": "DnPtZ5KmKCaN"
      },
      "source": [
        "La regresión logística es un métdo de clasificación binaria, es decir, la variable dependiente sólo puede tomar dos valores: Verdadero ó Falso, 1 ó 0, etc. \n",
        "\n",
        "Se denimina regresión logística ya que el corazón del método es la llamada función logística o función sigmoide, la cual es de la forma:"
      ]
    },
    {
      "cell_type": "markdown",
      "metadata": {
        "id": "KDN1UAC_MOPQ"
      },
      "source": [
        "\\begin{equation}\n",
        "  \\sigma(z)=\\frac{1}{1+e^{-z}}\n",
        "\\end{equation}"
      ]
    },
    {
      "cell_type": "markdown",
      "metadata": {
        "id": "q2ecYoRbQAFo"
      },
      "source": [
        "Se usa el método de regresión logística para modelar variables dependientes binarias en lugar de la regresión lineal ya que esta última para valores que se encuentran en los extremos de la recta predicha entrega valores menores a cero y mayores a uno, esto va en contra de la definición de probabilidades que están en el rango $[0, 1]$.\n",
        "\n",
        "Es aquí donde difieren los dos métodos ya que la regresión logística utiliza la recta generada por la regresión lineal pero la pasa por la función sigmoide para que el resultado siempre esté entre 0 y 1. En otras palabras, el problema de regresión se convierte en un problema de clasificación.\n",
        "\n",
        "Entonces dado un conjunto de datos, suponemos que podemos modelarlo con una expresión matemática de la forma:\n",
        "\n",
        "\\begin{equation}\n",
        "y=wx+b\n",
        "\\end{equation}\n",
        "\n",
        "Esta ecuación es una representación lineal de la relación que existe entre los datos de entrada $x$ (características) y la salida $y$. Donde $y$ se puede expresar de la forma:\n"
      ]
    },
    {
      "cell_type": "markdown",
      "metadata": {
        "id": "cStkRRLwR99J"
      },
      "source": [
        "\\begin{equation}\n",
        "\\hat{y}^{(i)}=w_0+w_1x_1^{(i)}+w_2x_2^{(i)}+...+w_nx_n^{(i)}\n",
        "\\end{equation}"
      ]
    },
    {
      "cell_type": "markdown",
      "metadata": {
        "id": "IXYCKwrTSDbh"
      },
      "source": [
        "Para clasificación se necesita acotar este resultado a valores de $y$ entre $[0, 1]$ por lo que necesitamos pasar este resultado a través de la función de activación sigmoide:"
      ]
    },
    {
      "cell_type": "markdown",
      "metadata": {
        "id": "l06f4M4-SIB7"
      },
      "source": [
        " \\begin{equation}\n",
        "  \\sigma(\\hat y)=P(\\hat{y}^{(i)}=1)=\\frac{1}{1+e^{w_0+w_1x_1^{(i)}+w_2x_2^{(i)}+...+w_nx_n^{(i)}}}\n",
        "\\end{equation}"
      ]
    },
    {
      "cell_type": "markdown",
      "metadata": {
        "id": "7ViOfUwgSeYN"
      },
      "source": [
        ""
      ]
    },
    {
      "cell_type": "code",
      "metadata": {
        "id": "H_-cnd7UkFxn",
        "outputId": "dd48e3cb-8d99-47c8-e193-940d819f5658",
        "colab": {
          "base_uri": "https://localhost:8080/"
        }
      },
      "source": [
        "!pip install requests"
      ],
      "execution_count": 2,
      "outputs": [
        {
          "output_type": "stream",
          "text": [
            "Requirement already satisfied: requests in /usr/local/lib/python3.7/dist-packages (2.23.0)\n",
            "Requirement already satisfied: certifi>=2017.4.17 in /usr/local/lib/python3.7/dist-packages (from requests) (2020.12.5)\n",
            "Requirement already satisfied: urllib3!=1.25.0,!=1.25.1,<1.26,>=1.21.1 in /usr/local/lib/python3.7/dist-packages (from requests) (1.24.3)\n",
            "Requirement already satisfied: idna<3,>=2.5 in /usr/local/lib/python3.7/dist-packages (from requests) (2.10)\n",
            "Requirement already satisfied: chardet<4,>=3.0.2 in /usr/local/lib/python3.7/dist-packages (from requests) (3.0.4)\n"
          ],
          "name": "stdout"
        }
      ]
    },
    {
      "cell_type": "code",
      "metadata": {
        "id": "muA7I3TWlozo"
      },
      "source": [
        "import requests\n",
        "\n",
        "url = 'https://github.com/juanchess98/Notebooks-Deep-Learning.git'\n",
        "\n",
        "request = requests.get(url)"
      ],
      "execution_count": 46,
      "outputs": []
    },
    {
      "cell_type": "code",
      "metadata": {
        "id": "EEfImaTBmgvz"
      },
      "source": [
        "with open ('helpers.py', 'w') as helpers:\n",
        "  helpers.write(request.text)"
      ],
      "execution_count": 43,
      "outputs": []
    },
    {
      "cell_type": "code",
      "metadata": {
        "id": "joj5UwgAg_T3"
      },
      "source": [
        "!git clone https://github.com/juanchess98/Notebooks-Deep-Learning.git"
      ],
      "execution_count": null,
      "outputs": []
    },
    {
      "cell_type": "code",
      "metadata": {
        "id": "nIirLhC1nO3z",
        "outputId": "4fa8eae2-958a-492f-e632-476a1215c722",
        "colab": {
          "base_uri": "https://localhost:8080/",
          "height": 129
        }
      },
      "source": [
        "import helpers"
      ],
      "execution_count": 40,
      "outputs": [
        {
          "output_type": "error",
          "ename": "SyntaxError",
          "evalue": "ignored",
          "traceback": [
            "\u001b[0;36m  File \u001b[0;32m\"/content/helpers.py\"\u001b[0;36m, line \u001b[0;32m1\u001b[0m\n\u001b[0;31m    400: Invalid request\u001b[0m\n\u001b[0m                       ^\u001b[0m\n\u001b[0;31mSyntaxError\u001b[0m\u001b[0;31m:\u001b[0m invalid syntax\n"
          ]
        }
      ]
    },
    {
      "cell_type": "markdown",
      "metadata": {
        "id": "xLEHVRlPH7QI"
      },
      "source": [
        "Teoria\n"
      ]
    },
    {
      "cell_type": "code",
      "metadata": {
        "id": "044j_wrhIDg2"
      },
      "source": [
        "#Representación grafica"
      ],
      "execution_count": null,
      "outputs": []
    },
    {
      "cell_type": "code",
      "metadata": {
        "id": "W6demLUBc65p"
      },
      "source": [
        "import keras"
      ],
      "execution_count": null,
      "outputs": []
    },
    {
      "cell_type": "markdown",
      "metadata": {
        "id": "OHnGxVKHH5_E"
      },
      "source": [
        "# Optimización"
      ]
    },
    {
      "cell_type": "code",
      "metadata": {
        "id": "P1y1pLv2IC5R",
        "colab": {
          "base_uri": "https://localhost:8080/",
          "height": 228
        },
        "outputId": "bdb62b79-dafc-4993-ddeb-824d7a25bb87"
      },
      "source": [
        "from sklearn import datasets\n",
        "import matplotlib.pyplot as plt\n",
        "X_, y_ = datasets.make_classification(n_samples=100, n_features = 2, random_state=1, n_redundant=0)\n",
        "fig = plt.figure(figsize=(4.0, 3.0))\n",
        "ax = fig.add_subplot(111)\n",
        "\n",
        "ax.scatter(X_[:,0],X_[:,1],s=15,c=y_.squeeze(),cmap='jet')\n"
      ],
      "execution_count": null,
      "outputs": [
        {
          "output_type": "execute_result",
          "data": {
            "text/plain": [
              "<matplotlib.collections.PathCollection at 0x7f22a47a8f90>"
            ]
          },
          "metadata": {
            "tags": []
          },
          "execution_count": 0
        },
        {
          "output_type": "display_data",
          "data": {
            "image/png": "[encoded data removed]",
            "text/plain": [
              "<Figure size 288x216 with 1 Axes>"
            ]
          },
          "metadata": {
            "tags": []
          }
        }
      ]
    },
    {
      "cell_type": "markdown",
      "metadata": {
        "id": "tIhjQ_x6IHQf"
      },
      "source": [
        "# Implementacion en Keras"
      ]
    },
    {
      "cell_type": "code",
      "metadata": {
        "id": "IFX9gNNKIhtw"
      },
      "source": [
        "def reg_logistica(X_train, Y_train, X_test, Y_test, num_iterations = 2000, learning_rate = 0.5):\n",
        "\n",
        "    ## Implementación con Keras funcional\n",
        "    dim = X_train.shape[1]\n",
        "    inputs = Input(shape=(dim,))\n",
        "    preds = Dense(1,activation='sigmoid')(inputs)\n",
        "    model = Model(inputs=inputs,outputs=preds)\n",
        "    sgd=keras.optimizers.SGD(lr = learning_rate)\n",
        "    model.compile(optimizer=sgd ,loss='binary_crossentropy',metrics=['binary_accuracy'])\n",
        "    model.fit(X_train,Y_train, batch_size=1, epochs=num_iterations, shuffle=False)\n",
        "    return model"
      ],
      "execution_count": null,
      "outputs": []
    },
    {
      "cell_type": "code",
      "metadata": {
        "id": "xwhuP5iFaH8F"
      },
      "source": [
        "def reg_logistica_2 (X_train, Y_train, X_test, Y_test, num_itera= 2000, learning_rate = 0.1):\n",
        "  dim = X_train.shape[1]\n",
        "  model = keras.Sequential()\n",
        "  model.add(Input(dim, ))\n",
        "  model.add(Dense(1), activation='sigmoid')\n",
        "  optmizer = keras.optimizers.SGD(learning_rate=0.001)\n",
        "  model.compile(optimizer = optimizer, loss = 'binary_crossentropy', metrics['binary_accuracy'])\n",
        "  model.fit(X_train, Y_train, batch_size = 1, epochs = num_itera, shuffle = False)\n",
        "  return model"
      ],
      "execution_count": null,
      "outputs": []
    },
    {
      "cell_type": "markdown",
      "metadata": {
        "id": "9dmGIvwaIaeH"
      },
      "source": [
        "Explicacion adicional"
      ]
    },
    {
      "cell_type": "markdown",
      "metadata": {
        "id": "2U4D6pIsIMux"
      },
      "source": [
        "# Implementacion en Pytorch"
      ]
    },
    {
      "cell_type": "code",
      "metadata": {
        "id": "qyjf__MLWs9k"
      },
      "source": [
        "import torch\n",
        "import torch.nn as nn\n",
        "from sklearn import datasets\n",
        "from sklearn.preprocessing import StandardScaler\n",
        "from sklearn.model_selection import train_test_split\n",
        "import matplotlib.pyplot as plt\n",
        "import numpy as np"
      ],
      "execution_count": null,
      "outputs": []
    },
    {
      "cell_type": "code",
      "metadata": {
        "id": "Xt-hHHiPWu6Q"
      },
      "source": [
        "X_, y_ = datasets.make_classification(n_samples=100, n_features = 6, random_state=1)\n",
        "X_train, X_test, y_train, y_test = train_test_split(X_, y_, test_size = 0.2, random_state=1)\n",
        "sc = StandardScaler()\n",
        "X_train = sc.fit_transform(X_train)\n",
        "X_test = sc.transform(X_test)\n",
        "X_train = torch.from_numpy(X_train.astype(np.float32))\n",
        "X_test = torch.from_numpy(X_test.astype(np.float32))\n",
        "y_train = torch.from_numpy(y_train.astype(np.float32))\n",
        "y_test = torch.from_numpy(y_test.astype(np.float32))\n",
        "\n",
        "y_train = y_train.view(y_train.shape[0], 1)\n",
        "y_test = y_test.view(y_test.shape[0], 1)\n",
        "\n",
        "\n",
        "n_samples, n_features = X_.shape"
      ],
      "execution_count": null,
      "outputs": []
    },
    {
      "cell_type": "code",
      "metadata": {
        "id": "ecWUfk2te6fz"
      },
      "source": [
        "class LogisticRegression(nn.Module):\n",
        "\n",
        "  def __init__(self, n_input_features):\n",
        "    super(LogisticRegression, self).__init__()\n",
        "    self.linear = nn.Linear(n_input_features, 1)\n",
        "\n",
        "  def forward(self, x):\n",
        "    y_predicted = torch.sigmoid(self.linear(x))\n",
        "    return y_predicted"
      ],
      "execution_count": null,
      "outputs": []
    },
    {
      "cell_type": "code",
      "metadata": {
        "id": "5Rv3HmWce53J"
      },
      "source": [
        "model = LogisticRegression(n_features)"
      ],
      "execution_count": null,
      "outputs": []
    },
    {
      "cell_type": "code",
      "metadata": {
        "id": "CZtLt9TQh5cI"
      },
      "source": [
        "learning_rate = 0.01\n",
        "criterion = nn.BCELoss()\n",
        "optimizer = torch.optim.SGD(params= model.parameters(),lr = learning_rate)"
      ],
      "execution_count": null,
      "outputs": []
    },
    {
      "cell_type": "code",
      "metadata": {
        "id": "8GtwUH--iO_6"
      },
      "source": [
        "num_epochs = 100\n",
        "for epoch in range(num_epochs):\n",
        "  #forward pass and loss\n",
        "  y_predicted = model(X_train)\n",
        "  loss = criterion(y_predicted, y_train)\n",
        "\n",
        "  #backward\n",
        "  loss.backward()\n",
        "\n",
        "  ##update\n",
        "  optimizer.step()\n",
        "\n",
        "  optimizer.zero_grad() ## clean gradients to next iteration\n",
        "\n",
        "  if(epoch+1) % 10 == 10:\n",
        "    print(f'epoch: {epoch + 1}, loss = {loss.item():.4f}')"
      ],
      "execution_count": null,
      "outputs": []
    },
    {
      "cell_type": "code",
      "metadata": {
        "colab": {
          "base_uri": "https://localhost:8080/"
        },
        "id": "CdTOUBwVlHb3",
        "outputId": "f17e72af-2f13-4ddd-caf4-9e4c0f404f0f"
      },
      "source": [
        "with torch.no_grad():\n",
        "  y_predicted = model(X_test)\n",
        "  y_predicted_cls = y_predicted.round()\n",
        "  acc = y_predicted_cls.eq(y_test).sum() / float(y_test.shape[0])\n",
        "  print(f'accuracy =  {acc:.4f}')"
      ],
      "execution_count": null,
      "outputs": [
        {
          "output_type": "stream",
          "text": [
            "accuracy =  0.3500\n"
          ],
          "name": "stdout"
        }
      ]
    },
    {
      "cell_type": "code",
      "metadata": {
        "id": "q2d3X8w1XWIL"
      },
      "source": [
        ""
      ],
      "execution_count": null,
      "outputs": []
    },
    {
      "cell_type": "markdown",
      "metadata": {
        "id": "TGP_okH0IZ9C"
      },
      "source": [
        ""
      ]
    },
    {
      "cell_type": "code",
      "metadata": {
        "id": "zM4FV6YmIKk_"
      },
      "source": [
        "#grafico"
      ],
      "execution_count": null,
      "outputs": []
    },
    {
      "cell_type": "markdown",
      "metadata": {
        "id": "1bBS0joSIQT-"
      },
      "source": [
        "Explicación adicional"
      ]
    },
    {
      "cell_type": "code",
      "metadata": {
        "id": "bvhV5E9FIS0O"
      },
      "source": [
        ""
      ],
      "execution_count": null,
      "outputs": []
    }
  ]
}