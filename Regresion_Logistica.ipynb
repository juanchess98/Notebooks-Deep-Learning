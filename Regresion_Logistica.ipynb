{
 "cells": [
  {
   "cell_type": "markdown",
   "metadata": {
    "colab_type": "text",
    "id": "view-in-github"
   },
   "source": [
    "<a href=\"https://colab.research.google.com/github/juanchess98/Notebooks-Deep-Learning/blob/regresion-logistica/Regresi%C3%B3n_Logistica.ipynb\" target=\"_parent\"><img src=\"https://colab.research.google.com/assets/colab-badge.svg\" alt=\"Open In Colab\"/></a>"
   ]
  },
  {
   "cell_type": "markdown",
   "metadata": {
    "id": "gtC5lHSvH0ni"
   },
   "source": [
    "# Regresión Logística"
   ]
  },
  {
   "cell_type": "markdown",
   "metadata": {
    "id": "DnPtZ5KmKCaN"
   },
   "source": [
    "La regresión logística es un métdo de clasificación binaria, es decir, la variable dependiente sólo puede tomar dos valores: Verdadero ó Falso, 1 ó 0, etc.\n",
    "\n",
    "Se denomina regresión logística ya que el corazón del método es la llamada función logística o función sigmoide, la cual es de la forma:"
   ]
  },
  {
   "cell_type": "markdown",
   "metadata": {
    "id": "KDN1UAC_MOPQ"
   },
   "source": [
    "\\begin{equation}\n",
    "  \\sigma(z)=\\frac{1}{1+e^{-z}}\n",
    "\\end{equation}"
   ]
  },
  {
   "cell_type": "markdown",
   "metadata": {
    "id": "q2ecYoRbQAFo"
   },
   "source": [
    "Se usa el método de regresión logística para modelar variables dependientes binarias en lugar de la regresión lineal, ya que esta última, para valores que se encuentran en los extremos de la recta predicha entrega valores menores a cero y mayores a uno. Esto va en contra de la definición teórica de probabilidad, según la cual estas están en el rango $[0, 1]$.\n",
    "\n",
    "Entonces el método de regresión logística utiliza la recta generada por la regresión lineal pero la pasa por la función sigmoide para que el resultado siempre esté entre 0 y 1. En otras palabras, el problema de regresión se convierte en un problema de clasificación.\n",
    "\n",
    "Dado un conjunto de datos, suponemos que podemos modelarlo con una expresión matemática de la forma:\n",
    "\n",
    "\\begin{equation}\n",
    "y=wx+b\n",
    "\\end{equation}\n",
    "\n",
    "Esta ecuación es una representación lineal de la relación que existe entre los datos de entrada $x$ (características) y la salida $y$. Donde $y$ se puede expresar de la forma:\n"
   ]
  },
  {
   "cell_type": "markdown",
   "metadata": {
    "id": "cStkRRLwR99J"
   },
   "source": [
    "\\begin{equation}\n",
    "\\hat{y}^{(i)}=w_0+w_1x_1^{(i)}+w_2x_2^{(i)}+...+w_nx_n^{(i)}\n",
    "\\end{equation}"
   ]
  },
  {
   "cell_type": "markdown",
   "metadata": {
    "id": "IXYCKwrTSDbh"
   },
   "source": [
    "Para clasificación se necesita acotar este resultado a valores de $y$ entre $[0, 1]$ por lo que necesitamos pasar este resultado a través de la función de activación sigmoide:"
   ]
  },
  {
   "cell_type": "markdown",
   "metadata": {
    "id": "l06f4M4-SIB7"
   },
   "source": [
    " \\begin{equation}\n",
    "  \\sigma(\\hat y)=P(\\hat{y}^{(i)}=1)=\\frac{1}{1+e^{-(w_0+w_1x_1^{(i)}+w_2x_2^{(i)}+...+w_nx_n^{(i)})}}\n",
    "\\end{equation}"
   ]
  },
  {
   "cell_type": "markdown",
   "metadata": {},
   "source": [
    "# Funci'on de costo (cross entropy)\n"
   ]
  },
  {
   "cell_type": "markdown",
   "metadata": {
    "id": "7ViOfUwgSeYN"
   },
   "source": [
    "Gráficamente la función sigmoide tiene la siguiente forma:"
   ]
  },
  {
   "cell_type": "code",
   "execution_count": 1,
   "metadata": {
    "id": "muA7I3TWlozo"
   },
   "outputs": [],
   "source": [
    "#import requests\n",
    "\n",
    "#url = 'https://github.com/juanchess98/Notebooks-Deep-Learning.git'\n",
    "\n",
    "#request = requests.get(url)"
   ]
  },
  {
   "cell_type": "code",
   "execution_count": 18,
   "metadata": {
    "id": "bj-yHiknHHoq"
   },
   "outputs": [],
   "source": [
    "#import sys\n",
    "#sys.path.insert(0,'/content/helpers.py')"
   ]
  },
  {
   "cell_type": "code",
   "execution_count": 12,
   "metadata": {
    "id": "nIirLhC1nO3z"
   },
   "outputs": [],
   "source": [
    "import helpers\n",
    "import numpy as np\n",
    "import matplotlib.pyplot as plt"
   ]
  },
  {
   "cell_type": "code",
   "execution_count": 13,
   "metadata": {
    "colab": {
     "base_uri": "https://localhost:8080/"
    },
    "id": "8kVyF5MKXHfB",
    "outputId": "8dda90ee-11e4-4e54-bbde-edb3099d3b0c"
   },
   "outputs": [],
   "source": [
    "%load_ext autoreload\n",
    "%autoreload 2"
   ]
  },
  {
   "cell_type": "code",
   "execution_count": 14,
   "metadata": {
    "colab": {
     "base_uri": "https://localhost:8080/",
     "height": 316
    },
    "id": "_hWq2s5oUm0T",
    "outputId": "c36a7b97-2b69-4c71-acc3-ddcb36c14a49",
    "scrolled": true
   },
   "outputs": [
    {
     "data": {
      "image/png": "[encoded data removed]",
      "text/plain": [
       "<Figure size 432x288 with 1 Axes>"
      ]
     },
     "metadata": {
      "needs_background": "light"
     },
     "output_type": "display_data"
    }
   ],
   "source": [
    "sigmoide = lambda x: 1/(1+np.exp(-x))\n",
    "senal = helpers.crear_db(sigmoide, ruido=0, rango=(-10, 10))\n",
    "helpers.plot_data(senal[0], senal[1], label='Sigmoide')"
   ]
  },
  {
   "cell_type": "code",
   "execution_count": 4,
   "metadata": {
    "id": "044j_wrhIDg2"
   },
   "outputs": [],
   "source": [
    "#Representación grafica"
   ]
  },
  {
   "cell_type": "markdown",
   "metadata": {
    "id": "OHnGxVKHH5_E"
   },
   "source": [
    "# Optimización"
   ]
  },
  {
   "cell_type": "code",
   "execution_count": 3,
   "metadata": {
    "colab": {
     "base_uri": "https://localhost:8080/",
     "height": 228
    },
    "id": "P1y1pLv2IC5R",
    "outputId": "bdb62b79-dafc-4993-ddeb-824d7a25bb87"
   },
   "outputs": [],
   "source": [
    "from sklearn import datasets\n",
    "import matplotlib.pyplot as plt"
   ]
  },
  {
   "cell_type": "markdown",
   "metadata": {},
   "source": [
    "#### Se carga la API Keras corriendo sobre la plataforma Tensorflow 2."
   ]
  },
  {
   "cell_type": "code",
   "execution_count": 4,
   "metadata": {},
   "outputs": [],
   "source": [
    "import tensorflow.keras as keras\n",
    "import tensorflow as tf"
   ]
  },
  {
   "cell_type": "markdown",
   "metadata": {},
   "source": [
    "#### Se crean datos artificiales con la clase datasets de sklearn.\n",
    "\n",
    "En este ejercicio se crean cien datos repartidos en dos clases. Estos datos se dividen luego en 80% para clasificación 10% para validación y el 10% restante para prueba."
   ]
  },
  {
   "cell_type": "code",
   "execution_count": 54,
   "metadata": {},
   "outputs": [
    {
     "data": {
      "text/plain": [
       "<matplotlib.collections.PathCollection at 0x7ff44ce5c880>"
      ]
     },
     "execution_count": 54,
     "metadata": {},
     "output_type": "execute_result"
    },
    {
     "data": {
      "image/png": "[encoded data removed]",
      "text/plain": [
       "<Figure size 432x288 with 2 Axes>"
      ]
     },
     "metadata": {
      "needs_background": "light"
     },
     "output_type": "display_data"
    }
   ],
   "source": [
    "X_, y_ = datasets.make_classification(n_samples=100, n_features = 2, random_state=1, n_redundant=0)\n",
    "\n",
    "fig = plt.figure()#(figsize=(5.0, 4.0))\n",
    "ax = fig.add_subplot(211)\n",
    "ax.scatter(X_[:,0],X_[:,1],s=15,c=y_.squeeze(),cmap='jet')\n",
    "ax1 = fig.add_subplot(212)\n",
    "r=np.where(sigmoide(X_[:,0]) > 0.5, 1, 0)\n",
    "ax1.scatter(X_[:,0], r, s=15,c=y_.squeeze(),cmap='jet')"
   ]
  },
  {
   "cell_type": "markdown",
   "metadata": {
    "id": "tIhjQ_x6IHQf"
   },
   "source": [
    "# Implementacion de Regresión Logística en Keras de Tensorflow 2"
   ]
  },
  {
   "cell_type": "markdown",
   "metadata": {},
   "source": [
    "## 1. Implementación de Regresión Logística usando el modo funcional de keras"
   ]
  },
  {
   "cell_type": "markdown",
   "metadata": {},
   "source": [
    "La API funcional de Keras es el modo más flexible de crear modelos en esta API ya que permite implementar topologías no-lineales, compartir capas y modelos de múltiples entradas-múltiples salidas.\n",
    "\n",
    "La idea detrás de esto es que un modelo de aprendizaje profundo es un grafo acíclico dirigido (DAG, por sus siglas en inglés) de capas. Por lo tanto la API funcional es un modo de construir grafos de capas."
   ]
  },
  {
   "cell_type": "markdown",
   "metadata": {},
   "source": [
    "### Se crea el modelo para el ejercicio de regresión logística:"
   ]
  },
  {
   "cell_type": "code",
   "execution_count": 69,
   "metadata": {
    "id": "IFX9gNNKIhtw"
   },
   "outputs": [],
   "source": [
    "def reg_logistica(dim):\n",
    "\n",
    "    \"\"\"\n",
    "    Implementación con Keras funcional\n",
    "    \"\"\"\n",
    "    \n",
    "    # Se comienza a crear el grafo creando un nodo de entrada con la función Input y en cuyo argumento se\n",
    "    # especifica el numero de características de la entrada.\n",
    "    # Ejm: En el caso de una imagen RGB de 24x24 pixeles: dim = (24, 24, 3)\n",
    "    \n",
    "    inputs = tf.keras.layers.Input(shape=dim)\n",
    "    \n",
    "    # Ahora se crea un nuevo nodo en el grafo de capas. Se pasa lo que hay en inputs \n",
    "    # por una capa densa y el resultado se pasa por la función de activación sigmoide.\n",
    "    # El resultado 'outputs' es un tensor de dimensión 1.\n",
    "    preds = tf.keras.layers.Dense(1, activation='sigmoid')(inputs)\n",
    "    \n",
    "    # Se crea el modelo\n",
    "    model = tf.keras.models.Model(inputs=inputs,outputs=preds)\n",
    "    \n",
    "    return model"
   ]
  },
  {
   "cell_type": "code",
   "execution_count": 73,
   "metadata": {},
   "outputs": [
    {
     "data": {
      "image/png": "[encoded data removed]",
      "text/plain": [
       "<IPython.core.display.Image object>"
      ]
     },
     "execution_count": 73,
     "metadata": {},
     "output_type": "execute_result"
    }
   ],
   "source": [
    "model_logistic = reg_logistica(X_[:80,:80].shape[1])\n",
    "keras.utils.plot_model(model_logistic, show_shapes=True)"
   ]
  },
  {
   "cell_type": "markdown",
   "metadata": {},
   "source": [
    "### Compilación del modelo"
   ]
  },
  {
   "cell_type": "markdown",
   "metadata": {},
   "source": [
    "El entrenamiento, evaluación y predicción funcionan de la misma forma tanto en el modelo funcional como en el modelo secuencial de Keras.\n",
    "\n",
    "Se define el descenso del gradiente como optimizador de la función de costo entropía cruzada binaria y se compila el modelo "
   ]
  },
  {
   "cell_type": "code",
   "execution_count": 74,
   "metadata": {},
   "outputs": [],
   "source": [
    "taza_aprendizaje = 0.5\n",
    "sgd = keras.optimizers.SGD(lr=taza_aprendizaje)\n",
    "model_logistic.compile(optimizer=sgd ,loss='binary_crossentropy',metrics=['binary_accuracy'])"
   ]
  },
  {
   "cell_type": "markdown",
   "metadata": {},
   "source": [
    "### Entrenamiento"
   ]
  },
  {
   "cell_type": "markdown",
   "metadata": {},
   "source": []
  },
  {
   "cell_type": "code",
   "execution_count": 75,
   "metadata": {},
   "outputs": [
    {
     "name": "stdout",
     "output_type": "stream",
     "text": [
      "Epoch 1/10\n",
      "80/80 [==============================] - 0s 793us/step - loss: 0.1606 - binary_accuracy: 0.9500\n",
      "Epoch 2/10\n",
      "80/80 [==============================] - 0s 790us/step - loss: 0.0927 - binary_accuracy: 0.9750\n",
      "Epoch 3/10\n",
      "80/80 [==============================] - 0s 828us/step - loss: 0.0820 - binary_accuracy: 0.9750\n",
      "Epoch 4/10\n",
      "80/80 [==============================] - 0s 815us/step - loss: 0.0769 - binary_accuracy: 0.9750\n",
      "Epoch 5/10\n",
      "80/80 [==============================] - 0s 766us/step - loss: 0.0736 - binary_accuracy: 0.9750\n",
      "Epoch 6/10\n",
      "80/80 [==============================] - 0s 815us/step - loss: 0.0713 - binary_accuracy: 0.9750\n",
      "Epoch 7/10\n",
      "80/80 [==============================] - 0s 808us/step - loss: 0.0695 - binary_accuracy: 0.9750\n",
      "Epoch 8/10\n",
      "80/80 [==============================] - 0s 802us/step - loss: 0.0680 - binary_accuracy: 0.9750\n",
      "Epoch 9/10\n",
      "80/80 [==============================] - 0s 836us/step - loss: 0.0667 - binary_accuracy: 0.9750\n",
      "Epoch 10/10\n",
      "80/80 [==============================] - 0s 748us/step - loss: 0.0656 - binary_accuracy: 0.9750\n"
     ]
    },
    {
     "data": {
      "text/plain": [
       "<tensorflow.python.keras.callbacks.History at 0x7ff44dfe7520>"
      ]
     },
     "execution_count": 75,
     "metadata": {},
     "output_type": "execute_result"
    }
   ],
   "source": [
    "model_logistic.fit(X_[:80,:80], y_[:80], batch_size=1, epochs=10, shuffle=False)"
   ]
  },
  {
   "cell_type": "code",
   "execution_count": 16,
   "metadata": {},
   "outputs": [
    {
     "name": "stdout",
     "output_type": "stream",
     "text": [
      "Model: \"functional_1\"\n",
      "_________________________________________________________________\n",
      "Layer (type)                 Output Shape              Param #   \n",
      "=================================================================\n",
      "input_1 (InputLayer)         [(None, 80, 1)]           0         \n",
      "_________________________________________________________________\n",
      "dense (Dense)                (None, 80, 1)             2         \n",
      "=================================================================\n",
      "Total params: 2\n",
      "Trainable params: 2\n",
      "Non-trainable params: 0\n",
      "_________________________________________________________________\n"
     ]
    }
   ],
   "source": [
    "model_logistic.summary()"
   ]
  },
  {
   "cell_type": "code",
   "execution_count": 17,
   "metadata": {},
   "outputs": [
    {
     "name": "stdout",
     "output_type": "stream",
     "text": [
      "2\n",
      "<tf.Variable 'dense/kernel:0' shape=(1, 1) dtype=float32, numpy=array([[4.367681]], dtype=float32)>\n",
      "<tf.Variable 'dense/bias:0' shape=(1,) dtype=float32, numpy=array([0.7879043], dtype=float32)>\n",
      "4.367681\n",
      "0.7879043\n"
     ]
    }
   ],
   "source": [
    "print(len(model_logistic.layers[1].weights))\n",
    "print(model_logistic.layers[1].weights[0])\n",
    "print(model_logistic.layers[1].weights[1])\n",
    "print(model_logistic.layers[1].get_weights()[0][0][0]) # Este es W\n",
    "print(model_logistic.layers[1].get_weights()[1][0]) # Este es el bias b"
   ]
  },
  {
   "cell_type": "code",
   "execution_count": 18,
   "metadata": {},
   "outputs": [],
   "source": [
    "W = model_logistic.layers[1].get_weights()[0][0][0]\n",
    "b = model_logistic.layers[1].get_weights()[1][0]"
   ]
  },
  {
   "cell_type": "code",
   "execution_count": 19,
   "metadata": {},
   "outputs": [
    {
     "data": {
      "image/png": "[encoded data removed]",
      "text/plain": [
       "<Figure size 432x288 with 1 Axes>"
      ]
     },
     "metadata": {
      "needs_background": "light"
     },
     "output_type": "display_data"
    }
   ],
   "source": [
    "resultado = lambda x: W*x + b\n",
    "plt.plot(X_[:,0],X_[:,1], 'o', X_[:,0], resultado(X_[:,0]), 'g^', X_[:,0], sigmoide(resultado(X_[:,0])), 'bs')\n",
    "plt.show()"
   ]
  },
  {
   "cell_type": "markdown",
   "metadata": {},
   "source": [
    "## Predicciones"
   ]
  },
  {
   "cell_type": "code",
   "execution_count": 20,
   "metadata": {},
   "outputs": [
    {
     "name": "stdout",
     "output_type": "stream",
     "text": [
      "WARNING:tensorflow:Model was constructed with shape (None, 80, 1) for input Tensor(\"input_1:0\", shape=(None, 80, 1), dtype=float32), but it was called on an input with incompatible shape (None, 1, 1).\n",
      "[[[0.03276384]]\n",
      "\n",
      " [[0.97690415]]\n",
      "\n",
      " [[0.9989146 ]]\n",
      "\n",
      " [[0.37104762]]\n",
      "\n",
      " [[0.999962  ]]\n",
      "\n",
      " [[0.99257565]]\n",
      "\n",
      " [[0.05197042]]\n",
      "\n",
      " [[0.00436261]]\n",
      "\n",
      " [[0.99381375]]\n",
      "\n",
      " [[0.00766104]]]\n",
      "[0 1 1 0 1 1 0 0 1 0]\n",
      "[0 1 1 0 1 1 0 0 1 0]\n",
      "10\n"
     ]
    }
   ],
   "source": [
    "predicciones = model_logistic.predict(X_[90:,0])\n",
    "print(predicciones)\n",
    "predicciones = np.where(predicciones>0.5, 1, 0).reshape((10,))\n",
    "print(predicciones)\n",
    "print(y_[90:])\n",
    "res = np.sum(predicciones==y_[90:])\n",
    "print(res)"
   ]
  },
  {
   "cell_type": "markdown",
   "metadata": {},
   "source": [
    "# Graficar la salida de cada epoca?\n",
    "# Graficar como desciende el gradiente"
   ]
  },
  {
   "cell_type": "markdown",
   "metadata": {},
   "source": [
    "## 2. Implementación de Regresión Logística usando el modelo secuencial de Keras"
   ]
  },
  {
   "cell_type": "code",
   "execution_count": 24,
   "metadata": {
    "id": "9dmGIvwaIaeH"
   },
   "outputs": [],
   "source": [
    "def reg_logistica_2 (X_train, Y_train, X_test, Y_test, num_iterations=2000, learning_rate=0.1):\n",
    "    dim = X_train.shape[1]\n",
    "    print(X_train.shape)\n",
    "    model = keras.Sequential()\n",
    "    model.add(keras.Input(dim, ))\n",
    "    model.add(tf.keras.layers.Dense(1, activation='sigmoid'))\n",
    "    \n",
    "    sgd = keras.optimizers.SGD(lr=learning_rate) #SGD=Stochastic Gradient Descent\n",
    "    model.compile(optimizer=sgd, loss='binary_crossentropy', metrics=['binary_accuracy'])\n",
    "    model.fit(X_train, Y_train, batch_size=1, epochs=num_iterations, shuffle=False)\n",
    "    return model"
   ]
  },
  {
   "cell_type": "code",
   "execution_count": 25,
   "metadata": {},
   "outputs": [
    {
     "data": {
      "text/plain": [
       "(100,)"
      ]
     },
     "execution_count": 25,
     "metadata": {},
     "output_type": "execute_result"
    }
   ],
   "source": [
    "y_.shape"
   ]
  },
  {
   "cell_type": "code",
   "execution_count": 26,
   "metadata": {},
   "outputs": [
    {
     "name": "stdout",
     "output_type": "stream",
     "text": [
      "(80, 2)\n",
      "Epoch 1/10\n",
      "80/80 [==============================] - 0s 751us/step - loss: 0.5995 - binary_accuracy: 0.7250\n",
      "Epoch 2/10\n",
      "80/80 [==============================] - 0s 821us/step - loss: 0.1959 - binary_accuracy: 0.9625\n",
      "Epoch 3/10\n",
      "80/80 [==============================] - 0s 781us/step - loss: 0.1405 - binary_accuracy: 0.9625\n",
      "Epoch 4/10\n",
      "80/80 [==============================] - 0s 931us/step - loss: 0.1176 - binary_accuracy: 0.9750\n",
      "Epoch 5/10\n",
      "80/80 [==============================] - 0s 830us/step - loss: 0.1048 - binary_accuracy: 0.9750\n",
      "Epoch 6/10\n",
      "80/80 [==============================] - 0s 834us/step - loss: 0.0966 - binary_accuracy: 0.9750\n",
      "Epoch 7/10\n",
      "80/80 [==============================] - 0s 895us/step - loss: 0.0907 - binary_accuracy: 0.9750\n",
      "Epoch 8/10\n",
      "80/80 [==============================] - 0s 790us/step - loss: 0.0863 - binary_accuracy: 0.9750\n",
      "Epoch 9/10\n",
      "80/80 [==============================] - 0s 778us/step - loss: 0.0828 - binary_accuracy: 0.9750\n",
      "Epoch 10/10\n",
      "80/80 [==============================] - 0s 733us/step - loss: 0.0800 - binary_accuracy: 0.9750\n"
     ]
    }
   ],
   "source": [
    "seq_model = reg_logistica_2(X_[:80,:80], y_[:80], X_[80:90,80:90], y_[80:90], num_iterations=10)"
   ]
  },
  {
   "cell_type": "markdown",
   "metadata": {
    "id": "2U4D6pIsIMux"
   },
   "source": [
    "# Implementacion en Pytorch"
   ]
  },
  {
   "cell_type": "code",
   "execution_count": 12,
   "metadata": {
    "id": "qyjf__MLWs9k"
   },
   "outputs": [],
   "source": [
    "import torch\n",
    "import torch.nn as nn\n",
    "from sklearn import datasets\n",
    "from sklearn.preprocessing import StandardScaler\n",
    "from sklearn.model_selection import train_test_split\n",
    "import matplotlib.pyplot as plt\n",
    "import numpy as np"
   ]
  },
  {
   "cell_type": "code",
   "execution_count": 13,
   "metadata": {
    "id": "Xt-hHHiPWu6Q"
   },
   "outputs": [],
   "source": [
    "X_, y_ = datasets.make_classification(n_samples=100, n_features = 6, random_state=1)\n",
    "X_train, X_test, y_train, y_test = train_test_split(X_, y_, test_size = 0.2, random_state=1)\n",
    "sc = StandardScaler()\n",
    "X_train = sc.fit_transform(X_train)\n",
    "X_test = sc.transform(X_test)\n",
    "X_train = torch.from_numpy(X_train.astype(np.float32))\n",
    "X_test = torch.from_numpy(X_test.astype(np.float32))\n",
    "y_train = torch.from_numpy(y_train.astype(np.float32))\n",
    "y_test = torch.from_numpy(y_test.astype(np.float32))\n",
    "\n",
    "y_train = y_train.view(y_train.shape[0], 1)\n",
    "y_test = y_test.view(y_test.shape[0], 1)\n",
    "\n",
    "\n",
    "n_samples, n_features = X_.shape"
   ]
  },
  {
   "cell_type": "code",
   "execution_count": 14,
   "metadata": {
    "id": "ecWUfk2te6fz"
   },
   "outputs": [],
   "source": [
    "class LogisticRegression(nn.Module):\n",
    "\n",
    "    def __init__(self, n_input_features):\n",
    "    super(LogisticRegression, self).__init__()\n",
    "    self.linear = nn.Linear(n_input_features, 1)\n",
    "\n",
    "    def forward(self, x):\n",
    "    y_predicted = torch.sigmoid(self.linear(x))\n",
    "    return y_predicted"
   ]
  },
  {
   "cell_type": "code",
   "execution_count": 15,
   "metadata": {
    "id": "5Rv3HmWce53J"
   },
   "outputs": [],
   "source": [
    "model = LogisticRegression(n_features)"
   ]
  },
  {
   "cell_type": "code",
   "execution_count": 16,
   "metadata": {
    "id": "CZtLt9TQh5cI"
   },
   "outputs": [],
   "source": [
    "learning_rate = 0.01\n",
    "criterion = nn.BCELoss()\n",
    "optimizer = torch.optim.SGD(params= model.parameters(),lr = learning_rate)"
   ]
  },
  {
   "cell_type": "code",
   "execution_count": 17,
   "metadata": {
    "id": "8GtwUH--iO_6"
   },
   "outputs": [],
   "source": [
    "num_epochs = 100\n",
    "for epoch in range(num_epochs):\n",
    "    #forward pass and loss\n",
    "    y_predicted = model(X_train)\n",
    "    loss = criterion(y_predicted, y_train)\n",
    "\n",
    "    #backward\n",
    "    loss.backward()\n",
    "\n",
    "    ##update\n",
    "    optimizer.step()\n",
    "\n",
    "    optimizer.zero_grad() ## clean gradients to next iteration\n",
    "\n",
    "    if(epoch+1) % 10 == 10:\n",
    "        print(f'epoch: {epoch + 1}, loss = {loss.item():.4f}')"
   ]
  },
  {
   "cell_type": "code",
   "execution_count": 18,
   "metadata": {
    "colab": {
     "base_uri": "https://localhost:8080/"
    },
    "id": "CdTOUBwVlHb3",
    "outputId": "f17e72af-2f13-4ddd-caf4-9e4c0f404f0f"
   },
   "outputs": [
    {
     "name": "stdout",
     "output_type": "stream",
     "text": [
      "accuracy =  1.0000\n"
     ]
    }
   ],
   "source": [
    "with torch.no_grad():\n",
    "  y_predicted = model(X_test)\n",
    "  y_predicted_cls = y_predicted.round()\n",
    "  acc = y_predicted_cls.eq(y_test).sum() / float(y_test.shape[0])\n",
    "  print(f'accuracy =  {acc:.4f}')"
   ]
  },
  {
   "cell_type": "code",
   "execution_count": 19,
   "metadata": {
    "id": "q2d3X8w1XWIL"
   },
   "outputs": [
    {
     "name": "stdout",
     "output_type": "stream",
     "text": [
      "accuracy =  1.0000\n"
     ]
    }
   ],
   "source": [
    "#with torch.no_grad():\n",
    "model.eval()\n",
    "y_predicted = model(X_test)\n",
    "y_predicted_cls = y_predicted.round()\n",
    "acc2 = y_predicted_cls.eq(y_test).sum() / float(y_test.shape[0])\n",
    "print(f'accuracy =  {acc2:.4f}')"
   ]
  },
  {
   "cell_type": "markdown",
   "metadata": {
    "id": "TGP_okH0IZ9C"
   },
   "source": []
  },
  {
   "cell_type": "code",
   "execution_count": null,
   "metadata": {
    "id": "zM4FV6YmIKk_"
   },
   "outputs": [],
   "source": [
    "#grafico"
   ]
  },
  {
   "cell_type": "markdown",
   "metadata": {
    "id": "1bBS0joSIQT-"
   },
   "source": [
    "Explicación adicional"
   ]
  },
  {
   "cell_type": "code",
   "execution_count": null,
   "metadata": {
    "id": "bvhV5E9FIS0O"
   },
   "outputs": [],
   "source": []
  }
 ],
 "metadata": {
  "colab": {
   "include_colab_link": true,
   "name": "Regresión Logistica.ipynb",
   "provenance": []
  },
  "kernelspec": {
   "display_name": "Python 3",
   "language": "python",
   "name": "python3"
  },
  "language_info": {
   "codemirror_mode": {
    "name": "ipython",
    "version": 3
   },
   "file_extension": ".py",
   "mimetype": "text/x-python",
   "name": "python",
   "nbconvert_exporter": "python",
   "pygments_lexer": "ipython3",
   "version": "3.8.2"
  }
 },
 "nbformat": 4,
 "nbformat_minor": 1
}
