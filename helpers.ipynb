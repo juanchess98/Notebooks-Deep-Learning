{
  "nbformat": 4,
  "nbformat_minor": 0,
  "metadata": {
    "colab": {
      "name": "Untitled0.ipynb",
      "provenance": [],
      "authorship_tag": "ABX9TyNWo8jSwIfR2NAT7xWzFZS+",
      "include_colab_link": true
    },
    "kernelspec": {
      "name": "python3",
      "display_name": "Python 3"
    },
    "language_info": {
      "name": "python"
    }
  },
  "cells": [
    {
      "cell_type": "markdown",
      "metadata": {
        "id": "view-in-github",
        "colab_type": "text"
      },
      "source": [
        "<a href=\"https://colab.research.google.com/github/juanchess98/Notebooks-Deep-Learning/blob/david-helpers/helpers.ipynb\" target=\"_parent\"><img src=\"https://colab.research.google.com/assets/colab-badge.svg\" alt=\"Open In Colab\"/></a>"
      ]
    },
    {
      "cell_type": "markdown",
      "metadata": {
        "id": "ypPnkMnrm3q3"
      },
      "source": [
        ""
      ]
    },
    {
      "cell_type": "markdown",
      "metadata": {
        "id": "Pao5iR8nm5h3"
      },
      "source": [
        "### Funci'on para crear bases de datos sint'eticas"
      ]
    },
    {
      "cell_type": "code",
      "metadata": {
        "id": "I-jmpN1Gm0R4"
      },
      "source": [
        "def make_dataset():"
      ],
      "execution_count": null,
      "outputs": []
    }
  ]
}