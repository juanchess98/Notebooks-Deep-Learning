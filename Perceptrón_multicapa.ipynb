{
  "nbformat": 4,
  "nbformat_minor": 0,
  "metadata": {
    "colab": {
      "name": "Perceptrón multicapa.ipynb",
      "provenance": [],
      "collapsed_sections": [],
      "authorship_tag": "ABX9TyPvf0O2hDisrjCrv2//zFMQ",
      "include_colab_link": true
    },
    "kernelspec": {
      "name": "python3",
      "display_name": "Python 3"
    },
    "language_info": {
      "name": "python"
    }
  },
  "cells": [
    {
      "cell_type": "markdown",
      "metadata": {
        "id": "view-in-github",
        "colab_type": "text"
      },
      "source": [
        "<a href=\"https://colab.research.google.com/github/juanchess98/Notebooks-Deep-Learning/blob/Perceptr%C3%B3n-multicapa/Perceptr%C3%B3n_multicapa.ipynb\" target=\"_parent\"><img src=\"https://colab.research.google.com/assets/colab-badge.svg\" alt=\"Open In Colab\"/></a>"
      ]
    },
    {
      "cell_type": "code",
      "metadata": {
        "id": "mHydIqrKoorO"
      },
      "source": [
        ""
      ],
      "execution_count": null,
      "outputs": []
    },
    {
      "cell_type": "code",
      "metadata": {
        "id": "ah-iEW55oiYS"
      },
      "source": [
        "# Imports"
      ],
      "execution_count": null,
      "outputs": []
    },
    {
      "cell_type": "markdown",
      "metadata": {
        "id": "9n4iqSmJor-0"
      },
      "source": [
        "# Perceptron Multicapa"
      ]
    },
    {
      "cell_type": "markdown",
      "metadata": {
        "id": "2XeUThLXpESE"
      },
      "source": [
        "\n",
        "El perceptron es de una de las estructuras más simples. Está basada en una neurona ligeramente diferente llamada unidad logica de umbral(TLU) o a veces llamada  unidad lineal de umbral(LTU). Las entradas y las salidas son numeros cada entrada a la conexión se asocia con un peso. Esta unidad computa una suma ponderada de sus entradas y luego aplica una función de activacion, en este caso una función de escalon, a esta suma. \n",
        "$$z = w_{1}x_{1} + w_{2}x_{2} + ... + w_{n}x_{n} = \\boldsymbol{X^{T}}\\boldsymbol{w}$$\n",
        "$$h_{\\boldsymbol{w}}(\\boldsymbol{X}) = step(\\boldsymbol{X^{T}}\\boldsymbol{w})$$\n",
        "# Image\n",
        "\n",
        " La función escalón más utilizada es la función escalón de Heaviside. La función de signo es utilizada también algunas veces.\n",
        "\n"
      ]
    },
    {
      "cell_type": "code",
      "metadata": {
        "id": "kx5-rGKrh6zW"
      },
      "source": [
        "def heaviside(z):\n",
        "  if z>=0:\n",
        "    out = 1\n",
        "  else:\n",
        "    out = 0\n",
        "  return out"
      ],
      "execution_count": 1,
      "outputs": []
    },
    {
      "cell_type": "code",
      "metadata": {
        "id": "QAkt3Au8icrn"
      },
      "source": [
        "def sign(z):\n",
        "  if z<0:\n",
        "    out = -1\n",
        "  elif z>0:\n",
        "    out = 1\n",
        "  else:\n",
        "    out = 0\n",
        "  return out  "
      ],
      "execution_count": 2,
      "outputs": []
    },
    {
      "cell_type": "markdown",
      "metadata": {
        "id": "4PLm9A2tjIhb"
      },
      "source": [
        "Este tipo de unidad se puede utilizar para realizar tareas simples de clasificación binaria. Por ejemplo, se podría utilizar un perceptrón para clasificar perros y gatos(tambien añadiendo un termino bias $x_{0}$)."
      ]
    },
    {
      "cell_type": "code",
      "metadata": {
        "id": "6mruXrSJlF9S"
      },
      "source": [
        " "
      ],
      "execution_count": null,
      "outputs": []
    },
    {
      "cell_type": "markdown",
      "metadata": {
        "id": "5q0rwPsMncAm"
      },
      "source": [
        "Un Perceptrón está simplemente compuesto de una capa  con unidades logicas de umbral(TLU´s) con cada TLU conectado a todas las entradas. Cuando todas las unidades o neuronas de una cada están conectadas a cada neurona o unidad anterior(es decir, sus neuronas o unidades de entrada) se denomina una capa densa o totalmente conectada."
      ]
    },
    {
      "cell_type": "markdown",
      "metadata": {
        "id": "bSomALFRpG5E"
      },
      "source": [
        "Ilustración"
      ]
    },
    {
      "cell_type": "code",
      "metadata": {
        "id": "i0bbsd6eoybZ"
      },
      "source": [
        "## Dataset a utilizar"
      ],
      "execution_count": null,
      "outputs": []
    },
    {
      "cell_type": "code",
      "metadata": {
        "id": "1zCjtIWJpNfp"
      },
      "source": [
        "   # exploración dataset"
      ],
      "execution_count": null,
      "outputs": []
    },
    {
      "cell_type": "code",
      "metadata": {
        "id": "L2v9c8t9pmOb"
      },
      "source": [
        ""
      ],
      "execution_count": null,
      "outputs": []
    }
  ]
}