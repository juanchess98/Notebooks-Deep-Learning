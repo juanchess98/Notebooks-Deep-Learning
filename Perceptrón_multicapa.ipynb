{
  "nbformat": 4,
  "nbformat_minor": 0,
  "metadata": {
    "colab": {
      "name": "Perceptrón multicapa.ipynb",
      "provenance": [],
      "collapsed_sections": [],
      "toc_visible": true,
      "authorship_tag": "ABX9TyMyVbwEj3fJkthsFMISl2sZ",
      "include_colab_link": true
    },
    "kernelspec": {
      "name": "python3",
      "display_name": "Python 3"
    },
    "language_info": {
      "name": "python"
    },
    "widgets": {
      "application/vnd.jupyter.widget-state+json": {
        "906a9e3610834713bcee64f5d1a4f718": {
          "model_module": "@jupyter-widgets/controls",
          "model_name": "HBoxModel",
          "state": {
            "_view_name": "HBoxView",
            "_dom_classes": [],
            "_model_name": "HBoxModel",
            "_view_module": "@jupyter-widgets/controls",
            "_model_module_version": "1.5.0",
            "_view_count": null,
            "_view_module_version": "1.5.0",
            "box_style": "",
            "layout": "IPY_MODEL_800c6566cb9a4ddf82e030c75f0f676a",
            "_model_module": "@jupyter-widgets/controls",
            "children": [
              "IPY_MODEL_16851537205a42f99cb0e324bd9f3115",
              "IPY_MODEL_1bfd0f3743404a74a5018a3e3317d73d"
            ]
          }
        },
        "800c6566cb9a4ddf82e030c75f0f676a": {
          "model_module": "@jupyter-widgets/base",
          "model_name": "LayoutModel",
          "state": {
            "_view_name": "LayoutView",
            "grid_template_rows": null,
            "right": null,
            "justify_content": null,
            "_view_module": "@jupyter-widgets/base",
            "overflow": null,
            "_model_module_version": "1.2.0",
            "_view_count": null,
            "flex_flow": null,
            "width": null,
            "min_width": null,
            "border": null,
            "align_items": null,
            "bottom": null,
            "_model_module": "@jupyter-widgets/base",
            "top": null,
            "grid_column": null,
            "overflow_y": null,
            "overflow_x": null,
            "grid_auto_flow": null,
            "grid_area": null,
            "grid_template_columns": null,
            "flex": null,
            "_model_name": "LayoutModel",
            "justify_items": null,
            "grid_row": null,
            "max_height": null,
            "align_content": null,
            "visibility": null,
            "align_self": null,
            "height": null,
            "min_height": null,
            "padding": null,
            "grid_auto_rows": null,
            "grid_gap": null,
            "max_width": null,
            "order": null,
            "_view_module_version": "1.2.0",
            "grid_template_areas": null,
            "object_position": null,
            "object_fit": null,
            "grid_auto_columns": null,
            "margin": null,
            "display": null,
            "left": null
          }
        },
        "16851537205a42f99cb0e324bd9f3115": {
          "model_module": "@jupyter-widgets/controls",
          "model_name": "FloatProgressModel",
          "state": {
            "_view_name": "ProgressView",
            "style": "IPY_MODEL_2b21ce0f6dbb47cab9827d3032171711",
            "_dom_classes": [],
            "description": "",
            "_model_name": "FloatProgressModel",
            "bar_style": "success",
            "max": 170498071,
            "_view_module": "@jupyter-widgets/controls",
            "_model_module_version": "1.5.0",
            "value": 170498071,
            "_view_count": null,
            "_view_module_version": "1.5.0",
            "orientation": "horizontal",
            "min": 0,
            "description_tooltip": null,
            "_model_module": "@jupyter-widgets/controls",
            "layout": "IPY_MODEL_fadd8b13d99b483cba9102305ef75e39"
          }
        },
        "1bfd0f3743404a74a5018a3e3317d73d": {
          "model_module": "@jupyter-widgets/controls",
          "model_name": "HTMLModel",
          "state": {
            "_view_name": "HTMLView",
            "style": "IPY_MODEL_9fe6310c0ff148548dd0d4e34b0949bb",
            "_dom_classes": [],
            "description": "",
            "_model_name": "HTMLModel",
            "placeholder": "​",
            "_view_module": "@jupyter-widgets/controls",
            "_model_module_version": "1.5.0",
            "value": " 170499072/? [00:51&lt;00:00, 3304445.25it/s]",
            "_view_count": null,
            "_view_module_version": "1.5.0",
            "description_tooltip": null,
            "_model_module": "@jupyter-widgets/controls",
            "layout": "IPY_MODEL_ccea30c6c0df4420b1f748a9cc1bfacd"
          }
        },
        "2b21ce0f6dbb47cab9827d3032171711": {
          "model_module": "@jupyter-widgets/controls",
          "model_name": "ProgressStyleModel",
          "state": {
            "_view_name": "StyleView",
            "_model_name": "ProgressStyleModel",
            "description_width": "initial",
            "_view_module": "@jupyter-widgets/base",
            "_model_module_version": "1.5.0",
            "_view_count": null,
            "_view_module_version": "1.2.0",
            "bar_color": null,
            "_model_module": "@jupyter-widgets/controls"
          }
        },
        "fadd8b13d99b483cba9102305ef75e39": {
          "model_module": "@jupyter-widgets/base",
          "model_name": "LayoutModel",
          "state": {
            "_view_name": "LayoutView",
            "grid_template_rows": null,
            "right": null,
            "justify_content": null,
            "_view_module": "@jupyter-widgets/base",
            "overflow": null,
            "_model_module_version": "1.2.0",
            "_view_count": null,
            "flex_flow": null,
            "width": null,
            "min_width": null,
            "border": null,
            "align_items": null,
            "bottom": null,
            "_model_module": "@jupyter-widgets/base",
            "top": null,
            "grid_column": null,
            "overflow_y": null,
            "overflow_x": null,
            "grid_auto_flow": null,
            "grid_area": null,
            "grid_template_columns": null,
            "flex": null,
            "_model_name": "LayoutModel",
            "justify_items": null,
            "grid_row": null,
            "max_height": null,
            "align_content": null,
            "visibility": null,
            "align_self": null,
            "height": null,
            "min_height": null,
            "padding": null,
            "grid_auto_rows": null,
            "grid_gap": null,
            "max_width": null,
            "order": null,
            "_view_module_version": "1.2.0",
            "grid_template_areas": null,
            "object_position": null,
            "object_fit": null,
            "grid_auto_columns": null,
            "margin": null,
            "display": null,
            "left": null
          }
        },
        "9fe6310c0ff148548dd0d4e34b0949bb": {
          "model_module": "@jupyter-widgets/controls",
          "model_name": "DescriptionStyleModel",
          "state": {
            "_view_name": "StyleView",
            "_model_name": "DescriptionStyleModel",
            "description_width": "",
            "_view_module": "@jupyter-widgets/base",
            "_model_module_version": "1.5.0",
            "_view_count": null,
            "_view_module_version": "1.2.0",
            "_model_module": "@jupyter-widgets/controls"
          }
        },
        "ccea30c6c0df4420b1f748a9cc1bfacd": {
          "model_module": "@jupyter-widgets/base",
          "model_name": "LayoutModel",
          "state": {
            "_view_name": "LayoutView",
            "grid_template_rows": null,
            "right": null,
            "justify_content": null,
            "_view_module": "@jupyter-widgets/base",
            "overflow": null,
            "_model_module_version": "1.2.0",
            "_view_count": null,
            "flex_flow": null,
            "width": null,
            "min_width": null,
            "border": null,
            "align_items": null,
            "bottom": null,
            "_model_module": "@jupyter-widgets/base",
            "top": null,
            "grid_column": null,
            "overflow_y": null,
            "overflow_x": null,
            "grid_auto_flow": null,
            "grid_area": null,
            "grid_template_columns": null,
            "flex": null,
            "_model_name": "LayoutModel",
            "justify_items": null,
            "grid_row": null,
            "max_height": null,
            "align_content": null,
            "visibility": null,
            "align_self": null,
            "height": null,
            "min_height": null,
            "padding": null,
            "grid_auto_rows": null,
            "grid_gap": null,
            "max_width": null,
            "order": null,
            "_view_module_version": "1.2.0",
            "grid_template_areas": null,
            "object_position": null,
            "object_fit": null,
            "grid_auto_columns": null,
            "margin": null,
            "display": null,
            "left": null
          }
        }
      }
    }
  },
  "cells": [
    {
      "cell_type": "markdown",
      "metadata": {
        "id": "view-in-github",
        "colab_type": "text"
      },
      "source": [
        "<a href=\"https://colab.research.google.com/github/juanchess98/Notebooks-Deep-Learning/blob/Perceptr%C3%B3n-multicapa/Perceptr%C3%B3n_multicapa.ipynb\" target=\"_parent\"><img src=\"https://colab.research.google.com/assets/colab-badge.svg\" alt=\"Open In Colab\"/></a>"
      ]
    },
    {
      "cell_type": "code",
      "metadata": {
        "id": "mHydIqrKoorO"
      },
      "source": [
        ""
      ],
      "execution_count": null,
      "outputs": []
    },
    {
      "cell_type": "code",
      "metadata": {
        "id": "ah-iEW55oiYS"
      },
      "source": [
        "# Imports"
      ],
      "execution_count": null,
      "outputs": []
    },
    {
      "cell_type": "markdown",
      "metadata": {
        "id": "9n4iqSmJor-0"
      },
      "source": [
        "# Perceptron Multicapa"
      ]
    },
    {
      "cell_type": "markdown",
      "metadata": {
        "id": "2XeUThLXpESE"
      },
      "source": [
        "\n",
        "El perceptron es de una de las estructuras más simples. Está basada en una neurona ligeramente diferente llamada unidad logica de umbral(TLU) o a veces llamada  unidad lineal de umbral(LTU). Las entradas y las salidas son numeros cada entrada a la conexión se asocia con un peso. Esta unidad computa una suma ponderada de sus entradas y luego aplica una función de activacion, en este caso una función de escalon, a esta suma. \n",
        "$$z = w_{1}x_{1} + w_{2}x_{2} + ... + w_{n}x_{n} = \\boldsymbol{X^{T}}\\boldsymbol{w}$$\n",
        "$$h_{\\boldsymbol{w}}(\\boldsymbol{X}) = step(\\boldsymbol{X^{T}}\\boldsymbol{w})$$\n",
        "# Image\n",
        "\n",
        " La función escalón más utilizada es la función escalón de Heaviside. La función de signo es utilizada también algunas veces.\n",
        "\n"
      ]
    },
    {
      "cell_type": "code",
      "metadata": {
        "id": "kx5-rGKrh6zW"
      },
      "source": [
        "def heaviside(z):\n",
        "  if z>=0:\n",
        "    out = 1\n",
        "  else:\n",
        "    out = 0\n",
        "  return out"
      ],
      "execution_count": null,
      "outputs": []
    },
    {
      "cell_type": "code",
      "metadata": {
        "id": "QAkt3Au8icrn"
      },
      "source": [
        "def sign(z):\n",
        "  if z<0:\n",
        "    out = -1\n",
        "  elif z>0:\n",
        "    out = 1\n",
        "  else:\n",
        "    out = 0\n",
        "  return out  "
      ],
      "execution_count": null,
      "outputs": []
    },
    {
      "cell_type": "markdown",
      "metadata": {
        "id": "bFiAvAAiVEyn"
      },
      "source": [
        "Graficar funciones"
      ]
    },
    {
      "cell_type": "markdown",
      "metadata": {
        "id": "61t5DsgE68c6"
      },
      "source": [
        "La función escalón de Heaviside no es diferenciable en x=0 y tiene gradiente igual a cero en cualquier otro lugar, lo que significa que el descenso del gradiente no podrá actualizar los parametros. Por esta razón, está función no se utiliza en una red neuronal profunda."
      ]
    },
    {
      "cell_type": "code",
      "metadata": {
        "id": "T_wdPJAu20b0"
      },
      "source": [
        ""
      ],
      "execution_count": null,
      "outputs": []
    },
    {
      "cell_type": "code",
      "metadata": {
        "id": "Q3-sHSxK2xiY"
      },
      "source": [
        "\n",
        "class Perceptron(nn.Module):\n",
        "  def __init__(self):\n",
        "    super(Perceptron, self).__init__()\n",
        "    self.fc = nn.Linear(1,1)\n",
        "    self.relu = nn.ReLU() # Instead of Heaviside step fn\n",
        "\n",
        "  def forward(self, x):\n",
        "    output =  self.fc(x)\n",
        "    output = self.relu(x)\n",
        "    return output\n"
      ],
      "execution_count": 38,
      "outputs": []
    },
    {
      "cell_type": "code",
      "metadata": {
        "id": "T8gNqIBN4I4X"
      },
      "source": [
        "class Feedforward(nn.Module):\n",
        "  def __init__(self, input_size, hidden_size):\n",
        "    super(Feedforward, self).__init__\n",
        "    self.input_size = input_size\n",
        "    self.hidden_size = hidden_size\n",
        "    sel.f1 = nn.Linear(self.input_size, self.hidden_size)\n",
        "    self.relu = nn.ReLU()\n",
        "    self.fc2 =nn.Linear(self.hidden_size, 1)\n",
        "    self.sigmoid = nn.Sigmoid()\n",
        "\n",
        "  def forward(self, x):\n",
        "    hidden = self.fc1(x)\n",
        "    relu = self.relu(hidden)\n",
        "    output = self.fc2(relu)\n",
        "    output = self.sigmoid(output) # Binary Classification\n",
        "    return output"
      ],
      "execution_count": 41,
      "outputs": []
    },
    {
      "cell_type": "code",
      "metadata": {
        "id": "0JhdL9NC9Gkf"
      },
      "source": [
        "#Create  artificial points\n",
        "from sklearn.datasets import make_blobs\n",
        "def blob_label(y, label, loc): \n",
        "  target = np.copy(y)\n",
        "  for l in loc:\n",
        "    target [y == l] = label\n",
        "    return target\n",
        "x_train, y_train = make_blobs(n_samples = 40, n_features=2, cluster_std = 1.5, shuffle = True)\n",
        "x_train = torch.FloatTensor(x_train)\n",
        "y_train = torch.FloatTensor(blob_label(y_train,0, [0]))\n",
        "y_train = torch.FloatTensor(blob_label(y_train, 1, [1,2,3]))\n",
        "\n",
        "x_test, y_test = make_blobs(n_samples = 10, n_features=2, cluster_std = 1.5, shuffle = True)\n",
        "x_test = torch.FloatTensor(x_train)\n",
        "y_test = torch.FloatTensor(blob_label(y_train,0, [0]))\n",
        "y_test = torch.FloatTensor(blob_label(y_train, 1, [1,2,3]))\n",
        "\n",
        "\n",
        "\n",
        "\n",
        "\n"
      ],
      "execution_count": 50,
      "outputs": []
    },
    {
      "cell_type": "code",
      "metadata": {
        "id": "gf_ze3nF8zWl"
      },
      "source": [
        "model = Feedforward(2, 10)\n",
        "criterion = nn.BCELoss()\n",
        "optimizer = optim.SGD(model.paramters(), lr = 0.01)"
      ],
      "execution_count": null,
      "outputs": []
    },
    {
      "cell_type": "markdown",
      "metadata": {
        "id": "P38IjTOC66HD"
      },
      "source": [
        ""
      ]
    },
    {
      "cell_type": "markdown",
      "metadata": {
        "id": "4PLm9A2tjIhb"
      },
      "source": [
        "Este tipo de unidad se puede utilizar para realizar tareas simples de clasificación binaria. Por ejemplo, se podría utilizar un perceptrón para clasificar perros y gatos(tambien añadiendo un termino bias $x_{0}$)."
      ]
    },
    {
      "cell_type": "markdown",
      "metadata": {
        "id": "0YGZ8RauVMH5"
      },
      "source": [
        "# Crear un perceptrón simple para un dataset determinado y luego comparar las metricas de accuracy?"
      ]
    },
    {
      "cell_type": "code",
      "metadata": {
        "id": "6mruXrSJlF9S"
      },
      "source": [
        " "
      ],
      "execution_count": null,
      "outputs": []
    },
    {
      "cell_type": "markdown",
      "metadata": {
        "id": "5q0rwPsMncAm"
      },
      "source": [
        "Un Perceptrón está simplemente compuesto de una capa  con unidades logicas de umbral(TLU´s) con cada TLU conectado a todas las entradas. Cuando todas las unidades o neuronas de una capa están conectadas a cada neurona o unidad anterior(es decir, sus neuronas o unidades de entrada) se denomina una capa densa o totalmente conectada."
      ]
    },
    {
      "cell_type": "markdown",
      "metadata": {
        "id": "bSomALFRpG5E"
      },
      "source": [
        "Ilustración"
      ]
    },
    {
      "cell_type": "markdown",
      "metadata": {
        "id": "_S1btfbZU37l"
      },
      "source": [
        "El Perceptron multicapas"
      ]
    },
    {
      "cell_type": "code",
      "metadata": {
        "id": "i0bbsd6eoybZ"
      },
      "source": [
        "## Dataset a utilizar"
      ],
      "execution_count": null,
      "outputs": []
    },
    {
      "cell_type": "code",
      "metadata": {
        "id": "1zCjtIWJpNfp"
      },
      "source": [
        "   # exploración dataset"
      ],
      "execution_count": null,
      "outputs": []
    },
    {
      "cell_type": "code",
      "metadata": {
        "id": "L2v9c8t9pmOb"
      },
      "source": [
        ""
      ],
      "execution_count": null,
      "outputs": []
    },
    {
      "cell_type": "markdown",
      "metadata": {
        "id": "44h5_Lo2XxRg"
      },
      "source": [
        "# Funciones de activación\n",
        "\n",
        "---\n",
        "\n",
        "Las funciones de activación cumplen dos roles muy importantes:\n",
        "- En las partes internas del modelo permite que la función de salida tenga un valor de derivada diferente en diferentes puntos, algo que no lo puede lograr una función lineal por definición.\n",
        "- Permiten concentrar las salidas de la función lineal en un rango de valores especificado.\n",
        "\n",
        "\n",
        "---\n",
        "\n",
        "\n",
        "\n",
        "## ¿Cómo escoger la función de activación?\n",
        "Primero discutamos acerca de las generalidades de las funciones de activación:\n",
        "- No son lineales: La no linealidad permite a la red aproximar funciones más complejas\n",
        "- Son diferenciables: Esto significad que los gradientes se pueden calcular a través de ellas. Puntos de descontinuidad como se pueden ver en la función ReLu y Hardtanh están bien.\n",
        "\n",
        "Sin estás caracteristicas, una red o se volverá dificil de entrenar o se coonvierte en un modelo lineal. \n",
        "Lo siguiente es cierto para estas funciones:\n",
        "- Tienen por lo menos un rango sensitivo, donde un cambio no trivial en la entrada resulta en un cambio no trivial en la salida, lo cual es necesario para el entrenamiento\n",
        "- Muchas de ellas tienen un rango no sensitivo(o sasturado ), en el cual los cambios en la entrada reflejan un cambio muy pequeño o casi despreciable en la salida. \n",
        "\n",
        "\n",
        "---\n",
        "\n",
        "\n",
        "Si tenemos en cuenta la propagación hacía atrás, podemos deducir que los errores se propagarán a través de la función de activación de manera más eficaz,si las entradas se encuentran en el rango de respuesta(sensitivo) y pasará lo contrario cuando estén en en rango saturado, debido a que el gradiente será cercano a cero. \n"
      ]
    },
    {
      "cell_type": "code",
      "metadata": {
        "id": "DkGbfKIbXy_q",
        "colab": {
          "base_uri": "https://localhost:8080/",
          "height": 395
        },
        "outputId": "20e58a24-8d79-4994-acd0-621d9a76f694"
      },
      "source": [
        "## Algunas funciones de activación utilizando PyTorch\n",
        "import torch\n",
        "import torch.nn as nn\n",
        "import numpy as np\n",
        "import matplotlib.pyplot as plt\n",
        "\n",
        "\n",
        "x_axe = np.linspace(-4, 4, 200)\n",
        "input = torch.from_numpy(x_axe)\n",
        "output_relu = nn.ReLU()(input).numpy() # ReLU\n",
        "output_softmax = nn.Softplus()(input).numpy() # Softplus\n",
        "output_sigmoid = nn.Sigmoid()(input).numpy() # Sigmoid\n",
        "output_leakyR = nn.LeakyReLU()(input).numpy() # Leaky ReLu\n",
        "output_tanh = nn.Tanh()(input).numpy() # Tanh\n",
        "output_hardtanh = nn.Hardtanh()(input).numpy() # HardTanh\n",
        "outputs1 = {'ReLu': output_relu, 'Sigmoid': output_sigmoid, 'Softplus': output_softmax, \n",
        "            'Tanh': output_tanh, 'Leaky ReLu': output_leakyR, 'HardTanh': output_hardtanh}\n",
        "i = 1\n",
        "fig = plt.figure(figsize=(10,10))\n",
        "fig.subplots_adjust(hspace=0.8, wspace=0.8)\n",
        "for key in outputs1.keys():\n",
        "  ax = fig.add_subplot(3, 3, i)\n",
        "  ax.plot(x_axe,outputs1[key],\"g-\")\n",
        "  ax.set_title(key)\n",
        "  ax.grid(color='gray', linestyle='dashed', linewidth=1, alpha=0.4)\n",
        "  # Pintar los ejes pasando por (0,0)\n",
        "  ax.axhline(0, color='black', linewidth=0.5)\n",
        "\n",
        "  i+=1\n",
        "\n",
        "\n",
        "plt.show()\n",
        "\n",
        "\n"
      ],
      "execution_count": 1,
      "outputs": [
        {
          "output_type": "display_data",
          "data": {
            "image/png": "[encoded data removed]",
            "text/plain": [
              "<Figure size 720x720 with 6 Axes>"
            ]
          },
          "metadata": {
            "tags": [],
            "needs_background": "light"
          }
        }
      ]
    },
    {
      "cell_type": "markdown",
      "metadata": {
        "id": "bYaVPdfFUgqR"
      },
      "source": [
        "Optimizadores\n",
        "SGD\n",
        "RMSPROP\n",
        "Adam"
      ]
    },
    {
      "cell_type": "code",
      "metadata": {
        "colab": {
          "base_uri": "https://localhost:8080/"
        },
        "id": "P2tZz2ICczU8",
        "outputId": "57b99bc1-c388-4a12-cc73-f93bf8782931"
      },
      "source": [
        "import torch.optim as optim\n",
        "dir(optim)"
      ],
      "execution_count": 3,
      "outputs": [
        {
          "output_type": "execute_result",
          "data": {
            "text/plain": [
              "['ASGD',\n",
              " 'Adadelta',\n",
              " 'Adagrad',\n",
              " 'Adam',\n",
              " 'AdamW',\n",
              " 'Adamax',\n",
              " 'LBFGS',\n",
              " 'Optimizer',\n",
              " 'RMSprop',\n",
              " 'Rprop',\n",
              " 'SGD',\n",
              " 'SparseAdam',\n",
              " '__builtins__',\n",
              " '__cached__',\n",
              " '__doc__',\n",
              " '__file__',\n",
              " '__loader__',\n",
              " '__name__',\n",
              " '__package__',\n",
              " '__path__',\n",
              " '__spec__',\n",
              " '_functional',\n",
              " '_multi_tensor',\n",
              " 'lr_scheduler',\n",
              " 'swa_utils']"
            ]
          },
          "metadata": {
            "tags": []
          },
          "execution_count": 3
        }
      ]
    },
    {
      "cell_type": "markdown",
      "metadata": {
        "id": "eAL0uBt2dC4n"
      },
      "source": [
        "Cada constructor de un optimizador toma una lista de parametros como primer argumento. Todos los parametros que son pasados al optimizador son retenidos dentro de esta instancia de modo que este puede actualizar sus valores y acceder al atributo .grad. Cada optimizador expone dos metodos zero_grad y step. \n",
        "zero_grad pone en cero el atributo .grad de los parametros pasados al optimizador mediante su constructor.\n",
        "step actualiza el valor de estos parametros de acuerdo al metodo de optimización escogido"
      ]
    },
    {
      "cell_type": "code",
      "metadata": {
        "id": "eMePERNpUjTt"
      },
      "source": [
        "Bath y epochs"
      ],
      "execution_count": null,
      "outputs": []
    },
    {
      "cell_type": "code",
      "metadata": {
        "id": "Z9hPSLcRUroh"
      },
      "source": [
        "torch.optim.Adam\n",
        "torch.optim.Adagrad\n",
        "torch.optim.Adamax\n",
        "torch.optim.SparseAdam\n",
        "torch.optim.Adadelta\n",
        "torch.optim.ASGD\n",
        "torch.optim.RMSprop\n",
        "torch.optim.Rprop\n",
        "torch.optim.SGD\n",
        "torch.optim.SparseAdam\n",
        "torch.optim.LBFGS()\n",
        "torch.optim.Optimizer\n"
      ],
      "execution_count": null,
      "outputs": []
    },
    {
      "cell_type": "code",
      "metadata": {
        "colab": {
          "base_uri": "https://localhost:8080/",
          "height": 116,
          "referenced_widgets": [
            "906a9e3610834713bcee64f5d1a4f718",
            "800c6566cb9a4ddf82e030c75f0f676a",
            "16851537205a42f99cb0e324bd9f3115",
            "1bfd0f3743404a74a5018a3e3317d73d",
            "2b21ce0f6dbb47cab9827d3032171711",
            "fadd8b13d99b483cba9102305ef75e39",
            "9fe6310c0ff148548dd0d4e34b0949bb",
            "ccea30c6c0df4420b1f748a9cc1bfacd"
          ]
        },
        "id": "8-o_NNWr5IVG",
        "outputId": "906e450b-8675-43ff-fee8-4f1c37b1e68b"
      },
      "source": [
        "from torchvision import datasets\n",
        "import torchvision.transforms as transforms\n",
        "transform = transforms.Compose(\n",
        "    [transforms.ToTensor(),\n",
        "     transforms.Normalize((0.5, 0.5, 0.5), (0.5, 0.5, 0.5))])\n",
        "data_path =   './data'\n",
        "cifar10 = datasets.CIFAR10(data_path, train=True, download=True, transform=transform)\n",
        "cifar10_val = datasets.CIFAR10(data_path, train=False, download=True, transform=transform)"
      ],
      "execution_count": 6,
      "outputs": [
        {
          "output_type": "stream",
          "text": [
            "Downloading https://www.cs.toronto.edu/~kriz/cifar-10-python.tar.gz to ./data/cifar-10-python.tar.gz\n"
          ],
          "name": "stdout"
        },
        {
          "output_type": "display_data",
          "data": {
            "application/vnd.jupyter.widget-view+json": {
              "model_id": "906a9e3610834713bcee64f5d1a4f718",
              "version_minor": 0,
              "version_major": 2
            },
            "text/plain": [
              "HBox(children=(FloatProgress(value=0.0, max=170498071.0), HTML(value='')))"
            ]
          },
          "metadata": {
            "tags": []
          }
        },
        {
          "output_type": "stream",
          "text": [
            "\n",
            "Extracting ./data/cifar-10-python.tar.gz to ./data\n",
            "Files already downloaded and verified\n"
          ],
          "name": "stdout"
        }
      ]
    },
    {
      "cell_type": "code",
      "metadata": {
        "id": "0eMi1oZT87mO"
      },
      "source": [
        "import torchvision\n",
        "batch_size = 8\n",
        "trainloader = torch.utils.data.DataLoader(cifar10, batch_size=batch_size,\n",
        "                                          shuffle=True, num_workers=2)\n",
        "testloader = torch.utils.data.DataLoader(cifar10_val, batch_size=batch_size,\n",
        "                                         shuffle=False, num_workers=2)\n",
        "classes = ('plane', 'car', 'bird', 'cat',\n",
        "           'deer', 'dog', 'frog', 'horse', 'ship', 'truck')"
      ],
      "execution_count": 11,
      "outputs": []
    },
    {
      "cell_type": "code",
      "metadata": {
        "colab": {
          "base_uri": "https://localhost:8080/",
          "height": 112
        },
        "id": "blSrgh8X84oY",
        "outputId": "5438aa73-e0c4-46a0-da63-e4464e204365"
      },
      "source": [
        "import matplotlib.pyplot as plt\n",
        "import numpy as np\n",
        "\n",
        "# functions to show an image\n",
        "\n",
        "\n",
        "def imshow(img):\n",
        "    img = img / 2 + 0.5     # unnormalize\n",
        "    npimg = img.numpy()\n",
        "    plt.imshow(np.transpose(npimg, (1, 2, 0)))\n",
        "    plt.show()\n",
        "\n",
        "\n",
        "# get some random training images\n",
        "dataiter = iter(trainloader)\n",
        "images, labels = dataiter.next()\n",
        "\n",
        "# show images\n",
        "imshow(torchvision.utils.make_grid(images))\n",
        "# print labels\n",
        "print(' '.join('%5s' % classes[labels[j]] for j in range(batch_size)))"
      ],
      "execution_count": 12,
      "outputs": [
        {
          "output_type": "display_data",
          "data": {
            "image/png": "[encoded data removed]",
            "text/plain": [
              "<Figure size 432x288 with 1 Axes>"
            ]
          },
          "metadata": {
            "tags": [],
            "needs_background": "light"
          }
        },
        {
          "output_type": "stream",
          "text": [
            "plane  bird   cat  frog  bird   dog   car  deer\n"
          ],
          "name": "stdout"
        }
      ]
    },
    {
      "cell_type": "markdown",
      "metadata": {
        "id": "F4CEdpbpUr9Z"
      },
      "source": [
        "Keras implementación\n"
      ]
    },
    {
      "cell_type": "code",
      "metadata": {
        "id": "9LSY1QZRUwu1"
      },
      "source": [
        "class MLP(nn.Module):\n",
        "  def __init__(self):\n",
        "    super(MLP, self).__init__()\n",
        "    self.f1 = nn.Linear(32 * 32 * 3, 84)\n",
        "    self.f2 = nn.Linear(84, 10)\n",
        "    self.relu = torch.nn.ReLU()\n",
        "    self.softmax = torch.nn.Softmax()\n",
        "    \n",
        "  def forward(self, x):\n",
        "    x = x.view(-1, 32*32*3)\n",
        "    x = self.relu(self.f1(x))\n",
        "    x = self.f2(x)\n",
        "    return x\n",
        "mlp = MLP()"
      ],
      "execution_count": 36,
      "outputs": []
    },
    {
      "cell_type": "code",
      "metadata": {
        "id": "PCW-Zvhzr8w7"
      },
      "source": [
        "import torch.optim as optim"
      ],
      "execution_count": 14,
      "outputs": []
    },
    {
      "cell_type": "code",
      "metadata": {
        "id": "uIv1Hz0HsBP4"
      },
      "source": [
        "criterion = nn.CrossEntropyLoss()\n",
        "optimizer = optim.SGD(mlp.parameters(), lr=0.001, momentum=0.9)"
      ],
      "execution_count": 25,
      "outputs": []
    },
    {
      "cell_type": "code",
      "metadata": {
        "colab": {
          "base_uri": "https://localhost:8080/"
        },
        "id": "ROaOxC_psS8T",
        "outputId": "6877c599-49fa-4c7a-9cd6-8860b2d9494f"
      },
      "source": [
        "for epoch in range(2):  # loop over the dataset multiple times\n",
        "\n",
        "    running_loss = 0.0\n",
        "    for i, data in enumerate(trainloader, 0):\n",
        "        # get the inputs; data is a list of [inputs, labels]\n",
        "        inputs, labels = data\n",
        "\n",
        "        # zero the parameter gradients\n",
        "        optimizer.zero_grad()\n",
        "\n",
        "        # forward + backward + optimize\n",
        "        outputs = mlp(inputs)\n",
        "        loss = criterion(outputs, labels)\n",
        "        loss.backward()\n",
        "        optimizer.step()\n",
        "\n",
        "        # print statistics\n",
        "        running_loss += loss.item()\n",
        "        if i % 2000 == 1999:    # print every 2000 mini-batches\n",
        "            print('[%d, %5d] loss: %.3f' %\n",
        "                  (epoch + 1, i + 1, running_loss / 2000))\n",
        "            running_loss = 0.0\n",
        "\n",
        "print('Finished Training')"
      ],
      "execution_count": 39,
      "outputs": [
        {
          "output_type": "stream",
          "text": [
            "/usr/local/lib/python3.7/dist-packages/ipykernel_launcher.py:12: UserWarning: Implicit dimension choice for softmax has been deprecated. Change the call to include dim=X as an argument.\n",
            "  if sys.path[0] == '':\n"
          ],
          "name": "stderr"
        },
        {
          "output_type": "stream",
          "text": [
            "[1,  2000] loss: 2.303\n",
            "[1,  4000] loss: 2.303\n",
            "[1,  6000] loss: 2.303\n",
            "[2,  2000] loss: 2.303\n",
            "[2,  4000] loss: 2.303\n",
            "[2,  6000] loss: 2.303\n",
            "Finished Training\n"
          ],
          "name": "stdout"
        }
      ]
    },
    {
      "cell_type": "code",
      "metadata": {
        "colab": {
          "base_uri": "https://localhost:8080/",
          "height": 112
        },
        "id": "8_HA6CJm7v3M",
        "outputId": "a810cb10-4137-44e8-c6c2-8ce07bf5bad5"
      },
      "source": [
        "dataiter = iter(testloader)\n",
        "images, labels = dataiter.next()\n",
        "\n",
        "# print images\n",
        "imshow(torchvision.utils.make_grid(images))\n",
        "print('GroundTruth: ', ' '.join('%5s' % classes[labels[j]] for j in range(4)))"
      ],
      "execution_count": 42,
      "outputs": [
        {
          "output_type": "display_data",
          "data": {
            "image/png": "[encoded data removed]",
            "text/plain": [
              "<Figure size 432x288 with 1 Axes>"
            ]
          },
          "metadata": {
            "tags": [],
            "needs_background": "light"
          }
        },
        {
          "output_type": "stream",
          "text": [
            "GroundTruth:    cat  ship  ship plane\n"
          ],
          "name": "stdout"
        }
      ]
    },
    {
      "cell_type": "markdown",
      "metadata": {
        "id": "iv0WUgPIUyLh"
      },
      "source": [
        "Pytorch Implementacion"
      ]
    },
    {
      "cell_type": "code",
      "metadata": {
        "id": "Y9KjVRmTL19O"
      },
      "source": [
        "n_out = 2\n",
        "class MLP(nn.Module):\n",
        "  def __init__(self):\n",
        "    super().__init__()\n",
        "    self.layers = nn.Sequential(\n",
        "        nn.Linear(32*32*3, 512), ## 512 number of hidden features, arbitrary value  32*32*3 = Number of inputs\n",
        "        nn.ReLU(),\n",
        "        nn.Linear(512, n_out)   # Output classes \n",
        "        nn.Softmax()  ## Produce probabilities\n",
        "    )\n"
      ],
      "execution_count": null,
      "outputs": []
    },
    {
      "cell_type": "code",
      "metadata": {
        "colab": {
          "base_uri": "https://localhost:8080/"
        },
        "id": "dlIDIvFp8Gag",
        "outputId": "3c03e934-33a9-47a4-d531-5a9a6312679c"
      },
      "source": [
        "outputs = mlp(images)"
      ],
      "execution_count": 43,
      "outputs": [
        {
          "output_type": "stream",
          "text": [
            "/usr/local/lib/python3.7/dist-packages/ipykernel_launcher.py:12: UserWarning: Implicit dimension choice for softmax has been deprecated. Change the call to include dim=X as an argument.\n",
            "  if sys.path[0] == '':\n"
          ],
          "name": "stderr"
        }
      ]
    },
    {
      "cell_type": "code",
      "metadata": {
        "colab": {
          "base_uri": "https://localhost:8080/"
        },
        "id": "I4v1r4Rt8SSs",
        "outputId": "47deb559-079b-4217-dc82-85d51e17c3c1"
      },
      "source": [
        "_, predicted = torch.max(outputs, 1)\n",
        "\n",
        "print('Predicted: ', ' '.join('%5s' % classes[predicted[j]]\n",
        "                              for j in range(4)))"
      ],
      "execution_count": 44,
      "outputs": [
        {
          "output_type": "stream",
          "text": [
            "Predicted:    dog truck  deer   dog\n"
          ],
          "name": "stdout"
        }
      ]
    },
    {
      "cell_type": "markdown",
      "metadata": {
        "id": "rx2u_-0_a32h"
      },
      "source": [
        ""
      ]
    },
    {
      "cell_type": "code",
      "metadata": {
        "colab": {
          "base_uri": "https://localhost:8080/"
        },
        "id": "TkQZEyPE8TjD",
        "outputId": "3ed4a395-cc7c-4d8a-c8af-c71d37b2014a"
      },
      "source": [
        "correct = 0\n",
        "total = 0\n",
        "# since we're not training, we don't need to calculate the gradients for our outputs\n",
        "with torch.no_grad():\n",
        "    for data in testloader:\n",
        "        images, labels = data\n",
        "        # calculate outputs by running images through the network\n",
        "        outputs = mlp(images)\n",
        "        # the class with the highest energy is what we choose as prediction\n",
        "        _, predicted = torch.max(outputs.data, 1)\n",
        "        total += labels.size(0)\n",
        "        correct += (predicted == labels).sum().item()\n",
        "\n",
        "print('Accuracy of the network on the 10000 test images: %d %%' % (\n",
        "    100 * correct / total))"
      ],
      "execution_count": 46,
      "outputs": [
        {
          "output_type": "stream",
          "text": [
            "/usr/local/lib/python3.7/dist-packages/ipykernel_launcher.py:12: UserWarning: Implicit dimension choice for softmax has been deprecated. Change the call to include dim=X as an argument.\n",
            "  if sys.path[0] == '':\n"
          ],
          "name": "stderr"
        },
        {
          "output_type": "stream",
          "text": [
            "Accuracy of the network on the 10000 test images: 11 %\n"
          ],
          "name": "stdout"
        }
      ]
    },
    {
      "cell_type": "code",
      "metadata": {
        "colab": {
          "base_uri": "https://localhost:8080/"
        },
        "id": "mx-kQOqu8dcM",
        "outputId": "794e1161-30d3-40fc-9b2f-c7edf5a632e1"
      },
      "source": [
        "# prepare to count predictions for each class\n",
        "correct_pred = {classname: 0 for classname in classes}\n",
        "total_pred = {classname: 0 for classname in classes}\n",
        "\n",
        "# again no gradients needed\n",
        "with torch.no_grad():\n",
        "    for data in testloader:\n",
        "        images, labels = data\n",
        "        outputs = mlp(images)\n",
        "        _, predictions = torch.max(outputs, 1)\n",
        "        # collect the correct predictions for each class\n",
        "        for label, prediction in zip(labels, predictions):\n",
        "            if label == prediction:\n",
        "                correct_pred[classes[label]] += 1\n",
        "            total_pred[classes[label]] += 1\n",
        "\n",
        "\n",
        "# print accuracy for each class\n",
        "for classname, correct_count in correct_pred.items():\n",
        "    accuracy = 100 * float(correct_count) / total_pred[classname]\n",
        "    print(\"Accuracy for class {:5s} is: {:.1f} %\".format(classname,\n",
        "                                                   accuracy))"
      ],
      "execution_count": 48,
      "outputs": [
        {
          "output_type": "stream",
          "text": [
            "/usr/local/lib/python3.7/dist-packages/ipykernel_launcher.py:12: UserWarning: Implicit dimension choice for softmax has been deprecated. Change the call to include dim=X as an argument.\n",
            "  if sys.path[0] == '':\n"
          ],
          "name": "stderr"
        },
        {
          "output_type": "stream",
          "text": [
            "Accuracy for class plane is: 0.0 %\n",
            "Accuracy for class car   is: 5.6 %\n",
            "Accuracy for class bird  is: 0.2 %\n",
            "Accuracy for class cat   is: 15.2 %\n",
            "Accuracy for class deer  is: 40.6 %\n",
            "Accuracy for class dog   is: 30.2 %\n",
            "Accuracy for class frog  is: 12.4 %\n",
            "Accuracy for class horse is: 0.5 %\n",
            "Accuracy for class ship  is: 1.1 %\n",
            "Accuracy for class truck is: 4.2 %\n"
          ],
          "name": "stdout"
        }
      ]
    }
  ]
}