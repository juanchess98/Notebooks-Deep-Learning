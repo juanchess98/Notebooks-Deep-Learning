{
  "nbformat": 4,
  "nbformat_minor": 0,
  "metadata": {
    "colab": {
      "name": "Regresion_Lineal.ipynb",
      "provenance": [],
      "collapsed_sections": [],
      "include_colab_link": true
    },
    "kernelspec": {
      "name": "python3",
      "display_name": "Python 3"
    },
    "language_info": {
      "name": "python"
    }
  },
  "cells": [
    {
      "cell_type": "markdown",
      "metadata": {
        "id": "view-in-github",
        "colab_type": "text"
      },
      "source": [
        "<a href=\"https://colab.research.google.com/github/juanchess98/Notebooks-Deep-Learning/blob/regresion-lineal/Regresion_Lineal.ipynb\" target=\"_parent\"><img src=\"https://colab.research.google.com/assets/colab-badge.svg\" alt=\"Open In Colab\"/></a>"
      ]
    },
    {
      "cell_type": "code",
      "metadata": {
        "id": "AczP6mv_D086"
      },
      "source": [
        "import numpy as np"
      ],
      "execution_count": 6,
      "outputs": []
    },
    {
      "cell_type": "code",
      "metadata": {
        "id": "I0sgCYz2F03Z"
      },
      "source": [
        "import keras"
      ],
      "execution_count": null,
      "outputs": []
    },
    {
      "cell_type": "markdown",
      "metadata": {
        "id": "HsX-wD3lKcC7"
      },
      "source": [
        "# Teoria \n",
        "\n",
        "Es un método para predecir una variable objetivo ajustando la mejor relación lineal entre la variable independiente(predictor) y la dependendiente(target) $$ \\hat{y} = mx + b$$\n",
        "\n",
        "- $\\hat{y}$ es el valor predecido.\n",
        "- $x$ es el valor de la característica.\n",
        "- $m$ y $b$ son la pendiente y el termino de sesgo respectivamente. Estos son los parametros del modelo que se deben ajustar para obtener la mejor aproximación. Usualmente se denotan con un vector de la siguiente manera:\n",
        "$$\\theta = \\left [ \\theta _{0}, \\theta _{1}, ...\\theta _{n} \\right]$$ donde $n$ denota el número de características o variables independientes del modelo.\n",
        "\n"
      ]
    },
    {
      "cell_type": "markdown",
      "metadata": {
        "id": "BqWO_FINKjYS"
      },
      "source": [
        "# Ilustración"
      ]
    },
    {
      "cell_type": "markdown",
      "metadata": {
        "id": "xHHc9j6uZ46x"
      },
      "source": [
        "# ¿Cómo encontrar la mejor representación?\n",
        "\n",
        "Entrenar a un modelo significa establecer los parametetros del modelo tal que este se ajuste de la mejor manera posible al conjunto de entrenamiento. Para este proposito se necesita establecer una medida que indique que tan bien o mal el modelo se está ajustando a estos. Esto se denomina Función de costo.\n",
        "\n",
        "$$L(w,b) = \\frac{1}{n}\\sum_{i=1}^{n}\\left (\\hat{y^{i}} - y^{i}  \\right )^{2}$$\n",
        "\n",
        "se debe determinar  los valores de $w$ y $b$ que optimizan esta función.\n",
        "\n",
        "Para abordar este problema de optimización se pueden utilizar los siguientes metodos:\n",
        "- Solución análitíca\n",
        "- Descenso del gradiente y variantes\n",
        "\n"
      ]
    },
    {
      "cell_type": "markdown",
      "metadata": {
        "id": "4cYukU5ZKin_"
      },
      "source": [
        ""
      ]
    },
    {
      "cell_type": "code",
      "metadata": {
        "id": "ALP6PfT4Khty"
      },
      "source": [
        "print('hi')"
      ],
      "execution_count": null,
      "outputs": []
    },
    {
      "cell_type": "markdown",
      "metadata": {
        "id": "pSFo_a5k8sjY"
      },
      "source": [
        "# Gradiente Descendente"
      ]
    },
    {
      "cell_type": "markdown",
      "metadata": {
        "id": "f1kL3Zed8xFp"
      },
      "source": [
        "# Stochastic Gradient Descent"
      ]
    },
    {
      "cell_type": "markdown",
      "metadata": {
        "id": "IWGR32cH8xJS"
      },
      "source": [
        ""
      ]
    },
    {
      "cell_type": "markdown",
      "metadata": {
        "id": "adhgS6ZeKsDG"
      },
      "source": [
        "# Implementación Keras"
      ]
    },
    {
      "cell_type": "code",
      "metadata": {
        "id": "j_SnOZLE70QF"
      },
      "source": [
        "from keras.layers import Input, Dense\n",
        "from keras.models import Model\n",
        "import keras\n",
        "\n",
        "def funcion3_RLineal(X, Y, dim = 1, num_ite = 50):\n",
        "  inputs = Input(shape=(dim,))\n",
        "  preds = Dense(1,activation='linear')(inputs)\n",
        "  model = Model(inputs=inputs,outputs=preds)\n",
        "  sgd=keras.optimizers.SGD(lr = 0.001)\n",
        "  model.compile(optimizer=sgd ,loss='mse',metrics=['mse'])\n",
        "  model.fit(X,Y, batch_size=1, epochs=num_ite, shuffle=False)\n",
        "  return  model.get_weights()"
      ],
      "execution_count": null,
      "outputs": []
    },
    {
      "cell_type": "markdown",
      "metadata": {
        "id": "7BFWypuXLa8Q"
      },
      "source": [
        "Explicación relacionada a la implementación"
      ]
    },
    {
      "cell_type": "markdown",
      "metadata": {
        "id": "dIg82wurLhx5"
      },
      "source": [
        "# Observación ajuste de parametros -- Helper"
      ]
    },
    {
      "cell_type": "markdown",
      "metadata": {
        "id": "DMdxO9n-KyvT"
      },
      "source": [
        "# Implementación Pytorch"
      ]
    },
    {
      "cell_type": "markdown",
      "metadata": {
        "id": "z5sLs-XkKPIE"
      },
      "source": [
        "1) Design Model\n",
        "2)Construct Loss and optimizer\n",
        "3)Training Loop: Forward pass, backward pass, update weights\n"
      ]
    },
    {
      "cell_type": "code",
      "metadata": {
        "id": "dNzXJRM5K6_3"
      },
      "source": [
        "import torch\n",
        "import torch.nn as nn\n",
        "from sklearn import datasets\n",
        "import matplotlib.pyplot as plt"
      ],
      "execution_count": 1,
      "outputs": []
    },
    {
      "cell_type": "code",
      "metadata": {
        "id": "jW5cHFLTK21k"
      },
      "source": [
        "X_numpy, y_numpy = datasets.make_regression(n_samples=100, n_features = 1, noise = 20, random_state=1)\n",
        "X = torch.from_numpy(X_numpy.astype(np.float32))\n",
        "y = torch.from_numpy(y_numpy.astype(np.float32))\n",
        "y = y.view(y.shape[0],1) ##reshape tensor\n",
        "\n",
        "n_samples, n_features = X.shape"
      ],
      "execution_count": 7,
      "outputs": []
    },
    {
      "cell_type": "code",
      "metadata": {
        "id": "GdyRdM0nK3M8"
      },
      "source": [
        "input_size = n_features\n",
        "output_size = 1\n",
        "model = nn.Linear(in_features = input_size, out_features = output_size )"
      ],
      "execution_count": 8,
      "outputs": []
    },
    {
      "cell_type": "code",
      "metadata": {
        "id": "33StE7p_K3ay"
      },
      "source": [
        "learning_rate = 0.01\n",
        "criterion = nn.MSELoss()\n",
        "optimizer = torch.optim.SGD(params= model.parameters(),lr = learning_rate)"
      ],
      "execution_count": 10,
      "outputs": []
    },
    {
      "cell_type": "code",
      "metadata": {
        "id": "ozVlRRbVNDz9"
      },
      "source": [
        "num_epochs = 100\n",
        "for epoch in range(num_epochs):\n",
        "  #forward pass and loss\n",
        "  y_predicted = model(X)\n",
        "  loss = criterion(y_predicted, y)\n",
        "\n",
        "  #backward\n",
        "  loss.backward()\n",
        "\n",
        "  ##update\n",
        "  optimizer.step()\n",
        "\n",
        "  optimizer.zero_grad() ## clean gradients to next iteration\n",
        "\n",
        "  if(epoch+1) % 10 == 10:\n",
        "    print(f'epoch: {epoch + 1}, loss = {loss.item():.4f}')"
      ],
      "execution_count": 11,
      "outputs": []
    },
    {
      "cell_type": "code",
      "metadata": {
        "colab": {
          "base_uri": "https://localhost:8080/",
          "height": 265
        },
        "id": "p662aAfXOXxA",
        "outputId": "6bd7fe94-7fd6-4904-940e-d8ff674349b8"
      },
      "source": [
        "#plot\n",
        "predicted = model(X).detach().numpy() # detach --gradient argument set to false\n",
        "plt.plot(X_numpy, y_numpy, 'ro')\n",
        "plt.plot(X_numpy, predicted, 'b')\n",
        "plt.show()"
      ],
      "execution_count": 16,
      "outputs": [
        {
          "output_type": "display_data",
          "data": {
            "image/png": "[encoded data removed]",
            "text/plain": [
              "<Figure size 432x288 with 1 Axes>"
            ]
          },
          "metadata": {
            "tags": [],
            "needs_background": "light"
          }
        }
      ]
    },
    {
      "cell_type": "markdown",
      "metadata": {
        "id": "keWIBW2dK8Mc"
      },
      "source": [
        "# Explicación relacionada a la implementación"
      ]
    },
    {
      "cell_type": "code",
      "metadata": {
        "id": "u6UZ2nHbOXTY"
      },
      "source": [
        ""
      ],
      "execution_count": null,
      "outputs": []
    },
    {
      "cell_type": "code",
      "metadata": {
        "id": "nsMcqqG0LDi2"
      },
      "source": [
        ""
      ],
      "execution_count": null,
      "outputs": []
    },
    {
      "cell_type": "markdown",
      "metadata": {
        "id": "Y02UV9RsLE38"
      },
      "source": [
        "# Observación de ajuste de parametros -- Helper"
      ]
    },
    {
      "cell_type": "code",
      "metadata": {
        "id": "qSz_fhSPLXX2"
      },
      "source": [
        ""
      ],
      "execution_count": null,
      "outputs": []
    }
  ]
}