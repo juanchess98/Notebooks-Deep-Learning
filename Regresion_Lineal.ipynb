{
  "nbformat": 4,
  "nbformat_minor": 0,
  "metadata": {
    "colab": {
      "name": "Regresion_Lineal.ipynb",
      "provenance": [],
      "collapsed_sections": [],
      "include_colab_link": true
    },
    "kernelspec": {
      "name": "python3",
      "display_name": "Python 3"
    },
    "language_info": {
      "name": "python"
    }
  },
  "cells": [
    {
      "cell_type": "markdown",
      "metadata": {
        "id": "view-in-github",
        "colab_type": "text"
      },
      "source": [
        "<a href=\"https://colab.research.google.com/github/juanchess98/Notebooks-Deep-Learning/blob/regresion-lineal/Regresion_Lineal.ipynb\" target=\"_parent\"><img src=\"https://colab.research.google.com/assets/colab-badge.svg\" alt=\"Open In Colab\"/></a>"
      ]
    },
    {
      "cell_type": "code",
      "metadata": {
        "id": "AczP6mv_D086"
      },
      "source": [
        "import numpy as np"
      ],
      "execution_count": 2,
      "outputs": []
    },
    {
      "cell_type": "code",
      "metadata": {
        "id": "I0sgCYz2F03Z"
      },
      "source": [
        "import keras"
      ],
      "execution_count": 3,
      "outputs": []
    },
    {
      "cell_type": "markdown",
      "metadata": {
        "id": "HsX-wD3lKcC7"
      },
      "source": [
        "# Teoria \n",
        "\n",
        "Es un método para predecir una variable objetivo ajustando la mejor relación lineal entre la variable independiente (predictor) y la dependendiente (target) $$ \\hat{y} = mx + b$$\n",
        "\n",
        "- $\\hat{y}$ es el valor predicho.\n",
        "- $x$ es el valor de la característica.\n",
        "- $m$ y $b$ son la pendiente y el termino de sesgo respectivamente. Estos son los parametros del modelo que se deben ajustar para obtener la mejor aproximación. Usualmente se denotan con un vector de la siguiente manera:\n",
        "$$\\theta = \\left [ \\theta _{0}, \\theta _{1}, ..., \\theta _{p} \\right]$$ donde $p$ denota el número de características o variables independientes del modelo.\n",
        "\n"
      ]
    },
    {
      "cell_type": "markdown",
      "metadata": {
        "id": "BqWO_FINKjYS"
      },
      "source": [
        "# Ilustración"
      ]
    },
    {
      "cell_type": "markdown",
      "metadata": {
        "id": "xHHc9j6uZ46x"
      },
      "source": [
        "# ¿Cómo encontrar la mejor representación?\n",
        "\n",
        "Entrenar a un modelo significa establecer los parametetros del modelo tal que este se ajuste de la mejor manera posible al conjunto de entrenamiento. Para este proposito se necesita establecer una medida que indique que tan bien o mal el modelo se está ajustando a estos. Esto se denomina Función de costo.\n",
        "\n",
        "$$L(\\mathbf{w},b) = \\frac{1}{n}\\sum_{i=1}^{n}\\left (\\hat{y}^{i} - y^{i}  \\right )^{2}$$\n",
        "\n",
        "se debe determinar  los valores de $w$ y $b$ que optimizan esta función.\n",
        "\n",
        "Para abordar este problema de optimización se pueden utilizar los siguientes metodos:\n",
        "- Solución análitíca\n",
        "- Descenso del gradiente y variantes\n",
        "\n"
      ]
    },
    {
      "cell_type": "markdown",
      "metadata": {
        "id": "4cYukU5ZKin_"
      },
      "source": [
        ""
      ]
    },
    {
      "cell_type": "code",
      "metadata": {
        "id": "ALP6PfT4Khty"
      },
      "source": [
        "print('hi')"
      ],
      "execution_count": null,
      "outputs": []
    },
    {
      "cell_type": "markdown",
      "metadata": {
        "id": "pSFo_a5k8sjY"
      },
      "source": [
        "# Gradiente Descendente"
      ]
    },
    {
      "cell_type": "markdown",
      "metadata": {
        "id": "f1kL3Zed8xFp"
      },
      "source": [
        "# Stochastic Gradient Descent"
      ]
    },
    {
      "cell_type": "markdown",
      "metadata": {
        "id": "IWGR32cH8xJS"
      },
      "source": [
        ""
      ]
    },
    {
      "cell_type": "markdown",
      "metadata": {
        "id": "adhgS6ZeKsDG"
      },
      "source": [
        "# Implementación Keras"
      ]
    },
    {
      "cell_type": "code",
      "metadata": {
        "id": "j_SnOZLE70QF"
      },
      "source": [
        "from keras.layers import Input, Dense\n",
        "from keras.models import Model\n",
        "import keras\n",
        "\n",
        "def funcion3_RLineal(X, Y, dim = 1, num_ite = 50):\n",
        "  inputs = Input(shape=(dim,))\n",
        "  preds = Dense(1,activation='linear')(inputs)\n",
        "  model = Model(inputs=inputs,outputs=preds)\n",
        "  sgd=keras.optimizers.SGD(lr = 0.001)\n",
        "  model.compile(optimizer=sgd ,loss='mse',metrics=['mse'])\n",
        "  model.fit(X,Y, batch_size=1, epochs=num_ite, shuffle=False)\n",
        "  return  model.get_weights()"
      ],
      "execution_count": null,
      "outputs": []
    },
    {
      "cell_type": "markdown",
      "metadata": {
        "id": "7BFWypuXLa8Q"
      },
      "source": [
        "Explicación relacionada a la implementación"
      ]
    },
    {
      "cell_type": "markdown",
      "metadata": {
        "id": "dIg82wurLhx5"
      },
      "source": [
        "# Observación ajuste de parametros -- Helper"
      ]
    },
    {
      "cell_type": "markdown",
      "metadata": {
        "id": "DMdxO9n-KyvT"
      },
      "source": [
        "# Implementación Pytorch"
      ]
    },
    {
      "cell_type": "markdown",
      "metadata": {
        "id": "z5sLs-XkKPIE"
      },
      "source": [
        "1) Design Model\n",
        "2)Construct Loss and optimizer\n",
        "3)Training Loop: Forward pass, backward pass, update weights\n"
      ]
    },
    {
      "cell_type": "code",
      "metadata": {
        "id": "dNzXJRM5K6_3"
      },
      "source": [
        "import torch\n",
        "import torch.nn as nn\n",
        "from sklearn import datasets\n",
        "import matplotlib.pyplot as plt"
      ],
      "execution_count": 4,
      "outputs": []
    },
    {
      "cell_type": "code",
      "metadata": {
        "id": "jW5cHFLTK21k"
      },
      "source": [
        "X_numpy, y_numpy = datasets.make_regression(n_samples=100, n_features = 1, noise = 20, random_state=1)\n",
        "X = torch.from_numpy(X_numpy.astype(np.float32))\n",
        "y = torch.from_numpy(y_numpy.astype(np.float32))\n",
        "y = y.view(y.shape[0],1) ##reshape tensor\n",
        "\n",
        "n_samples, n_features = X.shape"
      ],
      "execution_count": 5,
      "outputs": []
    },
    {
      "cell_type": "code",
      "metadata": {
        "id": "GdyRdM0nK3M8"
      },
      "source": [
        "input_size = n_features\n",
        "output_size = 1\n",
        "model = nn.Linear(in_features = input_size, out_features = output_size )"
      ],
      "execution_count": 6,
      "outputs": []
    },
    {
      "cell_type": "code",
      "metadata": {
        "id": "33StE7p_K3ay"
      },
      "source": [
        "learning_rate = 0.01\n",
        "criterion = nn.MSELoss()\n",
        "optimizer = torch.optim.SGD(params= model.parameters(),lr = learning_rate)"
      ],
      "execution_count": 7,
      "outputs": []
    },
    {
      "cell_type": "code",
      "metadata": {
        "id": "ozVlRRbVNDz9",
        "colab": {
          "base_uri": "https://localhost:8080/"
        },
        "outputId": "c8198c2d-9b8a-42c6-c2cf-1031a0da3679"
      },
      "source": [
        "num_epochs = 100\n",
        "for epoch in range(num_epochs):\n",
        "  #forward pass and loss\n",
        "  y_predicted = model(X)\n",
        "  loss = criterion(y_predicted, y)\n",
        "\n",
        "  #backward\n",
        "  loss.backward()\n",
        "\n",
        "  ##update\n",
        "  optimizer.step()\n",
        "\n",
        "  optimizer.zero_grad() ## clean gradients to next iteration\n",
        "\n",
        "  if(epoch+1) % 10 == 0:\n",
        "    print(f'epoch: {epoch + 1}, loss = {loss.item():.4f}')"
      ],
      "execution_count": 10,
      "outputs": [
        {
          "output_type": "stream",
          "text": [
            "epoch: 10, loss = 339.8741\n",
            "epoch: 20, loss = 337.9137\n",
            "epoch: 30, loss = 336.4799\n",
            "epoch: 40, loss = 335.4309\n",
            "epoch: 50, loss = 334.6634\n",
            "epoch: 60, loss = 334.1019\n",
            "epoch: 70, loss = 333.6909\n",
            "epoch: 80, loss = 333.3901\n",
            "epoch: 90, loss = 333.1698\n",
            "epoch: 100, loss = 333.0086\n",
            "epoch: 110, loss = 332.8906\n",
            "epoch: 120, loss = 332.8041\n",
            "epoch: 130, loss = 332.7408\n",
            "epoch: 140, loss = 332.6945\n",
            "epoch: 150, loss = 332.6605\n",
            "epoch: 160, loss = 332.6356\n",
            "epoch: 170, loss = 332.6175\n",
            "epoch: 180, loss = 332.6041\n",
            "epoch: 190, loss = 332.5943\n",
            "epoch: 200, loss = 332.5872\n",
            "epoch: 210, loss = 332.5819\n",
            "epoch: 220, loss = 332.5781\n",
            "epoch: 230, loss = 332.5753\n",
            "epoch: 240, loss = 332.5732\n",
            "epoch: 250, loss = 332.5717\n",
            "epoch: 260, loss = 332.5706\n",
            "epoch: 270, loss = 332.5698\n",
            "epoch: 280, loss = 332.5692\n",
            "epoch: 290, loss = 332.5688\n",
            "epoch: 300, loss = 332.5685\n",
            "epoch: 310, loss = 332.5682\n",
            "epoch: 320, loss = 332.5680\n",
            "epoch: 330, loss = 332.5679\n",
            "epoch: 340, loss = 332.5678\n",
            "epoch: 350, loss = 332.5677\n",
            "epoch: 360, loss = 332.5677\n",
            "epoch: 370, loss = 332.5677\n",
            "epoch: 380, loss = 332.5677\n",
            "epoch: 390, loss = 332.5676\n",
            "epoch: 400, loss = 332.5676\n",
            "epoch: 410, loss = 332.5676\n",
            "epoch: 420, loss = 332.5676\n",
            "epoch: 430, loss = 332.5676\n",
            "epoch: 440, loss = 332.5676\n",
            "epoch: 450, loss = 332.5676\n",
            "epoch: 460, loss = 332.5676\n",
            "epoch: 470, loss = 332.5675\n",
            "epoch: 480, loss = 332.5675\n",
            "epoch: 490, loss = 332.5676\n",
            "epoch: 500, loss = 332.5675\n",
            "epoch: 510, loss = 332.5675\n",
            "epoch: 520, loss = 332.5676\n",
            "epoch: 530, loss = 332.5676\n",
            "epoch: 540, loss = 332.5675\n",
            "epoch: 550, loss = 332.5675\n",
            "epoch: 560, loss = 332.5675\n",
            "epoch: 570, loss = 332.5676\n",
            "epoch: 580, loss = 332.5675\n",
            "epoch: 590, loss = 332.5676\n",
            "epoch: 600, loss = 332.5676\n",
            "epoch: 610, loss = 332.5676\n",
            "epoch: 620, loss = 332.5676\n",
            "epoch: 630, loss = 332.5676\n",
            "epoch: 640, loss = 332.5676\n",
            "epoch: 650, loss = 332.5676\n",
            "epoch: 660, loss = 332.5676\n",
            "epoch: 670, loss = 332.5676\n",
            "epoch: 680, loss = 332.5676\n",
            "epoch: 690, loss = 332.5676\n",
            "epoch: 700, loss = 332.5676\n",
            "epoch: 710, loss = 332.5676\n",
            "epoch: 720, loss = 332.5676\n",
            "epoch: 730, loss = 332.5676\n",
            "epoch: 740, loss = 332.5676\n",
            "epoch: 750, loss = 332.5676\n",
            "epoch: 760, loss = 332.5676\n",
            "epoch: 770, loss = 332.5676\n",
            "epoch: 780, loss = 332.5676\n",
            "epoch: 790, loss = 332.5676\n",
            "epoch: 800, loss = 332.5676\n",
            "epoch: 810, loss = 332.5676\n",
            "epoch: 820, loss = 332.5676\n",
            "epoch: 830, loss = 332.5676\n",
            "epoch: 840, loss = 332.5676\n",
            "epoch: 850, loss = 332.5676\n",
            "epoch: 860, loss = 332.5676\n",
            "epoch: 870, loss = 332.5676\n",
            "epoch: 880, loss = 332.5676\n",
            "epoch: 890, loss = 332.5676\n",
            "epoch: 900, loss = 332.5676\n",
            "epoch: 910, loss = 332.5676\n",
            "epoch: 920, loss = 332.5676\n",
            "epoch: 930, loss = 332.5676\n",
            "epoch: 940, loss = 332.5676\n",
            "epoch: 950, loss = 332.5676\n",
            "epoch: 960, loss = 332.5676\n",
            "epoch: 970, loss = 332.5676\n",
            "epoch: 980, loss = 332.5676\n",
            "epoch: 990, loss = 332.5676\n",
            "epoch: 1000, loss = 332.5676\n"
          ],
          "name": "stdout"
        }
      ]
    },
    {
      "cell_type": "code",
      "metadata": {
        "colab": {
          "base_uri": "https://localhost:8080/",
          "height": 268
        },
        "id": "p662aAfXOXxA",
        "outputId": "79797c83-7c5e-4e46-ea5b-540eeacc5d73"
      },
      "source": [
        "#plot\n",
        "predicted = model(X).detach().numpy() # detach --gradient argument set to false\n",
        "plt.plot(X_numpy, y_numpy, 'ro')\n",
        "plt.plot(X_numpy, predicted, 'b')\n",
        "plt.show()"
      ],
      "execution_count": 11,
      "outputs": [
        {
          "output_type": "display_data",
          "data": {
            "image/png": "[encoded data removed]",
            "text/plain": [
              "<Figure size 432x288 with 1 Axes>"
            ]
          },
          "metadata": {
            "tags": [],
            "needs_background": "light"
          }
        }
      ]
    },
    {
      "cell_type": "markdown",
      "metadata": {
        "id": "keWIBW2dK8Mc"
      },
      "source": [
        "# Explicación relacionada a la implementación"
      ]
    },
    {
      "cell_type": "code",
      "metadata": {
        "id": "u6UZ2nHbOXTY"
      },
      "source": [
        ""
      ],
      "execution_count": null,
      "outputs": []
    },
    {
      "cell_type": "code",
      "metadata": {
        "id": "nsMcqqG0LDi2"
      },
      "source": [
        ""
      ],
      "execution_count": null,
      "outputs": []
    },
    {
      "cell_type": "markdown",
      "metadata": {
        "id": "Y02UV9RsLE38"
      },
      "source": [
        "# Observación de ajuste de parametros -- Helper"
      ]
    },
    {
      "cell_type": "code",
      "metadata": {
        "id": "qSz_fhSPLXX2"
      },
      "source": [
        ""
      ],
      "execution_count": null,
      "outputs": []
    }
  ]
}