{
  "nbformat": 4,
  "nbformat_minor": 0,
  "metadata": {
    "colab": {
      "name": "Regresion_Lineal.ipynb",
      "provenance": [],
      "collapsed_sections": [],
      "include_colab_link": true
    },
    "kernelspec": {
      "name": "python3",
      "display_name": "Python 3"
    },
    "language_info": {
      "name": "python"
    }
  },
  "cells": [
    {
      "cell_type": "markdown",
      "metadata": {
        "id": "view-in-github",
        "colab_type": "text"
      },
      "source": [
        "<a href=\"https://colab.research.google.com/github/juanchess98/Notebooks-Deep-Learning/blob/regresion-lineal/Regresion_Lineal.ipynb\" target=\"_parent\"><img src=\"https://colab.research.google.com/assets/colab-badge.svg\" alt=\"Open In Colab\"/></a>"
      ]
    },
    {
      "cell_type": "code",
      "metadata": {
        "id": "AczP6mv_D086"
      },
      "source": [
        "import numpy as np"
      ],
      "execution_count": null,
      "outputs": []
    },
    {
      "cell_type": "code",
      "metadata": {
        "id": "I0sgCYz2F03Z"
      },
      "source": [
        "import keras"
      ],
      "execution_count": null,
      "outputs": []
    },
    {
      "cell_type": "markdown",
      "metadata": {
        "id": "HsX-wD3lKcC7"
      },
      "source": [
        "# Teoria \n",
        "\n",
        "Es un método para predecir una variable objetivo ajustando la mejor relación lineal entre la variable independiente (predictor) y la dependendiente (target) $$ \\hat{y} = wx + b$$\n",
        "\n",
        "- $\\hat{y}$ es el valor predicho.\n",
        "- $x$ es el valor de la característica.\n",
        "- $w$ y $b$ son la pendiente y el termino de sesgo respectivamente. Estos son los parametros del modelo que se deben ajustar para obtener la mejor aproximación. Usualmente se denotan con un vector de la siguiente manera:\n",
        "$$\\theta = \\left [ \\theta _{0}, \\theta _{1}, ..., \\theta _{p} \\right]$$ donde $p$ denota el número de características o variables independientes del modelo.\n",
        "\n"
      ]
    },
    {
      "cell_type": "markdown",
      "metadata": {
        "id": "BqWO_FINKjYS"
      },
      "source": [
        "# Ilustración"
      ]
    },
    {
      "cell_type": "markdown",
      "metadata": {
        "id": "xHHc9j6uZ46x"
      },
      "source": [
        "# ¿Cómo encontrar la mejor representación?\n",
        "\n",
        "Entrenar a un modelo significa establecer los parametetros del modelo tal que este se ajuste de la mejor manera posible al conjunto de entrenamiento. Para este proposito se necesita establecer una medida que indique que tan bien o mal el modelo se está ajustando a estos. Esto se denomina Función de costo.\n",
        "\n",
        "$$L(\\mathbf{w},b) = \\frac{1}{n}\\sum_{i=1}^{n}\\left (\\hat{y}^{i} - y^{i}  \\right )^{2}$$\n",
        "\n",
        "se debe determinar  los valores de $w$ y $b$ que optimizan esta función.\n",
        "\n",
        "Para abordar este problema de optimización se pueden utilizar los siguientes metodos:\n",
        "- Solución análitíca\n",
        "- Descenso del gradiente y variantes\n",
        "\n"
      ]
    },
    {
      "cell_type": "markdown",
      "metadata": {
        "id": "4cYukU5ZKin_"
      },
      "source": [
        ""
      ]
    },
    {
      "cell_type": "code",
      "metadata": {
        "id": "ALP6PfT4Khty"
      },
      "source": [
        "print('hi')"
      ],
      "execution_count": null,
      "outputs": []
    },
    {
      "cell_type": "markdown",
      "metadata": {
        "id": "pSFo_a5k8sjY"
      },
      "source": [
        "# Gradiente Descendente"
      ]
    },
    {
      "cell_type": "markdown",
      "metadata": {
        "id": "aD2yWEuFu1sT"
      },
      "source": [
        "El gradiente descendente es una tecnica de optimización basada en derivadas parciales que nos permite capaz de encontrar una solución optima a una gran variedad de problemas. La idea central de este algoritmo es afinar de manera iterativa los parametros del modelo con el fin de minimizar la función de costo.\n",
        "\n",
        "![Gradiente descendente](https://drive.google.com/uc?id=1dbzBox3wnq6cNWgSDERYI4Jre-Enao3u)\n",
        "\n",
        "Un parametro muy importante en este algoritmo es la tasa de aprendizaje. Al momento de determinar este parametro o hiperparametrocomo es denominado dentro de los modelos es que no sea demasiado pequeño ni demasiado grande.\n",
        "\n",
        "Si el valor de la tasa de aprendizaje es muy pequeño el algoritmo tendrá que realizar muchas más iteraciones para converger. Esto se traduce en mayor tiempo de ejecución.\n",
        "\n",
        "![Tasa de aprendizaje baja](https://drive.google.com/uc?id=1u0wUPfgFKpZEefz5HDN2IzkP1TH9RXzh)\n",
        "\n",
        "Por otro lado, si la tasa de aprendizaje es un valor muy alto, el algoritmo muy probablemente va a divergir por que podría saltar de un lado a otro.\n",
        "\n",
        "\n",
        "![Tasa de aprendizaje alta](https://drive.google.com/uc?id=1ZTefxW01N_NzYmk8u8hwDfROse9V3HPj)\n",
        "\n",
        "Por ultimo, a la hora de utilizar este metodo se debe tener encuenta cual función de costo se desea optimizar, ya que hay funciones que provocan que converger al minimo sea muy dificil. Por un lado puede suceder que la función de costo tenga muchos minimos locales y dependiendo el punto inicial del algoritmo el algoritmo va a converger a un minimo local y no a un minimo global como se desea. Por otra parte, se puede presentar que en un lugar de está función las derivadas sean muy cercanos a cero y harán que el algoritmo necesite muchas más iteracciones para converger.\n",
        "\n",
        "![Tasa de aprendizaje alta](https://drive.google.com/uc?id=1F_Wvwn3kKTnGLX68Ok1dQqFhQA_WLfOY)"
      ]
    },
    {
      "cell_type": "markdown",
      "metadata": {
        "id": "f1kL3Zed8xFp"
      },
      "source": [
        "# Stochastic Gradient Descent"
      ]
    },
    {
      "cell_type": "markdown",
      "metadata": {
        "id": "IWGR32cH8xJS"
      },
      "source": [
        ""
      ]
    },
    {
      "cell_type": "code",
      "metadata": {
        "id": "ug6eUlnJPyPy"
      },
      "source": [
        "from sklearn import datasets\n",
        "import matplotlib.pyplot as plt\n",
        "import numpy as np\n",
        "X_numpy, y_numpy = datasets.make_regression(n_samples=100, n_features = 1, noise = 20, random_state=1)"
      ],
      "execution_count": 11,
      "outputs": []
    },
    {
      "cell_type": "code",
      "metadata": {
        "colab": {
          "base_uri": "https://localhost:8080/",
          "height": 265
        },
        "id": "adthKtdVQFl0",
        "outputId": "2789f73a-5cdb-42f3-83c1-87acedf40cae"
      },
      "source": [
        "#Visualización Datos generados\n",
        "plt.plot(X_numpy, y_numpy, 'ro')\n",
        "plt.show()"
      ],
      "execution_count": 7,
      "outputs": [
        {
          "output_type": "display_data",
          "data": {
            "image/png": "[encoded data removed]",
            "text/plain": [
              "<Figure size 432x288 with 1 Axes>"
            ]
          },
          "metadata": {
            "tags": [],
            "needs_background": "light"
          }
        }
      ]
    },
    {
      "cell_type": "markdown",
      "metadata": {
        "id": "adhgS6ZeKsDG"
      },
      "source": [
        "# Implementación Keras"
      ]
    },
    {
      "cell_type": "code",
      "metadata": {
        "id": "j_SnOZLE70QF"
      },
      "source": [
        "from keras.layers import Input, Dense\n",
        "from keras.models import Model\n",
        "import keras\n",
        "\n",
        "def regresion_lineal_keras(X, Y, dim = 1, num_ite = 50):\n",
        "  inputs = Input(shape=(dim,))\n",
        "  preds = Dense(1,activation='linear')(inputs)\n",
        "  model = Model(inputs=inputs,outputs=preds)\n",
        "  sgd=keras.optimizers.SGD(lr = 0.001)\n",
        "  model.compile(optimizer=sgd ,loss='mse',metrics=['mse'])\n",
        "  model.fit(X,Y, batch_size=1, epochs=num_ite, shuffle=False)\n",
        "  return  model.get_weights()"
      ],
      "execution_count": 2,
      "outputs": []
    },
    {
      "cell_type": "code",
      "metadata": {
        "colab": {
          "base_uri": "https://localhost:8080/"
        },
        "id": "3ypDuywMR57r",
        "outputId": "da94f96f-57d4-4d18-94d8-3121acf7814f"
      },
      "source": [
        "w, b = regresion_lineal_keras(X_numpy, y_numpy, dim = 1, num_ite = 200)"
      ],
      "execution_count": 21,
      "outputs": [
        {
          "output_type": "stream",
          "text": [
            "Epoch 1/200\n",
            "100/100 [==============================] - 0s 844us/step - loss: 4932.5154 - mse: 4932.5154\n",
            "Epoch 2/200\n",
            "100/100 [==============================] - 0s 788us/step - loss: 3652.4701 - mse: 3652.4701\n",
            "Epoch 3/200\n",
            "100/100 [==============================] - 0s 837us/step - loss: 2727.2608 - mse: 2727.2608\n",
            "Epoch 4/200\n",
            "100/100 [==============================] - 0s 877us/step - loss: 2058.0516 - mse: 2058.0516\n",
            "Epoch 5/200\n",
            "100/100 [==============================] - 0s 845us/step - loss: 1573.7393 - mse: 1573.7393\n",
            "Epoch 6/200\n",
            "100/100 [==============================] - 0s 963us/step - loss: 1223.0980 - mse: 1223.0980\n",
            "Epoch 7/200\n",
            "100/100 [==============================] - 0s 816us/step - loss: 969.1716 - mse: 969.1716\n",
            "Epoch 8/200\n",
            "100/100 [==============================] - 0s 917us/step - loss: 785.2740 - mse: 785.2740\n",
            "Epoch 9/200\n",
            "100/100 [==============================] - 0s 885us/step - loss: 652.1110 - mse: 652.1110\n",
            "Epoch 10/200\n",
            "100/100 [==============================] - 0s 865us/step - loss: 555.7197 - mse: 555.7197\n",
            "Epoch 11/200\n",
            "100/100 [==============================] - 0s 950us/step - loss: 485.9872 - mse: 485.9872\n",
            "Epoch 12/200\n",
            "100/100 [==============================] - 0s 799us/step - loss: 435.5844 - mse: 435.5844\n",
            "Epoch 13/200\n",
            "100/100 [==============================] - 0s 817us/step - loss: 399.1968 - mse: 399.1968\n",
            "Epoch 14/200\n",
            "100/100 [==============================] - 0s 902us/step - loss: 372.9690 - mse: 372.9690\n",
            "Epoch 15/200\n",
            "100/100 [==============================] - 0s 932us/step - loss: 354.1018 - mse: 354.1018\n",
            "Epoch 16/200\n",
            "100/100 [==============================] - 0s 978us/step - loss: 340.5640 - mse: 340.5640\n",
            "Epoch 17/200\n",
            "100/100 [==============================] - 0s 878us/step - loss: 330.8817 - mse: 330.8817\n",
            "Epoch 18/200\n",
            "100/100 [==============================] - 0s 917us/step - loss: 323.9849 - mse: 323.9849\n",
            "Epoch 19/200\n",
            "100/100 [==============================] - 0s 810us/step - loss: 319.0965 - mse: 319.0965\n",
            "Epoch 20/200\n",
            "100/100 [==============================] - 0s 797us/step - loss: 315.6538 - mse: 315.6538\n",
            "Epoch 21/200\n",
            "100/100 [==============================] - 0s 838us/step - loss: 313.2491 - mse: 313.2491\n",
            "Epoch 22/200\n",
            "100/100 [==============================] - 0s 864us/step - loss: 311.5868 - mse: 311.5868\n",
            "Epoch 23/200\n",
            "100/100 [==============================] - 0s 899us/step - loss: 310.4537 - mse: 310.4537\n",
            "Epoch 24/200\n",
            "100/100 [==============================] - 0s 972us/step - loss: 309.6957 - mse: 309.6957\n",
            "Epoch 25/200\n",
            "100/100 [==============================] - 0s 908us/step - loss: 309.2021 - mse: 309.2021\n",
            "Epoch 26/200\n",
            "100/100 [==============================] - 0s 1ms/step - loss: 308.8930 - mse: 308.8930\n",
            "Epoch 27/200\n",
            "100/100 [==============================] - 0s 1ms/step - loss: 308.7115 - mse: 308.7115\n",
            "Epoch 28/200\n",
            "100/100 [==============================] - 0s 875us/step - loss: 308.6170 - mse: 308.6170\n",
            "Epoch 29/200\n",
            "100/100 [==============================] - 0s 740us/step - loss: 308.5806 - mse: 308.5806\n",
            "Epoch 30/200\n",
            "100/100 [==============================] - 0s 900us/step - loss: 308.5821 - mse: 308.5821\n",
            "Epoch 31/200\n",
            "100/100 [==============================] - 0s 836us/step - loss: 308.6073 - mse: 308.6073\n",
            "Epoch 32/200\n",
            "100/100 [==============================] - 0s 766us/step - loss: 308.6463 - mse: 308.6463\n",
            "Epoch 33/200\n",
            "100/100 [==============================] - 0s 791us/step - loss: 308.6926 - mse: 308.6926\n",
            "Epoch 34/200\n",
            "100/100 [==============================] - 0s 910us/step - loss: 308.7416 - mse: 308.7416\n",
            "Epoch 35/200\n",
            "100/100 [==============================] - 0s 904us/step - loss: 308.7904 - mse: 308.7904\n",
            "Epoch 36/200\n",
            "100/100 [==============================] - 0s 784us/step - loss: 308.8372 - mse: 308.8372\n",
            "Epoch 37/200\n",
            "100/100 [==============================] - 0s 903us/step - loss: 308.8811 - mse: 308.8811\n",
            "Epoch 38/200\n",
            "100/100 [==============================] - 0s 834us/step - loss: 308.9212 - mse: 308.9212\n",
            "Epoch 39/200\n",
            "100/100 [==============================] - 0s 801us/step - loss: 308.9576 - mse: 308.9576\n",
            "Epoch 40/200\n",
            "100/100 [==============================] - 0s 796us/step - loss: 308.9902 - mse: 308.9902\n",
            "Epoch 41/200\n",
            "100/100 [==============================] - 0s 873us/step - loss: 309.0193 - mse: 309.0193\n",
            "Epoch 42/200\n",
            "100/100 [==============================] - 0s 876us/step - loss: 309.0449 - mse: 309.0449\n",
            "Epoch 43/200\n",
            "100/100 [==============================] - 0s 818us/step - loss: 309.0674 - mse: 309.0674\n",
            "Epoch 44/200\n",
            "100/100 [==============================] - 0s 826us/step - loss: 309.0870 - mse: 309.0870\n",
            "Epoch 45/200\n",
            "100/100 [==============================] - 0s 830us/step - loss: 309.1042 - mse: 309.1042\n",
            "Epoch 46/200\n",
            "100/100 [==============================] - 0s 830us/step - loss: 309.1191 - mse: 309.1191\n",
            "Epoch 47/200\n",
            "100/100 [==============================] - 0s 796us/step - loss: 309.1321 - mse: 309.1321\n",
            "Epoch 48/200\n",
            "100/100 [==============================] - 0s 808us/step - loss: 309.1432 - mse: 309.1432\n",
            "Epoch 49/200\n",
            "100/100 [==============================] - 0s 860us/step - loss: 309.1530 - mse: 309.1530\n",
            "Epoch 50/200\n",
            "100/100 [==============================] - 0s 962us/step - loss: 309.1613 - mse: 309.1613\n",
            "Epoch 51/200\n",
            "100/100 [==============================] - 0s 817us/step - loss: 309.1686 - mse: 309.1686\n",
            "Epoch 52/200\n",
            "100/100 [==============================] - 0s 854us/step - loss: 309.1748 - mse: 309.1748\n",
            "Epoch 53/200\n",
            "100/100 [==============================] - 0s 825us/step - loss: 309.1801 - mse: 309.1801\n",
            "Epoch 54/200\n",
            "100/100 [==============================] - 0s 877us/step - loss: 309.1847 - mse: 309.1847\n",
            "Epoch 55/200\n",
            "100/100 [==============================] - 0s 786us/step - loss: 309.1887 - mse: 309.1887\n",
            "Epoch 56/200\n",
            "100/100 [==============================] - 0s 763us/step - loss: 309.1920 - mse: 309.1920\n",
            "Epoch 57/200\n",
            "100/100 [==============================] - 0s 833us/step - loss: 309.1948 - mse: 309.1948\n",
            "Epoch 58/200\n",
            "100/100 [==============================] - 0s 774us/step - loss: 309.1973 - mse: 309.1973\n",
            "Epoch 59/200\n",
            "100/100 [==============================] - 0s 801us/step - loss: 309.1994 - mse: 309.1994\n",
            "Epoch 60/200\n",
            "100/100 [==============================] - 0s 866us/step - loss: 309.2011 - mse: 309.2011\n",
            "Epoch 61/200\n",
            "100/100 [==============================] - 0s 899us/step - loss: 309.2028 - mse: 309.2028\n",
            "Epoch 62/200\n",
            "100/100 [==============================] - 0s 820us/step - loss: 309.2041 - mse: 309.2041\n",
            "Epoch 63/200\n",
            "100/100 [==============================] - 0s 909us/step - loss: 309.2054 - mse: 309.2054\n",
            "Epoch 64/200\n",
            "100/100 [==============================] - 0s 827us/step - loss: 309.2063 - mse: 309.2063\n",
            "Epoch 65/200\n",
            "100/100 [==============================] - 0s 886us/step - loss: 309.2072 - mse: 309.2072\n",
            "Epoch 66/200\n",
            "100/100 [==============================] - 0s 804us/step - loss: 309.2079 - mse: 309.2079\n",
            "Epoch 67/200\n",
            "100/100 [==============================] - 0s 772us/step - loss: 309.2085 - mse: 309.2085\n",
            "Epoch 68/200\n",
            "100/100 [==============================] - 0s 829us/step - loss: 309.2090 - mse: 309.2090\n",
            "Epoch 69/200\n",
            "100/100 [==============================] - 0s 783us/step - loss: 309.2095 - mse: 309.2095\n",
            "Epoch 70/200\n",
            "100/100 [==============================] - 0s 950us/step - loss: 309.2098 - mse: 309.2098\n",
            "Epoch 71/200\n",
            "100/100 [==============================] - 0s 1ms/step - loss: 309.2102 - mse: 309.2102\n",
            "Epoch 72/200\n",
            "100/100 [==============================] - 0s 904us/step - loss: 309.2104 - mse: 309.2104\n",
            "Epoch 73/200\n",
            "100/100 [==============================] - 0s 825us/step - loss: 309.2107 - mse: 309.2107\n",
            "Epoch 74/200\n",
            "100/100 [==============================] - 0s 927us/step - loss: 309.2109 - mse: 309.2109\n",
            "Epoch 75/200\n",
            "100/100 [==============================] - 0s 812us/step - loss: 309.2110 - mse: 309.2110\n",
            "Epoch 76/200\n",
            "100/100 [==============================] - 0s 922us/step - loss: 309.2112 - mse: 309.2112\n",
            "Epoch 77/200\n",
            "100/100 [==============================] - 0s 851us/step - loss: 309.2114 - mse: 309.2114\n",
            "Epoch 78/200\n",
            "100/100 [==============================] - 0s 806us/step - loss: 309.2115 - mse: 309.2115\n",
            "Epoch 79/200\n",
            "100/100 [==============================] - 0s 854us/step - loss: 309.2116 - mse: 309.2116\n",
            "Epoch 80/200\n",
            "100/100 [==============================] - 0s 882us/step - loss: 309.2118 - mse: 309.2118\n",
            "Epoch 81/200\n",
            "100/100 [==============================] - 0s 1ms/step - loss: 309.2118 - mse: 309.2118\n",
            "Epoch 82/200\n",
            "100/100 [==============================] - 0s 971us/step - loss: 309.2118 - mse: 309.2118\n",
            "Epoch 83/200\n",
            "100/100 [==============================] - 0s 878us/step - loss: 309.2119 - mse: 309.2119\n",
            "Epoch 84/200\n",
            "100/100 [==============================] - 0s 851us/step - loss: 309.2119 - mse: 309.2119\n",
            "Epoch 85/200\n",
            "100/100 [==============================] - 0s 871us/step - loss: 309.2120 - mse: 309.2120\n",
            "Epoch 86/200\n",
            "100/100 [==============================] - 0s 873us/step - loss: 309.2119 - mse: 309.2119\n",
            "Epoch 87/200\n",
            "100/100 [==============================] - 0s 897us/step - loss: 309.2119 - mse: 309.2119\n",
            "Epoch 88/200\n",
            "100/100 [==============================] - 0s 884us/step - loss: 309.2120 - mse: 309.2120\n",
            "Epoch 89/200\n",
            "100/100 [==============================] - 0s 860us/step - loss: 309.2120 - mse: 309.2120\n",
            "Epoch 90/200\n",
            "100/100 [==============================] - 0s 809us/step - loss: 309.2120 - mse: 309.2120\n",
            "Epoch 91/200\n",
            "100/100 [==============================] - 0s 905us/step - loss: 309.2120 - mse: 309.2120\n",
            "Epoch 92/200\n",
            "100/100 [==============================] - 0s 964us/step - loss: 309.2120 - mse: 309.2120\n",
            "Epoch 93/200\n",
            "100/100 [==============================] - 0s 884us/step - loss: 309.2120 - mse: 309.2120\n",
            "Epoch 94/200\n",
            "100/100 [==============================] - 0s 1ms/step - loss: 309.2120 - mse: 309.2120\n",
            "Epoch 95/200\n",
            "100/100 [==============================] - 0s 873us/step - loss: 309.2120 - mse: 309.2120\n",
            "Epoch 96/200\n",
            "100/100 [==============================] - 0s 832us/step - loss: 309.2120 - mse: 309.2120\n",
            "Epoch 97/200\n",
            "100/100 [==============================] - 0s 804us/step - loss: 309.2120 - mse: 309.2120\n",
            "Epoch 98/200\n",
            "100/100 [==============================] - 0s 830us/step - loss: 309.2120 - mse: 309.2120\n",
            "Epoch 99/200\n",
            "100/100 [==============================] - 0s 835us/step - loss: 309.2120 - mse: 309.2120\n",
            "Epoch 100/200\n",
            "100/100 [==============================] - 0s 872us/step - loss: 309.2120 - mse: 309.2120\n",
            "Epoch 101/200\n",
            "100/100 [==============================] - 0s 839us/step - loss: 309.2120 - mse: 309.2120\n",
            "Epoch 102/200\n",
            "100/100 [==============================] - 0s 1ms/step - loss: 309.2120 - mse: 309.2120\n",
            "Epoch 103/200\n",
            "100/100 [==============================] - 0s 855us/step - loss: 309.2120 - mse: 309.2120\n",
            "Epoch 104/200\n",
            "100/100 [==============================] - 0s 863us/step - loss: 309.2120 - mse: 309.2120\n",
            "Epoch 105/200\n",
            "100/100 [==============================] - 0s 794us/step - loss: 309.2120 - mse: 309.2120\n",
            "Epoch 106/200\n",
            "100/100 [==============================] - 0s 899us/step - loss: 309.2120 - mse: 309.2120\n",
            "Epoch 107/200\n",
            "100/100 [==============================] - 0s 862us/step - loss: 309.2120 - mse: 309.2120\n",
            "Epoch 108/200\n",
            "100/100 [==============================] - 0s 924us/step - loss: 309.2120 - mse: 309.2120\n",
            "Epoch 109/200\n",
            "100/100 [==============================] - 0s 808us/step - loss: 309.2120 - mse: 309.2120\n",
            "Epoch 110/200\n",
            "100/100 [==============================] - 0s 871us/step - loss: 309.2120 - mse: 309.2120\n",
            "Epoch 111/200\n",
            "100/100 [==============================] - 0s 865us/step - loss: 309.2120 - mse: 309.2120\n",
            "Epoch 112/200\n",
            "100/100 [==============================] - 0s 796us/step - loss: 309.2120 - mse: 309.2120\n",
            "Epoch 113/200\n",
            "100/100 [==============================] - 0s 973us/step - loss: 309.2120 - mse: 309.2120\n",
            "Epoch 114/200\n",
            "100/100 [==============================] - 0s 825us/step - loss: 309.2120 - mse: 309.2120\n",
            "Epoch 115/200\n",
            "100/100 [==============================] - 0s 861us/step - loss: 309.2120 - mse: 309.2120\n",
            "Epoch 116/200\n",
            "100/100 [==============================] - 0s 810us/step - loss: 309.2120 - mse: 309.2120\n",
            "Epoch 117/200\n",
            "100/100 [==============================] - 0s 868us/step - loss: 309.2120 - mse: 309.2120\n",
            "Epoch 118/200\n",
            "100/100 [==============================] - 0s 814us/step - loss: 309.2120 - mse: 309.2120\n",
            "Epoch 119/200\n",
            "100/100 [==============================] - 0s 868us/step - loss: 309.2120 - mse: 309.2120\n",
            "Epoch 120/200\n",
            "100/100 [==============================] - 0s 824us/step - loss: 309.2120 - mse: 309.2120\n",
            "Epoch 121/200\n",
            "100/100 [==============================] - 0s 826us/step - loss: 309.2120 - mse: 309.2120\n",
            "Epoch 122/200\n",
            "100/100 [==============================] - 0s 825us/step - loss: 309.2120 - mse: 309.2120\n",
            "Epoch 123/200\n",
            "100/100 [==============================] - 0s 788us/step - loss: 309.2120 - mse: 309.2120\n",
            "Epoch 124/200\n",
            "100/100 [==============================] - 0s 935us/step - loss: 309.2120 - mse: 309.2120\n",
            "Epoch 125/200\n",
            "100/100 [==============================] - 0s 887us/step - loss: 309.2120 - mse: 309.2120\n",
            "Epoch 126/200\n",
            "100/100 [==============================] - 0s 912us/step - loss: 309.2120 - mse: 309.2120\n",
            "Epoch 127/200\n",
            "100/100 [==============================] - 0s 842us/step - loss: 309.2120 - mse: 309.2120\n",
            "Epoch 128/200\n",
            "100/100 [==============================] - 0s 858us/step - loss: 309.2120 - mse: 309.2120\n",
            "Epoch 129/200\n",
            "100/100 [==============================] - 0s 885us/step - loss: 309.2120 - mse: 309.2120\n",
            "Epoch 130/200\n",
            "100/100 [==============================] - 0s 829us/step - loss: 309.2120 - mse: 309.2120\n",
            "Epoch 131/200\n",
            "100/100 [==============================] - 0s 816us/step - loss: 309.2120 - mse: 309.2120\n",
            "Epoch 132/200\n",
            "100/100 [==============================] - 0s 948us/step - loss: 309.2120 - mse: 309.2120\n",
            "Epoch 133/200\n",
            "100/100 [==============================] - 0s 855us/step - loss: 309.2120 - mse: 309.2120\n",
            "Epoch 134/200\n",
            "100/100 [==============================] - 0s 899us/step - loss: 309.2120 - mse: 309.2120\n",
            "Epoch 135/200\n",
            "100/100 [==============================] - 0s 963us/step - loss: 309.2120 - mse: 309.2120\n",
            "Epoch 136/200\n",
            "100/100 [==============================] - 0s 954us/step - loss: 309.2120 - mse: 309.2120\n",
            "Epoch 137/200\n",
            "100/100 [==============================] - 0s 907us/step - loss: 309.2120 - mse: 309.2120\n",
            "Epoch 138/200\n",
            "100/100 [==============================] - 0s 872us/step - loss: 309.2120 - mse: 309.2120\n",
            "Epoch 139/200\n",
            "100/100 [==============================] - 0s 806us/step - loss: 309.2120 - mse: 309.2120\n",
            "Epoch 140/200\n",
            "100/100 [==============================] - 0s 799us/step - loss: 309.2120 - mse: 309.2120\n",
            "Epoch 141/200\n",
            "100/100 [==============================] - 0s 849us/step - loss: 309.2120 - mse: 309.2120\n",
            "Epoch 142/200\n",
            "100/100 [==============================] - 0s 847us/step - loss: 309.2120 - mse: 309.2120\n",
            "Epoch 143/200\n",
            "100/100 [==============================] - 0s 835us/step - loss: 309.2120 - mse: 309.2120\n",
            "Epoch 144/200\n",
            "100/100 [==============================] - 0s 789us/step - loss: 309.2120 - mse: 309.2120\n",
            "Epoch 145/200\n",
            "100/100 [==============================] - 0s 844us/step - loss: 309.2120 - mse: 309.2120\n",
            "Epoch 146/200\n",
            "100/100 [==============================] - 0s 1ms/step - loss: 309.2120 - mse: 309.2120\n",
            "Epoch 147/200\n",
            "100/100 [==============================] - 0s 867us/step - loss: 309.2120 - mse: 309.2120\n",
            "Epoch 148/200\n",
            "100/100 [==============================] - 0s 888us/step - loss: 309.2120 - mse: 309.2120\n",
            "Epoch 149/200\n",
            "100/100 [==============================] - 0s 876us/step - loss: 309.2120 - mse: 309.2120\n",
            "Epoch 150/200\n",
            "100/100 [==============================] - 0s 942us/step - loss: 309.2120 - mse: 309.2120\n",
            "Epoch 151/200\n",
            "100/100 [==============================] - 0s 881us/step - loss: 309.2120 - mse: 309.2120\n",
            "Epoch 152/200\n",
            "100/100 [==============================] - 0s 922us/step - loss: 309.2120 - mse: 309.2120\n",
            "Epoch 153/200\n",
            "100/100 [==============================] - 0s 837us/step - loss: 309.2120 - mse: 309.2120\n",
            "Epoch 154/200\n",
            "100/100 [==============================] - 0s 780us/step - loss: 309.2120 - mse: 309.2120\n",
            "Epoch 155/200\n",
            "100/100 [==============================] - 0s 957us/step - loss: 309.2120 - mse: 309.2120\n",
            "Epoch 156/200\n",
            "100/100 [==============================] - 0s 962us/step - loss: 309.2120 - mse: 309.2120\n",
            "Epoch 157/200\n",
            "100/100 [==============================] - 0s 860us/step - loss: 309.2120 - mse: 309.2120\n",
            "Epoch 158/200\n",
            "100/100 [==============================] - 0s 862us/step - loss: 309.2120 - mse: 309.2120\n",
            "Epoch 159/200\n",
            "100/100 [==============================] - 0s 865us/step - loss: 309.2120 - mse: 309.2120\n",
            "Epoch 160/200\n",
            "100/100 [==============================] - 0s 826us/step - loss: 309.2120 - mse: 309.2120\n",
            "Epoch 161/200\n",
            "100/100 [==============================] - 0s 904us/step - loss: 309.2120 - mse: 309.2120\n",
            "Epoch 162/200\n",
            "100/100 [==============================] - 0s 853us/step - loss: 309.2120 - mse: 309.2120\n",
            "Epoch 163/200\n",
            "100/100 [==============================] - 0s 928us/step - loss: 309.2120 - mse: 309.2120\n",
            "Epoch 164/200\n",
            "100/100 [==============================] - 0s 903us/step - loss: 309.2120 - mse: 309.2120\n",
            "Epoch 165/200\n",
            "100/100 [==============================] - 0s 839us/step - loss: 309.2120 - mse: 309.2120\n",
            "Epoch 166/200\n",
            "100/100 [==============================] - 0s 859us/step - loss: 309.2120 - mse: 309.2120\n",
            "Epoch 167/200\n",
            "100/100 [==============================] - 0s 893us/step - loss: 309.2120 - mse: 309.2120\n",
            "Epoch 168/200\n",
            "100/100 [==============================] - 0s 869us/step - loss: 309.2120 - mse: 309.2120\n",
            "Epoch 169/200\n",
            "100/100 [==============================] - 0s 877us/step - loss: 309.2120 - mse: 309.2120\n",
            "Epoch 170/200\n",
            "100/100 [==============================] - 0s 944us/step - loss: 309.2120 - mse: 309.2120\n",
            "Epoch 171/200\n",
            "100/100 [==============================] - 0s 905us/step - loss: 309.2120 - mse: 309.2120\n",
            "Epoch 172/200\n",
            "100/100 [==============================] - 0s 962us/step - loss: 309.2120 - mse: 309.2120\n",
            "Epoch 173/200\n",
            "100/100 [==============================] - 0s 972us/step - loss: 309.2120 - mse: 309.2120\n",
            "Epoch 174/200\n",
            "100/100 [==============================] - 0s 904us/step - loss: 309.2120 - mse: 309.2120\n",
            "Epoch 175/200\n",
            "100/100 [==============================] - 0s 889us/step - loss: 309.2120 - mse: 309.2120\n",
            "Epoch 176/200\n",
            "100/100 [==============================] - 0s 1ms/step - loss: 309.2120 - mse: 309.2120\n",
            "Epoch 177/200\n",
            "100/100 [==============================] - 0s 879us/step - loss: 309.2120 - mse: 309.2120\n",
            "Epoch 178/200\n",
            "100/100 [==============================] - 0s 889us/step - loss: 309.2120 - mse: 309.2120\n",
            "Epoch 179/200\n",
            "100/100 [==============================] - 0s 909us/step - loss: 309.2120 - mse: 309.2120\n",
            "Epoch 180/200\n",
            "100/100 [==============================] - 0s 891us/step - loss: 309.2120 - mse: 309.2120\n",
            "Epoch 181/200\n",
            "100/100 [==============================] - 0s 830us/step - loss: 309.2120 - mse: 309.2120\n",
            "Epoch 182/200\n",
            "100/100 [==============================] - 0s 818us/step - loss: 309.2120 - mse: 309.2120\n",
            "Epoch 183/200\n",
            "100/100 [==============================] - 0s 846us/step - loss: 309.2120 - mse: 309.2120\n",
            "Epoch 184/200\n",
            "100/100 [==============================] - 0s 811us/step - loss: 309.2120 - mse: 309.2120\n",
            "Epoch 185/200\n",
            "100/100 [==============================] - 0s 936us/step - loss: 309.2120 - mse: 309.2120\n",
            "Epoch 186/200\n",
            "100/100 [==============================] - 0s 960us/step - loss: 309.2120 - mse: 309.2120\n",
            "Epoch 187/200\n",
            "100/100 [==============================] - 0s 925us/step - loss: 309.2120 - mse: 309.2120\n",
            "Epoch 188/200\n",
            "100/100 [==============================] - 0s 909us/step - loss: 309.2120 - mse: 309.2120\n",
            "Epoch 189/200\n",
            "100/100 [==============================] - 0s 923us/step - loss: 309.2120 - mse: 309.2120\n",
            "Epoch 190/200\n",
            "100/100 [==============================] - 0s 831us/step - loss: 309.2120 - mse: 309.2120\n",
            "Epoch 191/200\n",
            "100/100 [==============================] - 0s 862us/step - loss: 309.2120 - mse: 309.2120\n",
            "Epoch 192/200\n",
            "100/100 [==============================] - 0s 835us/step - loss: 309.2120 - mse: 309.2120\n",
            "Epoch 193/200\n",
            "100/100 [==============================] - 0s 817us/step - loss: 309.2120 - mse: 309.2120\n",
            "Epoch 194/200\n",
            "100/100 [==============================] - 0s 879us/step - loss: 309.2120 - mse: 309.2120\n",
            "Epoch 195/200\n",
            "100/100 [==============================] - 0s 940us/step - loss: 309.2120 - mse: 309.2120\n",
            "Epoch 196/200\n",
            "100/100 [==============================] - 0s 948us/step - loss: 309.2120 - mse: 309.2120\n",
            "Epoch 197/200\n",
            "100/100 [==============================] - 0s 972us/step - loss: 309.2120 - mse: 309.2120\n",
            "Epoch 198/200\n",
            "100/100 [==============================] - 0s 941us/step - loss: 309.2120 - mse: 309.2120\n",
            "Epoch 199/200\n",
            "100/100 [==============================] - 0s 858us/step - loss: 309.2120 - mse: 309.2120\n",
            "Epoch 200/200\n",
            "100/100 [==============================] - 0s 880us/step - loss: 309.2120 - mse: 309.2120\n"
          ],
          "name": "stdout"
        }
      ]
    },
    {
      "cell_type": "code",
      "metadata": {
        "colab": {
          "base_uri": "https://localhost:8080/",
          "height": 213
        },
        "id": "K6VK4PLlS17d",
        "outputId": "bd538a64-67d0-4ab9-edfb-478486470d0c"
      },
      "source": [
        "fig = plt.figure(figsize=(4,3))\n",
        "plt.plot(X_numpy,y_numpy,'or',markersize=4)\n",
        "plt.plot(X,np.dot(X_numpy,w)+b)\n",
        "plt.show()"
      ],
      "execution_count": 22,
      "outputs": [
        {
          "output_type": "display_data",
          "data": {
            "image/png": "[encoded data removed]",
            "text/plain": [
              "<Figure size 288x216 with 1 Axes>"
            ]
          },
          "metadata": {
            "tags": [],
            "needs_background": "light"
          }
        }
      ]
    },
    {
      "cell_type": "code",
      "metadata": {
        "id": "DjwSOnBSKlhz"
      },
      "source": [
        "def regresion_lineal_keras_2(X, Y, dim = 1, num_ite = 50):\n",
        "\n",
        "  model = keras.Sequential([\n",
        "        Input(shape=(dim,)),\n",
        "        Dense(1, activation='linear')\n",
        "    ])\n",
        "  optmizer = keras.optimizers.SGD(learning_rate=0.001)\n",
        "  model.compile(optimizer=optimizer ,loss='mse',metrics=['mse'])\n",
        "  model.fit(X,Y, batch_size=1, epochs=num_ite, shuffle=False)\n",
        "  return  model.get_weights()"
      ],
      "execution_count": null,
      "outputs": []
    },
    {
      "cell_type": "markdown",
      "metadata": {
        "id": "7BFWypuXLa8Q"
      },
      "source": [
        "Explicación relacionada a la implementación"
      ]
    },
    {
      "cell_type": "markdown",
      "metadata": {
        "id": "dIg82wurLhx5"
      },
      "source": [
        "# Observación ajuste de parametros -- Helper"
      ]
    },
    {
      "cell_type": "markdown",
      "metadata": {
        "id": "DMdxO9n-KyvT"
      },
      "source": [
        "# Implementación Pytorch"
      ]
    },
    {
      "cell_type": "markdown",
      "metadata": {
        "id": "z5sLs-XkKPIE"
      },
      "source": [
        "1) Design Model\n",
        "2)Construct Loss and optimizer\n",
        "3)Training Loop: Forward pass, backward pass, update weights\n"
      ]
    },
    {
      "cell_type": "code",
      "metadata": {
        "id": "dNzXJRM5K6_3"
      },
      "source": [
        "import torch\n",
        "import torch.nn as nn"
      ],
      "execution_count": 9,
      "outputs": []
    },
    {
      "cell_type": "code",
      "metadata": {
        "id": "jW5cHFLTK21k"
      },
      "source": [
        "X = torch.from_numpy(X_numpy.astype(np.float32))\n",
        "y = torch.from_numpy(y_numpy.astype(np.float32))\n",
        "y = y.view(y.shape[0],1) ##reshape tensor\n",
        "\n",
        "n_samples, n_features = X.shape"
      ],
      "execution_count": 12,
      "outputs": []
    },
    {
      "cell_type": "code",
      "metadata": {
        "id": "GdyRdM0nK3M8"
      },
      "source": [
        "input_size = n_features\n",
        "output_size = 1\n",
        "model = nn.Linear(in_features = input_size, out_features = output_size )"
      ],
      "execution_count": 13,
      "outputs": []
    },
    {
      "cell_type": "code",
      "metadata": {
        "id": "33StE7p_K3ay"
      },
      "source": [
        "learning_rate = 0.01\n",
        "criterion = nn.MSELoss()\n",
        "optimizer = torch.optim.SGD(params= model.parameters(),lr = learning_rate)"
      ],
      "execution_count": 14,
      "outputs": []
    },
    {
      "cell_type": "code",
      "metadata": {
        "id": "ozVlRRbVNDz9",
        "colab": {
          "base_uri": "https://localhost:8080/"
        },
        "outputId": "58e91450-d7bc-4f4e-a57d-2fc7153df33f"
      },
      "source": [
        "num_epochs = 500\n",
        "for epoch in range(num_epochs):\n",
        "  #forward pass and loss\n",
        "  y_predicted = model(X)\n",
        "  loss = criterion(y_predicted, y)\n",
        "\n",
        "  #backward\n",
        "  loss.backward()\n",
        "\n",
        "  ##update\n",
        "  optimizer.step()\n",
        "\n",
        "  optimizer.zero_grad() ## clean gradients to next iteration\n",
        "\n",
        "  if(epoch+1) % 10 == 0:\n",
        "    print(f'epoch: {epoch + 1}, loss = {loss.item():.4f}')"
      ],
      "execution_count": 16,
      "outputs": [
        {
          "output_type": "stream",
          "text": [
            "epoch: 10, loss = 498.0992\n",
            "epoch: 20, loss = 453.3969\n",
            "epoch: 30, loss = 420.7984\n",
            "epoch: 40, loss = 397.0157\n",
            "epoch: 50, loss = 379.6577\n",
            "epoch: 60, loss = 366.9842\n",
            "epoch: 70, loss = 357.7278\n",
            "epoch: 80, loss = 350.9649\n",
            "epoch: 90, loss = 346.0226\n",
            "epoch: 100, loss = 342.4099\n",
            "epoch: 110, loss = 339.7684\n",
            "epoch: 120, loss = 337.8366\n",
            "epoch: 130, loss = 336.4236\n",
            "epoch: 140, loss = 335.3899\n",
            "epoch: 150, loss = 334.6335\n",
            "epoch: 160, loss = 334.0800\n",
            "epoch: 170, loss = 333.6750\n",
            "epoch: 180, loss = 333.3784\n",
            "epoch: 190, loss = 333.1613\n",
            "epoch: 200, loss = 333.0024\n",
            "epoch: 210, loss = 332.8860\n",
            "epoch: 220, loss = 332.8008\n",
            "epoch: 230, loss = 332.7384\n",
            "epoch: 240, loss = 332.6927\n",
            "epoch: 250, loss = 332.6592\n",
            "epoch: 260, loss = 332.6347\n",
            "epoch: 270, loss = 332.6168\n",
            "epoch: 280, loss = 332.6036\n",
            "epoch: 290, loss = 332.5939\n",
            "epoch: 300, loss = 332.5869\n",
            "epoch: 310, loss = 332.5817\n",
            "epoch: 320, loss = 332.5779\n",
            "epoch: 330, loss = 332.5752\n",
            "epoch: 340, loss = 332.5732\n",
            "epoch: 350, loss = 332.5717\n",
            "epoch: 360, loss = 332.5705\n",
            "epoch: 370, loss = 332.5698\n",
            "epoch: 380, loss = 332.5692\n",
            "epoch: 390, loss = 332.5688\n",
            "epoch: 400, loss = 332.5685\n",
            "epoch: 410, loss = 332.5682\n",
            "epoch: 420, loss = 332.5680\n",
            "epoch: 430, loss = 332.5679\n",
            "epoch: 440, loss = 332.5678\n",
            "epoch: 450, loss = 332.5677\n",
            "epoch: 460, loss = 332.5677\n",
            "epoch: 470, loss = 332.5677\n",
            "epoch: 480, loss = 332.5676\n",
            "epoch: 490, loss = 332.5677\n",
            "epoch: 500, loss = 332.5676\n"
          ],
          "name": "stdout"
        }
      ]
    },
    {
      "cell_type": "code",
      "metadata": {
        "colab": {
          "base_uri": "https://localhost:8080/",
          "height": 268
        },
        "id": "p662aAfXOXxA",
        "outputId": "7fea4c19-c249-4c0e-c4e8-ab563295b4cf"
      },
      "source": [
        "#plot\n",
        "predicted = model(X).detach().numpy() # detach --gradient argument set to false\n",
        "plt.plot(X_numpy, y_numpy, 'ro')\n",
        "plt.plot(X_numpy, predicted, 'b')\n",
        "plt.show()"
      ],
      "execution_count": 17,
      "outputs": [
        {
          "output_type": "display_data",
          "data": {
            "image/png": "[encoded data removed]",
            "text/plain": [
              "<Figure size 432x288 with 1 Axes>"
            ]
          },
          "metadata": {
            "tags": [],
            "needs_background": "light"
          }
        }
      ]
    },
    {
      "cell_type": "markdown",
      "metadata": {
        "id": "keWIBW2dK8Mc"
      },
      "source": [
        "# Explicación relacionada a la implementación"
      ]
    },
    {
      "cell_type": "code",
      "metadata": {
        "id": "u6UZ2nHbOXTY"
      },
      "source": [
        ""
      ],
      "execution_count": null,
      "outputs": []
    },
    {
      "cell_type": "code",
      "metadata": {
        "id": "nsMcqqG0LDi2"
      },
      "source": [
        ""
      ],
      "execution_count": null,
      "outputs": []
    },
    {
      "cell_type": "markdown",
      "metadata": {
        "id": "Y02UV9RsLE38"
      },
      "source": [
        "# Observación de ajuste de parametros -- Helper"
      ]
    },
    {
      "cell_type": "code",
      "metadata": {
        "id": "qSz_fhSPLXX2"
      },
      "source": [
        ""
      ],
      "execution_count": null,
      "outputs": []
    }
  ]
}