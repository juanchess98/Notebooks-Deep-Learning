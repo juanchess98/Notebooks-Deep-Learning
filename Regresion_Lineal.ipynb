{
  "nbformat": 4,
  "nbformat_minor": 0,
  "metadata": {
    "colab": {
      "name": "Regresion_Lineal.ipynb",
      "provenance": [],
      "collapsed_sections": [],
      "include_colab_link": true
    },
    "kernelspec": {
      "name": "python3",
      "display_name": "Python 3"
    },
    "language_info": {
      "name": "python"
    }
  },
  "cells": [
    {
      "cell_type": "markdown",
      "metadata": {
        "id": "view-in-github",
        "colab_type": "text"
      },
      "source": [
        "<a href=\"https://colab.research.google.com/github/juanchess98/Notebooks-Deep-Learning/blob/regresion-lineal/Regresion_Lineal.ipynb\" target=\"_parent\"><img src=\"https://colab.research.google.com/assets/colab-badge.svg\" alt=\"Open In Colab\"/></a>"
      ]
    },
    {
      "cell_type": "code",
      "metadata": {
        "id": "AczP6mv_D086"
      },
      "source": [
        "import numpy as np"
      ],
      "execution_count": null,
      "outputs": []
    },
    {
      "cell_type": "code",
      "metadata": {
        "id": "I0sgCYz2F03Z"
      },
      "source": [
        "import keras"
      ],
      "execution_count": null,
      "outputs": []
    },
    {
      "cell_type": "markdown",
      "metadata": {
        "id": "HsX-wD3lKcC7"
      },
      "source": [
        "# Teoria "
      ]
    },
    {
      "cell_type": "markdown",
      "metadata": {
        "id": "BqWO_FINKjYS"
      },
      "source": [
        "# Ilustración"
      ]
    },
    {
      "cell_type": "markdown",
      "metadata": {
        "id": "4cYukU5ZKin_"
      },
      "source": [
        ""
      ]
    },
    {
      "cell_type": "code",
      "metadata": {
        "id": "ALP6PfT4Khty"
      },
      "source": [
        "pass"
      ],
      "execution_count": 1,
      "outputs": []
    },
    {
      "cell_type": "markdown",
      "metadata": {
        "id": "adhgS6ZeKsDG"
      },
      "source": [
        "# Implementación Keras"
      ]
    },
    {
      "cell_type": "markdown",
      "metadata": {
        "id": "7BFWypuXLa8Q"
      },
      "source": [
        "Explicación relacionada a la implementación"
      ]
    },
    {
      "cell_type": "markdown",
      "metadata": {
        "id": "dIg82wurLhx5"
      },
      "source": [
        "# Observación ajuste de parametros -- Helper"
      ]
    },
    {
      "cell_type": "markdown",
      "metadata": {
        "id": "DMdxO9n-KyvT"
      },
      "source": [
        "# Implementación Pytorch"
      ]
    },
    {
      "cell_type": "code",
      "metadata": {
        "id": "dNzXJRM5K6_3"
      },
      "source": [
        ""
      ],
      "execution_count": null,
      "outputs": []
    },
    {
      "cell_type": "markdown",
      "metadata": {
        "id": "keWIBW2dK8Mc"
      },
      "source": [
        "# Explicación relacionada a la implementación"
      ]
    },
    {
      "cell_type": "code",
      "metadata": {
        "id": "nsMcqqG0LDi2"
      },
      "source": [
        ""
      ],
      "execution_count": null,
      "outputs": []
    },
    {
      "cell_type": "markdown",
      "metadata": {
        "id": "Y02UV9RsLE38"
      },
      "source": [
        "# Observación de ajuste de parametros -- Helper"
      ]
    },
    {
      "cell_type": "code",
      "metadata": {
        "id": "qSz_fhSPLXX2"
      },
      "source": [
        ""
      ],
      "execution_count": null,
      "outputs": []
    }
  ]
}